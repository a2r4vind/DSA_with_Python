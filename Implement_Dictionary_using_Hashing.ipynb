{
 "cells": [
  {
   "cell_type": "markdown",
   "id": "722c885a",
   "metadata": {},
   "source": [
    "# Implementing Dictionary using Hashing"
   ]
  },
  {
   "cell_type": "code",
   "execution_count": 2,
   "id": "b3f9107b",
   "metadata": {},
   "outputs": [],
   "source": [
    "# Linear Probing"
   ]
  },
  {
   "cell_type": "code",
   "execution_count": 13,
   "id": "e1f58752",
   "metadata": {},
   "outputs": [],
   "source": [
    "class Dictionary:\n",
    "    def __init__(self,size):\n",
    "        self.size = size\n",
    "        self.slots = [None] * self.size\n",
    "        self.data = [None] * self.size\n",
    "        \n",
    "    def hash_function(self,key):\n",
    "         return abs(hash(key)) % self.size\n",
    "    \n",
    "    def rehash(self, old_hash):\n",
    "        # linear probing\n",
    "        return (old_hash + 1) % self.size\n",
    "    \n",
    "    def put(self, key, value):\n",
    "        hash_value = self.hash_function(key)\n",
    "        \n",
    "        # check if at position indicated by hash value is already filled or not\n",
    "        if self.slots[hash_value] == None:\n",
    "            self.slots[hash_value] = key\n",
    "            self.data[hash_value] = value\n",
    "        else:\n",
    "            # check if key is already present or not\n",
    "            if self.slots[hash_value] == key:\n",
    "                self.data[hash_value] = value\n",
    "            else:\n",
    "                # reshashing\n",
    "                new_hash_value = self.rehash(hash_value)\n",
    "                \n",
    "                while self.slots[new_hash_value] != None and self.slots[new_hash_value] != key:\n",
    "                    new_hash_value = self.rehash(new_hash_value)\n",
    "                    \n",
    "                if self.slots[new_hash_value] == None:\n",
    "                    self.slots[new_hash_value] = key\n",
    "                    self.data[new_hash_value] = value\n",
    "                    \n",
    "                else:\n",
    "                    self.data[new_hash_value] = value\n",
    "                    \n",
    "    def __setitem__(self, key, value):\n",
    "        self.put(key,value)\n",
    "        \n",
    "    def get(self, key):\n",
    "        start_position = self.hash_function(key)\n",
    "        curr_position = start_position\n",
    "        \n",
    "        while self.slots[curr_position] != None:\n",
    "            if self.slots[curr_position] == key:\n",
    "                return self.data[curr_position]\n",
    "            \n",
    "            curr_position = self.rehash(curr_position)\n",
    "            \n",
    "            if curr_position == start_position:\n",
    "                return 'Not found!'\n",
    "        return 'Not Found None vala'\n",
    "    \n",
    "    def __getitem__(self,key):\n",
    "        return self.get(key)\n",
    "    \n",
    "    def __str__(self):\n",
    "        \n",
    "        for i in range(len(self.slots)):\n",
    "            if self.slots[i] != None:\n",
    "                print(self.slots[i],\":\",self.data[i],end=' ')\n",
    "                \n",
    "        return ''\n",
    "            "
   ]
  },
  {
   "cell_type": "code",
   "execution_count": 14,
   "id": "de1b6017",
   "metadata": {},
   "outputs": [],
   "source": [
    "d = Dictionary(5)"
   ]
  },
  {
   "cell_type": "code",
   "execution_count": 15,
   "id": "d3565937",
   "metadata": {},
   "outputs": [
    {
     "name": "stdout",
     "output_type": "stream",
     "text": [
      "\n"
     ]
    }
   ],
   "source": [
    "print(d)"
   ]
  },
  {
   "cell_type": "code",
   "execution_count": 16,
   "id": "059e9ddc",
   "metadata": {},
   "outputs": [],
   "source": [
    "d.put('A',10)"
   ]
  },
  {
   "cell_type": "code",
   "execution_count": 17,
   "id": "da185e0b",
   "metadata": {},
   "outputs": [],
   "source": [
    "d.put('B',20)"
   ]
  },
  {
   "cell_type": "code",
   "execution_count": 18,
   "id": "c60c8d2d",
   "metadata": {},
   "outputs": [],
   "source": [
    "d.put('C',30)"
   ]
  },
  {
   "cell_type": "code",
   "execution_count": 19,
   "id": "2282bb56",
   "metadata": {},
   "outputs": [
    {
     "name": "stdout",
     "output_type": "stream",
     "text": [
      "B : 20 A : 10 C : 30 \n"
     ]
    }
   ],
   "source": [
    "print(d)"
   ]
  },
  {
   "cell_type": "code",
   "execution_count": 20,
   "id": "6ab32f18",
   "metadata": {},
   "outputs": [
    {
     "name": "stdout",
     "output_type": "stream",
     "text": [
      "10\n"
     ]
    }
   ],
   "source": [
    "print(d['A'])"
   ]
  },
  {
   "cell_type": "code",
   "execution_count": 21,
   "id": "909256ea",
   "metadata": {},
   "outputs": [],
   "source": [
    "d['D'] = 40"
   ]
  },
  {
   "cell_type": "code",
   "execution_count": 22,
   "id": "1d1fc431",
   "metadata": {},
   "outputs": [
    {
     "name": "stdout",
     "output_type": "stream",
     "text": [
      "D : 40 B : 20 A : 10 C : 30 \n"
     ]
    }
   ],
   "source": [
    "print(d)"
   ]
  },
  {
   "cell_type": "code",
   "execution_count": 23,
   "id": "de6c45a3",
   "metadata": {},
   "outputs": [],
   "source": [
    "d['E'] = 50"
   ]
  },
  {
   "cell_type": "code",
   "execution_count": 24,
   "id": "27892b57",
   "metadata": {},
   "outputs": [
    {
     "name": "stdout",
     "output_type": "stream",
     "text": [
      "D : 40 E : 50 B : 20 A : 10 C : 30 \n"
     ]
    }
   ],
   "source": [
    "print(d)"
   ]
  },
  {
   "cell_type": "code",
   "execution_count": 26,
   "id": "34945954",
   "metadata": {},
   "outputs": [],
   "source": [
    "d['A'] = 1000"
   ]
  },
  {
   "cell_type": "code",
   "execution_count": 27,
   "id": "b177b535",
   "metadata": {},
   "outputs": [
    {
     "name": "stdout",
     "output_type": "stream",
     "text": [
      "D : 40 E : 50 B : 20 A : 1000 C : 30 \n"
     ]
    }
   ],
   "source": [
    "print(d)"
   ]
  },
  {
   "cell_type": "code",
   "execution_count": null,
   "id": "ae514154",
   "metadata": {},
   "outputs": [],
   "source": []
  }
 ],
 "metadata": {
  "kernelspec": {
   "display_name": "Python 3 (ipykernel)",
   "language": "python",
   "name": "python3"
  },
  "language_info": {
   "codemirror_mode": {
    "name": "ipython",
    "version": 3
   },
   "file_extension": ".py",
   "mimetype": "text/x-python",
   "name": "python",
   "nbconvert_exporter": "python",
   "pygments_lexer": "ipython3",
   "version": "3.12.3"
  }
 },
 "nbformat": 4,
 "nbformat_minor": 5
}
