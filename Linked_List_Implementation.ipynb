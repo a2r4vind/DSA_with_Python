{
 "cells": [
  {
   "cell_type": "markdown",
   "id": "949955d3",
   "metadata": {},
   "source": [
    "# Linked List Implementation\n"
   ]
  },
  {
   "cell_type": "code",
   "execution_count": 1,
   "id": "59263f3b",
   "metadata": {},
   "outputs": [],
   "source": [
    "class Node:\n",
    "    \n",
    "    def __init__(self,value):\n",
    "        self.data = value\n",
    "        self.next = None\n",
    "        "
   ]
  },
  {
   "cell_type": "code",
   "execution_count": 173,
   "id": "a6a7a032",
   "metadata": {},
   "outputs": [],
   "source": [
    "class LinkedList:\n",
    "    \n",
    "    def __init__(self):\n",
    "        # empty linked list => condition : Head = None\n",
    "        self.head = None\n",
    "        self.n = 0 # count of nodes in Linked List\n",
    "        \n",
    "    # length of Linked list = Number of nodes in Linked list\n",
    "    def __len__(self):\n",
    "        return self.n\n",
    "    \n",
    "    # insertion from head\n",
    "    def insert_head(self,value):\n",
    "        # new node\n",
    "        new_node = Node(value)\n",
    "        \n",
    "        # create connection\n",
    "        new_node.next = self.head\n",
    "        \n",
    "        #reassign\n",
    "        self.head = new_node\n",
    "        \n",
    "        # increment node count\n",
    "        self.n = self.n + 1\n",
    "        \n",
    "    # Linked list Traversal \n",
    "    def __str__(self):\n",
    "        if self.head == None:\n",
    "            return 'Linked List is Empty!'\n",
    "        # temp node\n",
    "        temp = self.head\n",
    "        \n",
    "        result = ''\n",
    "        \n",
    "        # to stop to the end of linked list (ie. tail)\n",
    "        while temp != None:\n",
    "            result = result + str(temp.data) + '->'\n",
    "            temp = temp.next\n",
    "        return result[:-2]\n",
    "    \n",
    "    # insert at Tail\n",
    "    def append(self,value):\n",
    "        # create new_node\n",
    "        new_node = Node(value)\n",
    "        \n",
    "        # if Linked List is empty \n",
    "        if self.head == None:\n",
    "            self.head = new_node\n",
    "            self.n = self.n + 1\n",
    "            return\n",
    "        \n",
    "        # if Linked List is not empty\n",
    "        temp = self.head\n",
    "        \n",
    "        while temp.next != None:\n",
    "            temp = temp.next\n",
    "            \n",
    "        # now temp is at last node\n",
    "        temp.next = new_node\n",
    "        self.n = self.n + 1\n",
    "        \n",
    "    # insertion in the middle\n",
    "    def insert_after(self,after,value):\n",
    "        new_node = Node(value)\n",
    "        \n",
    "        temp = self.head\n",
    "        \n",
    "        while temp != None:\n",
    "            if temp.data == after:\n",
    "                break\n",
    "            temp = temp.next\n",
    "        \n",
    "        # case-1: break executed => item is found and temp != None\n",
    "        if temp != None:\n",
    "            new_node.next = temp.next\n",
    "            temp.next = new_node\n",
    "            self.n = self.n + 1\n",
    "        else: # case 2: break not executed => item not found and temp == None\n",
    "            return 'Item not found.'\n",
    "        \n",
    "    # clear the Linked List:\n",
    "    def clear(self):\n",
    "        self.head = None\n",
    "        self.n = 0\n",
    "    \n",
    "    # delete from head(self):\n",
    "    def delete_head(self):\n",
    "        if self.head == None:\n",
    "            return 'Empty Linked List'\n",
    "        \n",
    "        self.head = self.head.next\n",
    "        self.n = self.n - 1\n",
    "        \n",
    "    # delete form tail ie. pop()\n",
    "    def pop(self):\n",
    "        \n",
    "        # empty Linked List\n",
    "        if self.head == None:\n",
    "            return 'Empty Linked List'\n",
    "        \n",
    "        temp = self.head\n",
    "        \n",
    "        # single node\n",
    "        if temp.next == None:\n",
    "            self.delete_head()\n",
    "            \n",
    "        while temp.next.next != None:\n",
    "            temp = temp.next\n",
    "        \n",
    "        # now at 2nd last node\n",
    "        temp.next = None\n",
    "        self.n = self.n - 1\n",
    "        \n",
    "    # remove by value\n",
    "    def remove(self,value):\n",
    "        if self.head == None:\n",
    "            return 'Empty Linked List'\n",
    "        \n",
    "        if self.head.data == value:\n",
    "            self.n = self.n - 1\n",
    "            return self.delete_head()\n",
    "        \n",
    "        temp = self.head\n",
    "        \n",
    "        while temp.next != None:\n",
    "            if temp.next.data == value:\n",
    "                break\n",
    "            temp = temp.next\n",
    "        \n",
    "        # if item not found\n",
    "        if temp.next == None:\n",
    "            return 'Item not found.'\n",
    "        else: # item found\n",
    "            temp.next = temp.next.next\n",
    "            self.n = self.n - 1\n",
    "    \n",
    "    #Search item\n",
    "    def search(self,item):\n",
    "        temp = self.head\n",
    "        pos = 0\n",
    "        \n",
    "        while temp != None:\n",
    "            if temp.data == item:\n",
    "                return pos\n",
    "            temp = temp.next\n",
    "            pos += 1\n",
    "        return 'Item not found'\n",
    "    \n",
    "    # Search by indexing\n",
    "    def __getitem__(self,index):\n",
    "        temp = self.head\n",
    "        pos = 0\n",
    "        \n",
    "        while temp != None:\n",
    "            if pos == index:\n",
    "                return temp.data\n",
    "            temp = temp.next\n",
    "            pos += 1\n",
    "        return 'IndexError - index out of range'"
   ]
  },
  {
   "cell_type": "code",
   "execution_count": 174,
   "id": "25fe6691",
   "metadata": {},
   "outputs": [],
   "source": [
    "L = LinkedList()"
   ]
  },
  {
   "cell_type": "code",
   "execution_count": 175,
   "id": "68736ff1",
   "metadata": {},
   "outputs": [
    {
     "data": {
      "text/plain": [
       "0"
      ]
     },
     "execution_count": 175,
     "metadata": {},
     "output_type": "execute_result"
    }
   ],
   "source": [
    "len(L)"
   ]
  },
  {
   "cell_type": "code",
   "execution_count": 176,
   "id": "d24973ba",
   "metadata": {},
   "outputs": [],
   "source": [
    "L.insert_head(1)\n",
    "L.insert_head(2)"
   ]
  },
  {
   "cell_type": "code",
   "execution_count": 177,
   "id": "09cb5e06",
   "metadata": {},
   "outputs": [
    {
     "data": {
      "text/plain": [
       "2"
      ]
     },
     "execution_count": 177,
     "metadata": {},
     "output_type": "execute_result"
    }
   ],
   "source": [
    "len(L)"
   ]
  },
  {
   "cell_type": "code",
   "execution_count": 178,
   "id": "d964e760",
   "metadata": {},
   "outputs": [
    {
     "name": "stdout",
     "output_type": "stream",
     "text": [
      "2->1\n"
     ]
    }
   ],
   "source": [
    "print(L)"
   ]
  },
  {
   "cell_type": "code",
   "execution_count": 179,
   "id": "448e45cd",
   "metadata": {},
   "outputs": [],
   "source": [
    "L.append(10)"
   ]
  },
  {
   "cell_type": "code",
   "execution_count": 180,
   "id": "57194bd9",
   "metadata": {},
   "outputs": [
    {
     "name": "stdout",
     "output_type": "stream",
     "text": [
      "2->1->10\n"
     ]
    }
   ],
   "source": [
    "print(L)"
   ]
  },
  {
   "cell_type": "code",
   "execution_count": 181,
   "id": "cbcf8f9b",
   "metadata": {},
   "outputs": [],
   "source": [
    "L.insert_after(1,7)"
   ]
  },
  {
   "cell_type": "code",
   "execution_count": 182,
   "id": "777d30fe",
   "metadata": {},
   "outputs": [
    {
     "name": "stdout",
     "output_type": "stream",
     "text": [
      "2->1->7->10\n"
     ]
    }
   ],
   "source": [
    "print(L)"
   ]
  },
  {
   "cell_type": "code",
   "execution_count": 183,
   "id": "21f31d45",
   "metadata": {},
   "outputs": [
    {
     "data": {
      "text/plain": [
       "'Item not found.'"
      ]
     },
     "execution_count": 183,
     "metadata": {},
     "output_type": "execute_result"
    }
   ],
   "source": [
    "L.insert_after(5,5)"
   ]
  },
  {
   "cell_type": "code",
   "execution_count": 184,
   "id": "71a2b046",
   "metadata": {},
   "outputs": [
    {
     "name": "stdout",
     "output_type": "stream",
     "text": [
      "2->1->7->10\n"
     ]
    }
   ],
   "source": [
    "print(L)"
   ]
  },
  {
   "cell_type": "code",
   "execution_count": 185,
   "id": "5a41d3ba",
   "metadata": {},
   "outputs": [],
   "source": [
    "L.delete_head()"
   ]
  },
  {
   "cell_type": "code",
   "execution_count": 186,
   "id": "9449a8a1",
   "metadata": {},
   "outputs": [
    {
     "name": "stdout",
     "output_type": "stream",
     "text": [
      "1->7->10\n"
     ]
    }
   ],
   "source": [
    "print(L)"
   ]
  },
  {
   "cell_type": "code",
   "execution_count": 187,
   "id": "4a804472",
   "metadata": {},
   "outputs": [],
   "source": [
    "L.pop()"
   ]
  },
  {
   "cell_type": "code",
   "execution_count": 188,
   "id": "d8e33442",
   "metadata": {},
   "outputs": [
    {
     "name": "stdout",
     "output_type": "stream",
     "text": [
      "1->7\n"
     ]
    }
   ],
   "source": [
    "print(L)"
   ]
  },
  {
   "cell_type": "code",
   "execution_count": 189,
   "id": "2395d4b8",
   "metadata": {},
   "outputs": [],
   "source": [
    "L.append(18)\n",
    "L.append(59)\n",
    "L.append(65)"
   ]
  },
  {
   "cell_type": "code",
   "execution_count": 190,
   "id": "1390406f",
   "metadata": {},
   "outputs": [
    {
     "name": "stdout",
     "output_type": "stream",
     "text": [
      "1->7->18->59->65\n"
     ]
    }
   ],
   "source": [
    "print(L)"
   ]
  },
  {
   "cell_type": "code",
   "execution_count": 191,
   "id": "7161d92a",
   "metadata": {},
   "outputs": [],
   "source": [
    "L.remove(18)"
   ]
  },
  {
   "cell_type": "code",
   "execution_count": 192,
   "id": "3d6f8526",
   "metadata": {},
   "outputs": [
    {
     "name": "stdout",
     "output_type": "stream",
     "text": [
      "1->7->59->65\n"
     ]
    }
   ],
   "source": [
    "print(L)"
   ]
  },
  {
   "cell_type": "code",
   "execution_count": 193,
   "id": "c911b441",
   "metadata": {},
   "outputs": [
    {
     "data": {
      "text/plain": [
       "'Item not found.'"
      ]
     },
     "execution_count": 193,
     "metadata": {},
     "output_type": "execute_result"
    }
   ],
   "source": [
    "L.remove(100)"
   ]
  },
  {
   "cell_type": "code",
   "execution_count": 194,
   "id": "579f17ce",
   "metadata": {},
   "outputs": [
    {
     "name": "stdout",
     "output_type": "stream",
     "text": [
      "1->7->59->65\n"
     ]
    }
   ],
   "source": [
    "print(L)"
   ]
  },
  {
   "cell_type": "code",
   "execution_count": 195,
   "id": "a551ed55",
   "metadata": {},
   "outputs": [
    {
     "data": {
      "text/plain": [
       "3"
      ]
     },
     "execution_count": 195,
     "metadata": {},
     "output_type": "execute_result"
    }
   ],
   "source": [
    "L.search(65)"
   ]
  },
  {
   "cell_type": "code",
   "execution_count": 196,
   "id": "a4128cee",
   "metadata": {},
   "outputs": [
    {
     "data": {
      "text/plain": [
       "'Item not found'"
      ]
     },
     "execution_count": 196,
     "metadata": {},
     "output_type": "execute_result"
    }
   ],
   "source": [
    "L.search(79)"
   ]
  },
  {
   "cell_type": "code",
   "execution_count": 197,
   "id": "769bc661",
   "metadata": {},
   "outputs": [
    {
     "data": {
      "text/plain": [
       "59"
      ]
     },
     "execution_count": 197,
     "metadata": {},
     "output_type": "execute_result"
    }
   ],
   "source": [
    "L[2]"
   ]
  },
  {
   "cell_type": "code",
   "execution_count": 198,
   "id": "21f81dfc",
   "metadata": {},
   "outputs": [
    {
     "data": {
      "text/plain": [
       "'IndexError - index out of range'"
      ]
     },
     "execution_count": 198,
     "metadata": {},
     "output_type": "execute_result"
    }
   ],
   "source": [
    "L[7]"
   ]
  },
  {
   "cell_type": "code",
   "execution_count": 81,
   "id": "df9f2fff",
   "metadata": {},
   "outputs": [],
   "source": [
    "L.clear()"
   ]
  },
  {
   "cell_type": "code",
   "execution_count": 82,
   "id": "5e954c96",
   "metadata": {},
   "outputs": [
    {
     "name": "stdout",
     "output_type": "stream",
     "text": [
      "Linked List is Empty!\n"
     ]
    }
   ],
   "source": [
    "print(L)"
   ]
  },
  {
   "cell_type": "markdown",
   "id": "bce58618",
   "metadata": {},
   "source": [
    "# Singly Linked List"
   ]
  },
  {
   "cell_type": "code",
   "execution_count": 1,
   "id": "b861f135",
   "metadata": {},
   "outputs": [
    {
     "name": "stdout",
     "output_type": "stream",
     "text": [
      "10->20->30->40->50->"
     ]
    }
   ],
   "source": [
    "class Node:\n",
    "    \n",
    "    def __init__(self,value):\n",
    "        self.data = value\n",
    "        self.next = None\n",
    "        \n",
    "\n",
    "head = Node(10) # first node\n",
    "\n",
    "head.next = Node(20) # second node\n",
    "\n",
    "head.next.next = Node(30) # third node\n",
    "\n",
    "head.next.next.next = Node(40) # fourth node\n",
    "\n",
    "head.next.next.next.next = Node(50) # fifth node\n",
    "\n",
    "curr = head\n",
    "\n",
    "while curr is not None:\n",
    "    print(curr.data, end=\"->\")\n",
    "    curr = curr.next\n",
    "    "
   ]
  },
  {
   "cell_type": "markdown",
   "id": "a63e4a69",
   "metadata": {},
   "source": [
    "# Doubly Linked List"
   ]
  },
  {
   "cell_type": "code",
   "execution_count": 3,
   "id": "9ebba8c1",
   "metadata": {},
   "outputs": [],
   "source": [
    "class Node:\n",
    "    \n",
    "    def __init__(self,value):\n",
    "        self.data = value\n",
    "        self.prev = None # pointer to the previous node\n",
    "        self.next = None # pointer to the next node\n",
    "        "
   ]
  },
  {
   "cell_type": "code",
   "execution_count": 4,
   "id": "72a92192",
   "metadata": {},
   "outputs": [],
   "source": [
    "head = Node(10)"
   ]
  },
  {
   "cell_type": "code",
   "execution_count": 5,
   "id": "c691244e",
   "metadata": {},
   "outputs": [],
   "source": [
    "head.next = Node(20)\n",
    "head.next.prev = head"
   ]
  },
  {
   "cell_type": "code",
   "execution_count": 6,
   "id": "6930bb4c",
   "metadata": {},
   "outputs": [],
   "source": [
    "head.next.next = Node(30)\n",
    "head.next.next.prev = head.next"
   ]
  },
  {
   "cell_type": "code",
   "execution_count": 7,
   "id": "c6744b6b",
   "metadata": {},
   "outputs": [],
   "source": [
    "head.next.next.next = Node(40)\n",
    "head.next.next.next.prev = head.next.next"
   ]
  },
  {
   "cell_type": "code",
   "execution_count": 8,
   "id": "2fb30882",
   "metadata": {},
   "outputs": [
    {
     "name": "stdout",
     "output_type": "stream",
     "text": [
      "10<->20<->30<->40"
     ]
    }
   ],
   "source": [
    "temp = head\n",
    "while temp is not None:\n",
    "    print(temp.data,end=\"\")\n",
    "    if temp.next is not None:\n",
    "        print(\"<->\", end='')\n",
    "    temp = temp.next"
   ]
  },
  {
   "cell_type": "markdown",
   "id": "16f815e0",
   "metadata": {},
   "source": [
    "# Circular Linked List"
   ]
  },
  {
   "cell_type": "code",
   "execution_count": 2,
   "id": "76b6e770",
   "metadata": {},
   "outputs": [],
   "source": [
    "class Node:\n",
    "    \n",
    "    def __init__(self,value):\n",
    "        self.data = value\n",
    "        self.next = None\n",
    "        "
   ]
  },
  {
   "cell_type": "code",
   "execution_count": 3,
   "id": "dbe6ea9a",
   "metadata": {},
   "outputs": [],
   "source": [
    "head = Node(10)"
   ]
  },
  {
   "cell_type": "code",
   "execution_count": null,
   "id": "d1b90aec",
   "metadata": {},
   "outputs": [],
   "source": [
    "head.next = Node(20) # second node\n",
    "\n",
    "head.next.next = Node(30) # third node\n",
    "\n",
    "head.next.next.next = Node(40) # fourth node\n",
    "\n",
    "head.next.next.next.next = Node(50) # fifth node\n",
    "\n",
    "head.next.next.next.next.next = head # linking last node with the first node"
   ]
  }
 ],
 "metadata": {
  "kernelspec": {
   "display_name": "Python 3 (ipykernel)",
   "language": "python",
   "name": "python3"
  },
  "language_info": {
   "codemirror_mode": {
    "name": "ipython",
    "version": 3
   },
   "file_extension": ".py",
   "mimetype": "text/x-python",
   "name": "python",
   "nbconvert_exporter": "python",
   "pygments_lexer": "ipython3",
   "version": "3.12.3"
  }
 },
 "nbformat": 4,
 "nbformat_minor": 5
}
