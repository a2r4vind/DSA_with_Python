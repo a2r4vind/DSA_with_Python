{
 "cells": [
  {
   "cell_type": "code",
   "execution_count": 25,
   "id": "0f28c8e2",
   "metadata": {},
   "outputs": [],
   "source": [
    "class Stack:\n",
    "    def __init__(self,size):\n",
    "        self.size = size\n",
    "        self.__stack = [None] * self.size\n",
    "        self.top = -1\n",
    "        \n",
    "    def isempty(self):\n",
    "        return self.top == -1\n",
    "        \n",
    "    def push(self,value):\n",
    "        if self.top == self.size - 1:\n",
    "            return 'OverFlow!'\n",
    "        else:\n",
    "            self.top += 1\n",
    "            self.__stack[self.top] = value\n",
    "            \n",
    "    def pop(self):\n",
    "        if self.isempty():\n",
    "            return 'Empty'\n",
    "        else:\n",
    "            data = self.__stack[self.top]\n",
    "            self.top -= 1\n",
    "            print(data)\n",
    "            \n",
    "    def traverse(self):\n",
    "        if self.isempty():\n",
    "            return 'Empty!'\n",
    "        for i in range(self.top + 1):\n",
    "            print(self.__stack[i], end=' ')\n",
    "            \n",
    "    def peek(self):\n",
    "        if self.isempty():\n",
    "            return 'Stack Empty'\n",
    "        else:\n",
    "            return self.__stack[self.top]\n",
    "        \n",
    "        \n",
    "    def length(self):\n",
    "        return self.top + 1\n",
    "        "
   ]
  },
  {
   "cell_type": "code",
   "execution_count": 26,
   "id": "aaf85e82",
   "metadata": {},
   "outputs": [],
   "source": [
    "st = Stack(5)"
   ]
  },
  {
   "cell_type": "code",
   "execution_count": 29,
   "id": "df312b8e",
   "metadata": {},
   "outputs": [
    {
     "data": {
      "text/plain": [
       "'Stack Empty'"
      ]
     },
     "execution_count": 29,
     "metadata": {},
     "output_type": "execute_result"
    }
   ],
   "source": [
    "st.peek()"
   ]
  },
  {
   "cell_type": "code",
   "execution_count": 30,
   "id": "c42e3e07",
   "metadata": {},
   "outputs": [],
   "source": [
    "st.push(1)\n",
    "st.push(2)\n",
    "st.push(3)"
   ]
  },
  {
   "cell_type": "code",
   "execution_count": 31,
   "id": "6855abf8",
   "metadata": {},
   "outputs": [
    {
     "name": "stdout",
     "output_type": "stream",
     "text": [
      "1 2 3 "
     ]
    }
   ],
   "source": [
    "st.traverse()"
   ]
  },
  {
   "cell_type": "code",
   "execution_count": 15,
   "id": "2b0ae3d5",
   "metadata": {},
   "outputs": [
    {
     "name": "stdout",
     "output_type": "stream",
     "text": [
      "3\n"
     ]
    }
   ],
   "source": [
    "st.pop()"
   ]
  },
  {
   "cell_type": "code",
   "execution_count": 18,
   "id": "8aaf8797",
   "metadata": {},
   "outputs": [
    {
     "data": {
      "text/plain": [
       "False"
      ]
     },
     "execution_count": 18,
     "metadata": {},
     "output_type": "execute_result"
    }
   ],
   "source": [
    "st.isempty()"
   ]
  },
  {
   "cell_type": "code",
   "execution_count": 17,
   "id": "244776e2",
   "metadata": {},
   "outputs": [
    {
     "name": "stdout",
     "output_type": "stream",
     "text": [
      "2\n"
     ]
    }
   ],
   "source": [
    "st.pop()"
   ]
  },
  {
   "cell_type": "code",
   "execution_count": 18,
   "id": "aa63cc32",
   "metadata": {},
   "outputs": [
    {
     "name": "stdout",
     "output_type": "stream",
     "text": [
      "1\n"
     ]
    }
   ],
   "source": [
    "st.pop()"
   ]
  },
  {
   "cell_type": "code",
   "execution_count": 19,
   "id": "aeb91e1f",
   "metadata": {},
   "outputs": [
    {
     "name": "stdout",
     "output_type": "stream",
     "text": [
      "1\n"
     ]
    }
   ],
   "source": [
    "st.pop()"
   ]
  },
  {
   "cell_type": "code",
   "execution_count": 20,
   "id": "15e33963",
   "metadata": {},
   "outputs": [
    {
     "data": {
      "text/plain": [
       "'Empty'"
      ]
     },
     "execution_count": 20,
     "metadata": {},
     "output_type": "execute_result"
    }
   ],
   "source": [
    "st.pop()"
   ]
  },
  {
   "cell_type": "code",
   "execution_count": 19,
   "id": "26d51984",
   "metadata": {},
   "outputs": [
    {
     "data": {
      "text/plain": [
       "5"
      ]
     },
     "execution_count": 19,
     "metadata": {},
     "output_type": "execute_result"
    }
   ],
   "source": [
    "st.size"
   ]
  },
  {
   "cell_type": "code",
   "execution_count": 32,
   "id": "d59baeec",
   "metadata": {},
   "outputs": [
    {
     "name": "stdout",
     "output_type": "stream",
     "text": [
      "1 2 3 "
     ]
    }
   ],
   "source": [
    "st.traverse()"
   ]
  },
  {
   "cell_type": "code",
   "execution_count": 33,
   "id": "d4904ad3",
   "metadata": {},
   "outputs": [
    {
     "data": {
      "text/plain": [
       "3"
      ]
     },
     "execution_count": 33,
     "metadata": {},
     "output_type": "execute_result"
    }
   ],
   "source": [
    "st.length()"
   ]
  },
  {
   "cell_type": "code",
   "execution_count": 8,
   "id": "2de2a76f",
   "metadata": {},
   "outputs": [],
   "source": [
    "# valid parentheses\n",
    "\n",
    "def isValid(s):\n",
    "    \n",
    "    heapMap = {')':'(',']':'[','}':'{'}\n",
    "    \n",
    "    stack = []\n",
    "    \n",
    "    for c in s:\n",
    "        if c not in heapMap:\n",
    "            stack.append(c)\n",
    "        else:\n",
    "            if stack :\n",
    "                popped = stack.pop()\n",
    "                if heapMap[c] != popped:\n",
    "                    return False\n",
    "            else:\n",
    "                  return False  \n",
    "            \n",
    "    return True if len(stack) == 0 else False"
   ]
  },
  {
   "cell_type": "code",
   "execution_count": 2,
   "id": "292e6468",
   "metadata": {},
   "outputs": [
    {
     "data": {
      "text/plain": [
       "True"
      ]
     },
     "execution_count": 2,
     "metadata": {},
     "output_type": "execute_result"
    }
   ],
   "source": [
    "s1 = \"()\"\n",
    "isValid(s1)"
   ]
  },
  {
   "cell_type": "code",
   "execution_count": 3,
   "id": "26e0a6de",
   "metadata": {},
   "outputs": [
    {
     "data": {
      "text/plain": [
       "True"
      ]
     },
     "execution_count": 3,
     "metadata": {},
     "output_type": "execute_result"
    }
   ],
   "source": [
    "s2 = \"()[]{}\"\n",
    "isValid(s2)"
   ]
  },
  {
   "cell_type": "code",
   "execution_count": 4,
   "id": "a314b955",
   "metadata": {},
   "outputs": [
    {
     "data": {
      "text/plain": [
       "False"
      ]
     },
     "execution_count": 4,
     "metadata": {},
     "output_type": "execute_result"
    }
   ],
   "source": [
    "s3 = \"(]\"\n",
    "isValid(s3)"
   ]
  },
  {
   "cell_type": "code",
   "execution_count": 5,
   "id": "076cb4df",
   "metadata": {},
   "outputs": [
    {
     "data": {
      "text/plain": [
       "True"
      ]
     },
     "execution_count": 5,
     "metadata": {},
     "output_type": "execute_result"
    }
   ],
   "source": [
    "s4 = \"([])\"\n",
    "isValid(s4)"
   ]
  },
  {
   "cell_type": "code",
   "execution_count": 6,
   "id": "559d5623",
   "metadata": {},
   "outputs": [
    {
     "data": {
      "text/plain": [
       "False"
      ]
     },
     "execution_count": 6,
     "metadata": {},
     "output_type": "execute_result"
    }
   ],
   "source": [
    "s5 = \"([)]\"\n",
    "isValid(s5)"
   ]
  },
  {
   "cell_type": "code",
   "execution_count": 9,
   "id": "36412d32",
   "metadata": {},
   "outputs": [
    {
     "data": {
      "text/plain": [
       "False"
      ]
     },
     "execution_count": 9,
     "metadata": {},
     "output_type": "execute_result"
    }
   ],
   "source": [
    "s6 = \"([])}\" # opening < closing\n",
    "isValid(s6)"
   ]
  },
  {
   "cell_type": "code",
   "execution_count": 10,
   "id": "3683ab9f",
   "metadata": {},
   "outputs": [
    {
     "data": {
      "text/plain": [
       "False"
      ]
     },
     "execution_count": 10,
     "metadata": {},
     "output_type": "execute_result"
    }
   ],
   "source": [
    "s7 = \"[{()}\" # opening > closing\n",
    "isValid(s7)"
   ]
  },
  {
   "cell_type": "code",
   "execution_count": null,
   "id": "ef10b783",
   "metadata": {},
   "outputs": [],
   "source": []
  }
 ],
 "metadata": {
  "kernelspec": {
   "display_name": "Python 3 (ipykernel)",
   "language": "python",
   "name": "python3"
  },
  "language_info": {
   "codemirror_mode": {
    "name": "ipython",
    "version": 3
   },
   "file_extension": ".py",
   "mimetype": "text/x-python",
   "name": "python",
   "nbconvert_exporter": "python",
   "pygments_lexer": "ipython3",
   "version": "3.12.3"
  }
 },
 "nbformat": 4,
 "nbformat_minor": 5
}
