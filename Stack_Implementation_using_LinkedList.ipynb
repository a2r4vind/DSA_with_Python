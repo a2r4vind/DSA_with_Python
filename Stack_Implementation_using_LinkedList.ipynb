{
 "cells": [
  {
   "cell_type": "markdown",
   "id": "6cf4e6fb",
   "metadata": {},
   "source": [
    "# Stack implementation using Linked List"
   ]
  },
  {
   "cell_type": "code",
   "execution_count": 1,
   "id": "7edc4cb2",
   "metadata": {},
   "outputs": [],
   "source": [
    "class Node:\n",
    "    \n",
    "    def __init__(self,value):\n",
    "        self.data = value\n",
    "        self.next = None\n",
    "        "
   ]
  },
  {
   "cell_type": "code",
   "execution_count": 6,
   "id": "8c430efe",
   "metadata": {},
   "outputs": [],
   "source": [
    "class Stack:\n",
    "    \n",
    "    def __init__(self):\n",
    "        self.top = None\n",
    "        \n",
    "    def isempty(self):\n",
    "        return self.top == None\n",
    "    \n",
    "    def push(self, value):\n",
    "        new_node = Node(value)\n",
    "        new_node.next = self.top\n",
    "        self.top = new_node\n",
    "    \n",
    "    def traverse(self):\n",
    "        if (self.isempty()):\n",
    "            return 'Stack is empty'\n",
    "        else:\n",
    "            temp = self.top\n",
    "            \n",
    "            while temp != None:\n",
    "                print(temp.data)\n",
    "                temp = temp.next\n",
    "    \n",
    "    def peek(self):\n",
    "        if (self.isempty()):\n",
    "            return 'Stack is empty'\n",
    "        else:\n",
    "            return self.top.data\n",
    "    \n",
    "    def pop(self):\n",
    "        if (self.isempty()):\n",
    "            return 'Stack is empty'\n",
    "        else:\n",
    "            popped_element = self.top.data\n",
    "            self.top = self.top.next\n",
    "            return popped_element\n",
    "    \n",
    "    def size(self):\n",
    "        counter = 0\n",
    "        if (self.isempty()):\n",
    "            return counter\n",
    "        else:\n",
    "            temp = self.top\n",
    "            \n",
    "            while temp != None:\n",
    "                counter += 1\n",
    "                temp = temp.next\n",
    "            return counter\n",
    "        \n",
    "    "
   ]
  },
  {
   "cell_type": "markdown",
   "id": "d5e4d7ca",
   "metadata": {},
   "source": [
    "Q. Write a Python program to reverse a string using stack as a data structure ( though it is not a good choice )"
   ]
  },
  {
   "cell_type": "code",
   "execution_count": 7,
   "id": "ab84f4c6",
   "metadata": {},
   "outputs": [],
   "source": [
    "def reverse_string_using_Stack(s):\n",
    "    '''Reverses the given string.'''\n",
    "    \n",
    "    st = Stack()\n",
    "    \n",
    "    for i in s:\n",
    "        st.push(i)\n",
    "        \n",
    "    result = ''\n",
    "    \n",
    "    while (not st.isempty()):\n",
    "        result += st.pop()\n",
    "    \n",
    "    return result\n",
    "    "
   ]
  },
  {
   "cell_type": "code",
   "execution_count": 8,
   "id": "db113bf1",
   "metadata": {},
   "outputs": [
    {
     "name": "stdout",
     "output_type": "stream",
     "text": [
      "olleH\n"
     ]
    }
   ],
   "source": [
    "x = 'Hello'\n",
    "print(reverse_string_using_Stack(x))"
   ]
  },
  {
   "cell_type": "markdown",
   "id": "7d0dfd6f",
   "metadata": {},
   "source": [
    "Q. Text Editor Problem:\n",
    "For i/p : 'Hello'\n",
    "and operation pattern : 'uuuruur' where 'u' and 'r' is UNDO and REDO operations respectively.\n",
    "O/p : 'He'"
   ]
  },
  {
   "cell_type": "code",
   "execution_count": 9,
   "id": "d9653be5",
   "metadata": {},
   "outputs": [],
   "source": [
    "def text_editor(text, pattern):\n",
    "    \n",
    "    u = Stack()\n",
    "    r = Stack()\n",
    "    \n",
    "    for i in text:\n",
    "        u.push(i)\n",
    "        \n",
    "    for i in pattern:\n",
    "        if i == 'u':\n",
    "            data = u.pop()\n",
    "            r.push(data)\n",
    "        else:\n",
    "            data = r.pop()\n",
    "            u.push(data)\n",
    "            \n",
    "    result = ''\n",
    "    \n",
    "    while (not u.isempty()):\n",
    "        result = u.pop() + result\n",
    "    \n",
    "    return result"
   ]
  },
  {
   "cell_type": "code",
   "execution_count": 10,
   "id": "90e6df34",
   "metadata": {},
   "outputs": [
    {
     "name": "stdout",
     "output_type": "stream",
     "text": [
      "He\n"
     ]
    }
   ],
   "source": [
    "t = 'Hello'\n",
    "p = 'uuuruur'\n",
    "print(text_editor(t,p))"
   ]
  },
  {
   "cell_type": "markdown",
   "id": "5f558c57",
   "metadata": {},
   "source": [
    "Q. Balanced Parantheses problem:\n",
    "for i/p : '(((())(())(())'\n",
    "o/p : ' Unbalanced '\n"
   ]
  },
  {
   "cell_type": "code",
   "execution_count": 15,
   "id": "b582734c",
   "metadata": {},
   "outputs": [],
   "source": [
    "def check_balanced_parantheses(parantheses_string):\n",
    "    \n",
    "    open_stack = Stack()\n",
    "    closed_stack = Stack()\n",
    "    \n",
    "    for i in parantheses_string:\n",
    "        if i == '(':\n",
    "            open_stack.push(i)\n",
    "        else:\n",
    "            closed_stack.push(i)\n",
    "    for i in range(max(open_stack.size(),closed_stack.size())):\n",
    "        if ( open_stack.size() != 0 and closed_stack.size() != 0):\n",
    "            open_stack.pop()\n",
    "            closed_stack.pop()\n",
    "            \n",
    "    if (open_stack.size() == 0 and closed_stack.size() != 0) or (open_stack.size() !=0 and closed_stack.size() == 0):\n",
    "        return 'Unbalanced'\n",
    "    else:\n",
    "        return 'Balanced'"
   ]
  },
  {
   "cell_type": "code",
   "execution_count": 18,
   "id": "f9529e08",
   "metadata": {},
   "outputs": [
    {
     "name": "stdout",
     "output_type": "stream",
     "text": [
      "Balanced\n"
     ]
    }
   ],
   "source": [
    "p = '()(()())(())()'\n",
    "print(check_balanced_parantheses(p))"
   ]
  },
  {
   "cell_type": "code",
   "execution_count": null,
   "id": "b679ed23",
   "metadata": {},
   "outputs": [],
   "source": []
  }
 ],
 "metadata": {
  "kernelspec": {
   "display_name": "Python 3 (ipykernel)",
   "language": "python",
   "name": "python3"
  },
  "language_info": {
   "codemirror_mode": {
    "name": "ipython",
    "version": 3
   },
   "file_extension": ".py",
   "mimetype": "text/x-python",
   "name": "python",
   "nbconvert_exporter": "python",
   "pygments_lexer": "ipython3",
   "version": "3.12.3"
  }
 },
 "nbformat": 4,
 "nbformat_minor": 5
}
