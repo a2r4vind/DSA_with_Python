{
 "cells": [
  {
   "cell_type": "markdown",
   "id": "1001533c",
   "metadata": {},
   "source": [
    "# Implementing Python list using Ctype arrays ( Dynamic Arrays)"
   ]
  },
  {
   "cell_type": "code",
   "execution_count": 3,
   "id": "ef80c287",
   "metadata": {},
   "outputs": [],
   "source": [
    "import ctypes"
   ]
  },
  {
   "cell_type": "code",
   "execution_count": 4,
   "id": "3406784a",
   "metadata": {},
   "outputs": [],
   "source": [
    "class MyList:\n",
    "    \n",
    "    # Initialize the list\n",
    "    def __init__(self):\n",
    "        self.size = 1\n",
    "        self.n = 0\n",
    "        # create a ctype array with size = size\n",
    "        self.A  = self.__make_array(self.size)\n",
    "    \n",
    "    # Make a ctype array\n",
    "    def __make_array(self, capacity):\n",
    "        # create a ctype array with size capacity\n",
    "        return (capacity*ctypes.py_object)()\n",
    "    \n",
    "    # length of list\n",
    "    def __len__(self):\n",
    "        return self.n\n",
    "    \n",
    "    # append the value to the list\n",
    "    def append(self, value):\n",
    "        if self.n == self.size:\n",
    "            # resize\n",
    "            self.__resize(self.size*2)\n",
    "        \n",
    "        # append\n",
    "        self.A[self.n] = value\n",
    "        self.n = self.n + 1\n",
    "    \n",
    "    # resize the existing array to increase the space in DS\n",
    "    def __resize(self, new_capacity):\n",
    "        # create a new array with new_capacity\n",
    "        B = self.__make_array(new_capacity)\n",
    "        self.size = new_capacity\n",
    "        # copy the data from A -> B\n",
    "        for i in range(self.n):\n",
    "            B[i] = self.A[i]\n",
    "        #reassign\n",
    "        self.A = B\n",
    "    \n",
    "    # Print the List\n",
    "    def __str__(self):\n",
    "        # [1,2,3]\n",
    "        result = ''\n",
    "        for i in range(self.n):\n",
    "            result = result + str(self.A[i]) +','\n",
    "        return '[' + result[:-1] + ']'  \n",
    "    \n",
    "    # get the item\n",
    "    def __getitem__(self,index):\n",
    "        if 0 <= index < self.n:\n",
    "            return self.A[index]\n",
    "        else:\n",
    "            return 'IndexError- index out of range.'\n",
    "    \n",
    "    # popping the last element\n",
    "    def pop(self):\n",
    "        if self.n == 0:\n",
    "            return 'Empty List'\n",
    "        print(self.A[self.n-1])\n",
    "        self.n = self.n - 1\n",
    "    \n",
    "    # clears the existing list and give empty list\n",
    "    def clear(self):\n",
    "        self.n = 0\n",
    "        self.size = 1\n",
    "        \n",
    "    # find function\n",
    "    def find(self, item):\n",
    "        for i in range(self.n):\n",
    "            if self.A[i] == item:\n",
    "                return i\n",
    "        return 'ValueError- value not in list.'\n",
    "    \n",
    "    # insert function\n",
    "    def insert(self, pos, item):\n",
    "        if 0 <= pos < self.n:\n",
    "            \n",
    "            if self.n == self.size:\n",
    "                self.__resize(self.size*2)\n",
    "                \n",
    "            for i in range(self.n, pos, -1):\n",
    "                self.A[i] = self.A[i-1]\n",
    "            \n",
    "            self.A[pos] = item\n",
    "            self.n = self.n + 1\n",
    "        else:\n",
    "            return 'IndexError - index out of range'\n",
    "    \n",
    "    # delete item\n",
    "    def __delitem__(self,pos):\n",
    "        \n",
    "        if 0 <= pos < self.n:\n",
    "            for i in range(pos, self.n -1):\n",
    "                self.A[i] = self.A[i+1]\n",
    "        \n",
    "        self.n = self.n - 1\n",
    "        \n",
    "    # remove function\n",
    "    def remove(self, value):\n",
    "        pos = self.find(value)\n",
    "        if type(pos) == int:\n",
    "            # delete\n",
    "            self.__delitem__(pos)\n",
    "        else:\n",
    "            return pos\n",
    "            "
   ]
  },
  {
   "cell_type": "code",
   "execution_count": 5,
   "id": "b80c825a",
   "metadata": {},
   "outputs": [],
   "source": [
    "l = MyList()"
   ]
  },
  {
   "cell_type": "code",
   "execution_count": 26,
   "id": "1792e44f",
   "metadata": {},
   "outputs": [
    {
     "name": "stdout",
     "output_type": "stream",
     "text": [
      "5\n"
     ]
    }
   ],
   "source": [
    "print(len(l))"
   ]
  },
  {
   "cell_type": "code",
   "execution_count": 24,
   "id": "ac6d5439",
   "metadata": {},
   "outputs": [],
   "source": [
    "l.append(1)\n",
    "l.append(2)\n",
    "l.append(3)\n",
    "l.append(5)\n",
    "l.append(7)"
   ]
  },
  {
   "cell_type": "code",
   "execution_count": 25,
   "id": "efee0ec5",
   "metadata": {},
   "outputs": [
    {
     "name": "stdout",
     "output_type": "stream",
     "text": [
      "[1,2,3,5,7]\n"
     ]
    }
   ],
   "source": [
    "print(l)"
   ]
  },
  {
   "cell_type": "code",
   "execution_count": 27,
   "id": "adfe9806",
   "metadata": {},
   "outputs": [
    {
     "data": {
      "text/plain": [
       "2"
      ]
     },
     "execution_count": 27,
     "metadata": {},
     "output_type": "execute_result"
    }
   ],
   "source": [
    "l[1]"
   ]
  },
  {
   "cell_type": "code",
   "execution_count": 28,
   "id": "c8a8861d",
   "metadata": {},
   "outputs": [
    {
     "name": "stdout",
     "output_type": "stream",
     "text": [
      "7\n"
     ]
    }
   ],
   "source": [
    "l.pop()"
   ]
  },
  {
   "cell_type": "code",
   "execution_count": 23,
   "id": "a8819116",
   "metadata": {},
   "outputs": [],
   "source": [
    "l.clear()"
   ]
  },
  {
   "cell_type": "code",
   "execution_count": 29,
   "id": "02f80e75",
   "metadata": {},
   "outputs": [],
   "source": [
    "l.insert(1,9)"
   ]
  },
  {
   "cell_type": "code",
   "execution_count": 30,
   "id": "edb5049a",
   "metadata": {},
   "outputs": [
    {
     "name": "stdout",
     "output_type": "stream",
     "text": [
      "[1,9,2,3,5]\n"
     ]
    }
   ],
   "source": [
    "print(l)"
   ]
  },
  {
   "cell_type": "code",
   "execution_count": 33,
   "id": "92a76ba2",
   "metadata": {},
   "outputs": [
    {
     "name": "stdout",
     "output_type": "stream",
     "text": [
      "[3,5]\n"
     ]
    }
   ],
   "source": [
    "del l[0]\n",
    "print(l)"
   ]
  },
  {
   "cell_type": "code",
   "execution_count": 34,
   "id": "d7eb8332",
   "metadata": {},
   "outputs": [
    {
     "name": "stdout",
     "output_type": "stream",
     "text": [
      "[5]\n"
     ]
    }
   ],
   "source": [
    "l.remove(3)\n",
    "print(l)"
   ]
  },
  {
   "cell_type": "code",
   "execution_count": 35,
   "id": "a39397e9",
   "metadata": {},
   "outputs": [],
   "source": [
    "l.append(77)\n",
    "l.append(84)\n",
    "l.append(32)\n",
    "l.append(10)"
   ]
  },
  {
   "cell_type": "code",
   "execution_count": 36,
   "id": "51d31273",
   "metadata": {},
   "outputs": [
    {
     "name": "stdout",
     "output_type": "stream",
     "text": [
      "[5,77,84,32,10]\n"
     ]
    }
   ],
   "source": [
    "print(l)"
   ]
  },
  {
   "cell_type": "code",
   "execution_count": 37,
   "id": "22d74d79",
   "metadata": {},
   "outputs": [
    {
     "data": {
      "text/plain": [
       "3"
      ]
     },
     "execution_count": 37,
     "metadata": {},
     "output_type": "execute_result"
    }
   ],
   "source": [
    "l.find(32)"
   ]
  },
  {
   "cell_type": "code",
   "execution_count": null,
   "id": "e7aa6fde",
   "metadata": {},
   "outputs": [],
   "source": []
  }
 ],
 "metadata": {
  "kernelspec": {
   "display_name": "Python 3 (ipykernel)",
   "language": "python",
   "name": "python3"
  },
  "language_info": {
   "codemirror_mode": {
    "name": "ipython",
    "version": 3
   },
   "file_extension": ".py",
   "mimetype": "text/x-python",
   "name": "python",
   "nbconvert_exporter": "python",
   "pygments_lexer": "ipython3",
   "version": "3.12.3"
  }
 },
 "nbformat": 4,
 "nbformat_minor": 5
}
