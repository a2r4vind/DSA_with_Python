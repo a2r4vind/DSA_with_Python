{
 "cells": [
  {
   "cell_type": "markdown",
   "id": "99ca2990",
   "metadata": {},
   "source": [
    "# Linear Search"
   ]
  },
  {
   "cell_type": "markdown",
   "id": "b5912d2f",
   "metadata": {},
   "source": [
    "--> doesn't require array to be sorted.\n",
    "--> Time complexity : O(n)"
   ]
  },
  {
   "cell_type": "code",
   "execution_count": 1,
   "id": "4734a766",
   "metadata": {},
   "outputs": [],
   "source": [
    "# Linear Search\n",
    "\n",
    "def linear_search(arr, item):\n",
    "    for i in range(len(arr)):\n",
    "        if arr[i] == item:\n",
    "            return i\n",
    "        \n",
    "    return -1"
   ]
  },
  {
   "cell_type": "code",
   "execution_count": 2,
   "id": "a236f624",
   "metadata": {},
   "outputs": [
    {
     "name": "stdout",
     "output_type": "stream",
     "text": [
      "4\n"
     ]
    }
   ],
   "source": [
    "l = [3,5,2,7,8,9,33,22,14]\n",
    "k = 8\n",
    "print(linear_search(l,k))"
   ]
  },
  {
   "cell_type": "markdown",
   "id": "6526fef6",
   "metadata": {},
   "source": [
    "# Binary Search"
   ]
  },
  {
   "cell_type": "markdown",
   "id": "660b1a03",
   "metadata": {},
   "source": [
    "--> Required a sorted array\n"
   ]
  },
  {
   "cell_type": "code",
   "execution_count": 3,
   "id": "0d249aa5",
   "metadata": {},
   "outputs": [],
   "source": [
    "# Binary Search implementation using recursion\n",
    "\n",
    "def binary_search(arr, low, high, item):\n",
    "    \n",
    "    if low <= high:\n",
    "        # search\n",
    "        mid = (low + high)//2\n",
    "        \n",
    "        if arr[mid] == item:\n",
    "            return mid\n",
    "        elif arr[mid] > item:\n",
    "            return binary_search(arr, low, mid-1, item)\n",
    "        else:\n",
    "            return binary_search(arr, mid+1, high, item)\n",
    "    else:\n",
    "        return -1"
   ]
  },
  {
   "cell_type": "code",
   "execution_count": 5,
   "id": "ead9d40b",
   "metadata": {},
   "outputs": [
    {
     "name": "stdout",
     "output_type": "stream",
     "text": [
      "5\n"
     ]
    }
   ],
   "source": [
    "l1 = [2,4,5,6,22,54,62,99]\n",
    "k1 = 54\n",
    "low = 0\n",
    "high = len(l1)-1\n",
    "print(binary_search(l1,low, high, k1))"
   ]
  },
  {
   "cell_type": "markdown",
   "id": "aed00f12",
   "metadata": {},
   "source": [
    "# Ammortized cost concept\n",
    "Time complexity of :-\n",
    "\n",
    "Binary search --> nlog(n) + log(n)\n",
    "\n",
    "Linear search --> n\n",
    "\n",
    "since    n < nlog(n) + log(n)\n",
    "\n",
    "but for K times\n",
    "\n",
    "        K.n |_| K.nlog(n) + K.log(n) \n",
    "        \n",
    "    => The K.nlog(n) term is neglected and the less  than (<) sign reverses and it becomes greaterthan\n",
    "    \n",
    "    =>  K.n > K.log(n)\n",
    "        \n",
    "        \n",
    "        "
   ]
  }
 ],
 "metadata": {
  "kernelspec": {
   "display_name": "Python 3 (ipykernel)",
   "language": "python",
   "name": "python3"
  },
  "language_info": {
   "codemirror_mode": {
    "name": "ipython",
    "version": 3
   },
   "file_extension": ".py",
   "mimetype": "text/x-python",
   "name": "python",
   "nbconvert_exporter": "python",
   "pygments_lexer": "ipython3",
   "version": "3.12.3"
  }
 },
 "nbformat": 4,
 "nbformat_minor": 5
}
