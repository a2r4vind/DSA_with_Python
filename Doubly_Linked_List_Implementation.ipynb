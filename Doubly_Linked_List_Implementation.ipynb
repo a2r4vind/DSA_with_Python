{
 "cells": [
  {
   "cell_type": "code",
   "execution_count": 1,
   "id": "2e54a3ae",
   "metadata": {},
   "outputs": [],
   "source": [
    "class Node:\n",
    "    \n",
    "    def __init__(self, data):\n",
    "        self.data = data \n",
    "        self.prev = None\n",
    "        self.next = None"
   ]
  },
  {
   "cell_type": "code",
   "execution_count": 240,
   "id": "3204629a",
   "metadata": {},
   "outputs": [],
   "source": [
    "class DoublyLinkedList:\n",
    "    \n",
    "    def __init__(self):\n",
    "        self.head = None\n",
    "        self.n = 0\n",
    "        \n",
    "        \n",
    "    def __len__(self):\n",
    "        return self.n\n",
    "    \n",
    "    def isempty(self):\n",
    "        return self.head is None\n",
    "    \n",
    "    def addNode(self, data):\n",
    "        \n",
    "        new_node = Node(data)\n",
    "        \n",
    "        if self.isempty():\n",
    "            self.head = new_node\n",
    "            self.n += 1\n",
    "            return \n",
    "        \n",
    "        temp = self.head\n",
    "        \n",
    "        while temp.next is not None:\n",
    "            temp = temp.next\n",
    "            \n",
    "        temp.next = new_node\n",
    "        new_node.prev = temp\n",
    "        self.n += 1\n",
    "        \n",
    "    def printDoublyLL(self):\n",
    "        \n",
    "        if self.isempty():\n",
    "            return \"Empty Doubly Linked List\"\n",
    "        \n",
    "        curr = self.head\n",
    "        \n",
    "        while curr is not None:\n",
    "            print(f\"{curr.data}\", end=\"\")\n",
    "            if curr.next is not None:\n",
    "                print(\" <-> \", end=\"\")\n",
    "            curr = curr.next\n",
    "        print()\n",
    "        \n",
    "    def delHead(self):\n",
    "        self.head = None\n",
    "        \n",
    "    def delFirst(self):\n",
    "        \n",
    "        curr = self.head\n",
    "        \n",
    "        if self.isempty():\n",
    "            return \"Empty Doubly Linked list\"\n",
    "        \n",
    "        # if single element is there \n",
    "        if curr.next is None:\n",
    "            self.n -= 1\n",
    "            return self.delHead()\n",
    "        \n",
    "        self.head = curr.next\n",
    "        curr.next.prev = None\n",
    "        self.n -= 1\n",
    "        \n",
    "    def delLast(self):\n",
    "        \n",
    "        curr = self.head\n",
    "        \n",
    "        if self.isempty():\n",
    "            return \"Empty Doubly Linked list\"\n",
    "        \n",
    "        # if single element is there\n",
    "        if curr.next is None:\n",
    "            self.n -= 1\n",
    "            return self.delHead()\n",
    "        \n",
    "        while curr.next is not None:\n",
    "            curr = curr.next\n",
    "            \n",
    "        curr.prev.next = None\n",
    "        self.n -= 1\n",
    "    \n",
    "    def delGivenPosition(self, pos):\n",
    "        \n",
    "        curr = self.head \n",
    "        \n",
    "        if pos == 1:\n",
    "            return self.delFirst()\n",
    "            \n",
    "        if pos == self.n:\n",
    "            return self.delLast()\n",
    "\n",
    "        count = 1\n",
    "        \n",
    "        while curr is not None:\n",
    "            \n",
    "            if count == pos:\n",
    "                break\n",
    "            \n",
    "            curr = curr.next\n",
    "            count += 1\n",
    "            \n",
    "        # case-1: given pos > len of Doubly Linked List\n",
    "        if curr is None: \n",
    "            return f\"Length of Doubly Linked List is {self.n} is less than position {pos} \"\n",
    "        # case-2: break executed\n",
    "        else:\n",
    "            curr.prev.next = curr.next\n",
    "            curr.next.prev = curr.prev\n",
    "            self.n -= 1\n",
    "        \n",
    "    def delAfter(self,key):\n",
    "        \n",
    "        if self.isempty():\n",
    "            return \"Empty Doubly Linked List\"\n",
    "        \n",
    "        curr = self.head\n",
    "        \n",
    "        while curr is not None:\n",
    "            \n",
    "            if curr.data == key:\n",
    "                break\n",
    "            curr = curr.next\n",
    "            \n",
    "        # case-1 : node is not found\n",
    "        if curr is None:\n",
    "            return \"Given node not found.\"\n",
    "        # case-2 : break executed and node is found\n",
    "        else:\n",
    "            if curr.next is None:\n",
    "                return f\"Given key {key} is the last node.\"\n",
    "            elif curr.next.next is None:\n",
    "                curr.next = None\n",
    "            else:\n",
    "                curr.next.next.prev = curr\n",
    "                curr.next = curr.next.next\n",
    "            self.n -= 1\n",
    "            \n",
    "    def delBefore(self,key):\n",
    "        \n",
    "        if self.isempty():\n",
    "            return \"Empty Doubly Linked List\"\n",
    "        \n",
    "        curr = self.head\n",
    "        \n",
    "        if curr.data == key:\n",
    "            return f\"Key {key} is the first node so can't delete a node before it.\"\n",
    "        \n",
    "        while curr is not None:\n",
    "            \n",
    "            if curr.data == key:\n",
    "                break\n",
    "            curr = curr.next\n",
    "        \n",
    "        # case-1: node not found\n",
    "        if curr is None:\n",
    "            return \"Node not found.\"\n",
    "        \n",
    "        # case-2: break executed and node found\n",
    "        else:\n",
    "            if curr.prev.prev is not None:\n",
    "                curr.prev.prev.next = curr\n",
    "                curr.prev = curr.prev.prev\n",
    "            else:\n",
    "                curr.prev = None\n",
    "                self.head = curr\n",
    "            self.n -= 1"
   ]
  },
  {
   "cell_type": "code",
   "execution_count": 253,
   "id": "7e28cc4e",
   "metadata": {},
   "outputs": [],
   "source": [
    "dll = DoublyLinkedList()"
   ]
  },
  {
   "cell_type": "code",
   "execution_count": 254,
   "id": "033b65da",
   "metadata": {},
   "outputs": [
    {
     "data": {
      "text/plain": [
       "'Empty Doubly Linked List'"
      ]
     },
     "execution_count": 254,
     "metadata": {},
     "output_type": "execute_result"
    }
   ],
   "source": [
    "dll.printDoublyLL()"
   ]
  },
  {
   "cell_type": "code",
   "execution_count": 255,
   "id": "b41b1da1",
   "metadata": {},
   "outputs": [],
   "source": [
    "dll.addNode(1)"
   ]
  },
  {
   "cell_type": "code",
   "execution_count": 256,
   "id": "5bbd2a02",
   "metadata": {},
   "outputs": [],
   "source": [
    "dll.addNode(2)"
   ]
  },
  {
   "cell_type": "code",
   "execution_count": 257,
   "id": "cf4e6cf9",
   "metadata": {},
   "outputs": [],
   "source": [
    "dll.addNode(3)"
   ]
  },
  {
   "cell_type": "code",
   "execution_count": 258,
   "id": "329f68eb",
   "metadata": {},
   "outputs": [],
   "source": [
    "dll.addNode(8)"
   ]
  },
  {
   "cell_type": "code",
   "execution_count": 259,
   "id": "39bf8e31",
   "metadata": {},
   "outputs": [
    {
     "name": "stdout",
     "output_type": "stream",
     "text": [
      "1 <-> 2 <-> 3 <-> 8\n"
     ]
    }
   ],
   "source": [
    "dll.printDoublyLL()"
   ]
  },
  {
   "cell_type": "code",
   "execution_count": 128,
   "id": "3fac6fed",
   "metadata": {},
   "outputs": [],
   "source": [
    "dll.delFirst()"
   ]
  },
  {
   "cell_type": "code",
   "execution_count": 110,
   "id": "6f036398",
   "metadata": {},
   "outputs": [
    {
     "name": "stdout",
     "output_type": "stream",
     "text": [
      "3\n"
     ]
    }
   ],
   "source": [
    "dll.printDoublyLL()"
   ]
  },
  {
   "cell_type": "code",
   "execution_count": 161,
   "id": "ca8719e2",
   "metadata": {},
   "outputs": [],
   "source": [
    "dll.delLast()"
   ]
  },
  {
   "cell_type": "code",
   "execution_count": 74,
   "id": "4e6d1f45",
   "metadata": {},
   "outputs": [
    {
     "data": {
      "text/plain": [
       "'Empty Doubly Linked List'"
      ]
     },
     "execution_count": 74,
     "metadata": {},
     "output_type": "execute_result"
    }
   ],
   "source": [
    "dll.printDoublyLL()"
   ]
  },
  {
   "cell_type": "code",
   "execution_count": 154,
   "id": "25041625",
   "metadata": {},
   "outputs": [
    {
     "name": "stdout",
     "output_type": "stream",
     "text": [
      "1 <-> 2 <-> 3 <-> 8\n"
     ]
    }
   ],
   "source": [
    "dll.printDoublyLL()"
   ]
  },
  {
   "cell_type": "code",
   "execution_count": 155,
   "id": "6e874bdc",
   "metadata": {},
   "outputs": [],
   "source": [
    "dll.delGivenPosition(4)"
   ]
  },
  {
   "cell_type": "code",
   "execution_count": 156,
   "id": "e3f47097",
   "metadata": {},
   "outputs": [
    {
     "name": "stdout",
     "output_type": "stream",
     "text": [
      "1 <-> 2 <-> 3\n"
     ]
    }
   ],
   "source": [
    "dll.printDoublyLL()"
   ]
  },
  {
   "cell_type": "code",
   "execution_count": 157,
   "id": "f16c65ec",
   "metadata": {},
   "outputs": [],
   "source": [
    "dll.delGivenPosition(1)"
   ]
  },
  {
   "cell_type": "code",
   "execution_count": 158,
   "id": "1163bc02",
   "metadata": {},
   "outputs": [
    {
     "name": "stdout",
     "output_type": "stream",
     "text": [
      "2 <-> 3\n"
     ]
    }
   ],
   "source": [
    "dll.printDoublyLL()"
   ]
  },
  {
   "cell_type": "code",
   "execution_count": 162,
   "id": "fd9c2535",
   "metadata": {},
   "outputs": [
    {
     "data": {
      "text/plain": [
       "'Length of Doubly Linked List is 0 is less than position 5 '"
      ]
     },
     "execution_count": 162,
     "metadata": {},
     "output_type": "execute_result"
    }
   ],
   "source": [
    "dll.delGivenPosition(5)"
   ]
  },
  {
   "cell_type": "code",
   "execution_count": 179,
   "id": "713b019c",
   "metadata": {},
   "outputs": [
    {
     "name": "stdout",
     "output_type": "stream",
     "text": [
      "1 <-> 2 <-> 3 <-> 8\n"
     ]
    }
   ],
   "source": [
    "dll.printDoublyLL()"
   ]
  },
  {
   "cell_type": "code",
   "execution_count": 180,
   "id": "75d1e606",
   "metadata": {},
   "outputs": [],
   "source": [
    "dll.delGivenPosition(2)"
   ]
  },
  {
   "cell_type": "code",
   "execution_count": 181,
   "id": "35da6e6b",
   "metadata": {},
   "outputs": [
    {
     "name": "stdout",
     "output_type": "stream",
     "text": [
      "1 <-> 3 <-> 8\n"
     ]
    }
   ],
   "source": [
    "dll.printDoublyLL()"
   ]
  },
  {
   "cell_type": "code",
   "execution_count": 209,
   "id": "a2c32bcc",
   "metadata": {},
   "outputs": [
    {
     "name": "stdout",
     "output_type": "stream",
     "text": [
      "1 <-> 2 <-> 3 <-> 8\n"
     ]
    }
   ],
   "source": [
    "dll.printDoublyLL()"
   ]
  },
  {
   "cell_type": "code",
   "execution_count": 210,
   "id": "8a468057",
   "metadata": {},
   "outputs": [
    {
     "data": {
      "text/plain": [
       "'Given key 8 is the last node.'"
      ]
     },
     "execution_count": 210,
     "metadata": {},
     "output_type": "execute_result"
    }
   ],
   "source": [
    "dll.delAfter(8)"
   ]
  },
  {
   "cell_type": "code",
   "execution_count": 211,
   "id": "7b4399bf",
   "metadata": {},
   "outputs": [],
   "source": [
    "dll.delAfter(3)"
   ]
  },
  {
   "cell_type": "code",
   "execution_count": 212,
   "id": "cf5041ee",
   "metadata": {},
   "outputs": [
    {
     "name": "stdout",
     "output_type": "stream",
     "text": [
      "1 <-> 2 <-> 3\n"
     ]
    }
   ],
   "source": [
    "dll.printDoublyLL()"
   ]
  },
  {
   "cell_type": "code",
   "execution_count": 213,
   "id": "ea041f9e",
   "metadata": {},
   "outputs": [
    {
     "data": {
      "text/plain": [
       "3"
      ]
     },
     "execution_count": 213,
     "metadata": {},
     "output_type": "execute_result"
    }
   ],
   "source": [
    "len(dll)"
   ]
  },
  {
   "cell_type": "code",
   "execution_count": 214,
   "id": "9214f0cc",
   "metadata": {},
   "outputs": [],
   "source": [
    "dll.delAfter(1)"
   ]
  },
  {
   "cell_type": "code",
   "execution_count": 215,
   "id": "cc06a88b",
   "metadata": {},
   "outputs": [
    {
     "name": "stdout",
     "output_type": "stream",
     "text": [
      "1 <-> 3\n"
     ]
    }
   ],
   "source": [
    "dll.printDoublyLL()"
   ]
  },
  {
   "cell_type": "code",
   "execution_count": 216,
   "id": "0d64849b",
   "metadata": {},
   "outputs": [
    {
     "data": {
      "text/plain": [
       "2"
      ]
     },
     "execution_count": 216,
     "metadata": {},
     "output_type": "execute_result"
    }
   ],
   "source": [
    "len(dll)"
   ]
  },
  {
   "cell_type": "code",
   "execution_count": 217,
   "id": "3812b14c",
   "metadata": {},
   "outputs": [],
   "source": [
    "dll.delAfter(1)"
   ]
  },
  {
   "cell_type": "code",
   "execution_count": 218,
   "id": "f3ff41b8",
   "metadata": {},
   "outputs": [
    {
     "name": "stdout",
     "output_type": "stream",
     "text": [
      "1\n"
     ]
    }
   ],
   "source": [
    "dll.printDoublyLL()"
   ]
  },
  {
   "cell_type": "code",
   "execution_count": 219,
   "id": "930356ba",
   "metadata": {},
   "outputs": [
    {
     "data": {
      "text/plain": [
       "'Given key 1 is the last node.'"
      ]
     },
     "execution_count": 219,
     "metadata": {},
     "output_type": "execute_result"
    }
   ],
   "source": [
    "dll.delAfter(1)"
   ]
  },
  {
   "cell_type": "code",
   "execution_count": 260,
   "id": "bbbdd0a6",
   "metadata": {},
   "outputs": [],
   "source": [
    "dll.addNode(100)"
   ]
  },
  {
   "cell_type": "code",
   "execution_count": 261,
   "id": "197f5c81",
   "metadata": {},
   "outputs": [
    {
     "name": "stdout",
     "output_type": "stream",
     "text": [
      "1 <-> 2 <-> 3 <-> 8 <-> 100\n"
     ]
    }
   ],
   "source": [
    "dll.printDoublyLL()"
   ]
  },
  {
   "cell_type": "code",
   "execution_count": 262,
   "id": "45a65f3e",
   "metadata": {},
   "outputs": [
    {
     "data": {
      "text/plain": [
       "\"Key 1 is the first node so can't delete a node before it.\""
      ]
     },
     "execution_count": 262,
     "metadata": {},
     "output_type": "execute_result"
    }
   ],
   "source": [
    "dll.delBefore(1)"
   ]
  },
  {
   "cell_type": "code",
   "execution_count": 263,
   "id": "67fdf0ae",
   "metadata": {},
   "outputs": [],
   "source": [
    "dll.delBefore(100)"
   ]
  },
  {
   "cell_type": "code",
   "execution_count": 264,
   "id": "16e7eba1",
   "metadata": {},
   "outputs": [
    {
     "name": "stdout",
     "output_type": "stream",
     "text": [
      "1 <-> 2 <-> 3 <-> 100\n"
     ]
    }
   ],
   "source": [
    "dll.printDoublyLL()"
   ]
  },
  {
   "cell_type": "code",
   "execution_count": 265,
   "id": "e0d149fb",
   "metadata": {},
   "outputs": [],
   "source": [
    "dll.delBefore(3)"
   ]
  },
  {
   "cell_type": "code",
   "execution_count": 266,
   "id": "f5eb3897",
   "metadata": {},
   "outputs": [
    {
     "name": "stdout",
     "output_type": "stream",
     "text": [
      "1 <-> 3 <-> 100\n"
     ]
    }
   ],
   "source": [
    "dll.printDoublyLL()"
   ]
  },
  {
   "cell_type": "code",
   "execution_count": 267,
   "id": "54720c0d",
   "metadata": {},
   "outputs": [],
   "source": [
    "dll.delBefore(3)"
   ]
  },
  {
   "cell_type": "code",
   "execution_count": 268,
   "id": "15a13f52",
   "metadata": {},
   "outputs": [
    {
     "name": "stdout",
     "output_type": "stream",
     "text": [
      "3 <-> 100\n"
     ]
    }
   ],
   "source": [
    "dll.printDoublyLL()"
   ]
  },
  {
   "cell_type": "code",
   "execution_count": null,
   "id": "b61ca12f",
   "metadata": {},
   "outputs": [],
   "source": []
  }
 ],
 "metadata": {
  "kernelspec": {
   "display_name": "Python 3 (ipykernel)",
   "language": "python",
   "name": "python3"
  },
  "language_info": {
   "codemirror_mode": {
    "name": "ipython",
    "version": 3
   },
   "file_extension": ".py",
   "mimetype": "text/x-python",
   "name": "python",
   "nbconvert_exporter": "python",
   "pygments_lexer": "ipython3",
   "version": "3.12.3"
  }
 },
 "nbformat": 4,
 "nbformat_minor": 5
}
