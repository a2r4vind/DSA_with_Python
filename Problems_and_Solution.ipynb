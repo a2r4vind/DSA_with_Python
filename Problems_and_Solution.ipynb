{
 "cells": [
  {
   "cell_type": "markdown",
   "id": "121e7933",
   "metadata": {},
   "source": [
    "# DAY 1"
   ]
  },
  {
   "cell_type": "code",
   "execution_count": 2,
   "id": "a1004b0a",
   "metadata": {},
   "outputs": [
    {
     "name": "stdout",
     "output_type": "stream",
     "text": [
      "1 3 \n"
     ]
    }
   ],
   "source": [
    "# Print alternates in list\n",
    "def print_alt(s):\n",
    "    i = 0\n",
    "    while i < len(s):\n",
    "        print(s[i],end=' ')\n",
    "        i += 2\n",
    "    return ''\n",
    "\n",
    "inp = [1,2,3,4]\n",
    "print(print_alt(inp))"
   ]
  },
  {
   "cell_type": "code",
   "execution_count": 3,
   "id": "e8dfb1de",
   "metadata": {},
   "outputs": [
    {
     "name": "stdout",
     "output_type": "stream",
     "text": [
      "1 3 \n"
     ]
    }
   ],
   "source": [
    "def print_alternates(s):\n",
    "    for i in range(0,len(s),2):\n",
    "        print(s[i],end=' ')\n",
    "    return ''\n",
    "\n",
    "inp = [1,2,3,4]\n",
    "print(print_alternates(inp))"
   ]
  },
  {
   "cell_type": "code",
   "execution_count": 7,
   "id": "91a9eda9",
   "metadata": {},
   "outputs": [
    {
     "name": "stdout",
     "output_type": "stream",
     "text": [
      "2\n"
     ]
    }
   ],
   "source": [
    "def search_element(l,k):\n",
    "    i = 0\n",
    "    while i < len(l):\n",
    "        if l[i] == k:\n",
    "            return i\n",
    "        i += 1\n",
    "        \n",
    "    return 'Not found!'\n",
    "\n",
    "inp = [1,2,3,4]\n",
    "x = 3\n",
    "print(search_element(inp,x))"
   ]
  },
  {
   "cell_type": "code",
   "execution_count": 8,
   "id": "394be718",
   "metadata": {},
   "outputs": [
    {
     "name": "stdout",
     "output_type": "stream",
     "text": [
      "90\n"
     ]
    }
   ],
   "source": [
    "def largest_element(l):\n",
    "    i = 0\n",
    "    max = l[i]\n",
    "    \n",
    "    while i < len(l):\n",
    "        if l[i] > max:\n",
    "            max = l[i]\n",
    "        i += 1\n",
    "    return max\n",
    "\n",
    "inp = [1, 8, 7, 56, 90]\n",
    "print(largest_element(inp))"
   ]
  },
  {
   "cell_type": "code",
   "execution_count": 11,
   "id": "6d13ed43",
   "metadata": {},
   "outputs": [
    {
     "name": "stdout",
     "output_type": "stream",
     "text": [
      "[7, 5, 6, 2, 3, 4, 1]\n"
     ]
    }
   ],
   "source": [
    "def reverse_list(l):\n",
    "    s = 0\n",
    "    e = len(l) - 1\n",
    "    for i in range(len(l)//2):\n",
    "        l[s], l[e] = l[e], l[s]\n",
    "        s += 1\n",
    "        e -= 1\n",
    "    return l\n",
    "\n",
    "inp = [1, 4, 3, 2, 6, 5, 7]\n",
    "print(reverse_list(inp))\n",
    "        "
   ]
  },
  {
   "cell_type": "code",
   "execution_count": 14,
   "id": "8aae0a4c",
   "metadata": {},
   "outputs": [
    {
     "name": "stdout",
     "output_type": "stream",
     "text": [
      "False\n",
      "True\n"
     ]
    }
   ],
   "source": [
    "def is_sorted(l):\n",
    "    for i in range(1,len(l)):\n",
    "        if l[i] < l[i-1]:\n",
    "            return False\n",
    "    return True\n",
    "\n",
    "\n",
    "inp1 = [90, 80, 100, 70, 40, 30]\n",
    "print(is_sorted(inp1))\n",
    "inp2 = [10, 20, 30, 40, 50]\n",
    "print(is_sorted(inp2))"
   ]
  },
  {
   "cell_type": "markdown",
   "id": "f165ab3a",
   "metadata": {},
   "source": [
    "# Day 2"
   ]
  },
  {
   "cell_type": "code",
   "execution_count": 7,
   "id": "f83ee9be",
   "metadata": {},
   "outputs": [
    {
     "name": "stdout",
     "output_type": "stream",
     "text": [
      "34\n"
     ]
    }
   ],
   "source": [
    "# Second Largest Element in array:\n",
    "def second_largest(arr):\n",
    "    '''Return the 2nd largest element in array.'''\n",
    "    i = 2\n",
    "    max_element = arr[0]\n",
    "    sec_max_element = arr[1]\n",
    "    if max_element < sec_max_element:\n",
    "        max_element, sec_max_element = sec_max_element, max_element\n",
    "    while i < len(arr):\n",
    "        if arr[i] > max_element:\n",
    "            sec_max_element = max_element\n",
    "            max_element  = arr[i]\n",
    "        elif sec_max_element < arr[i] < max_element:\n",
    "            sec_max_element = arr[i] \n",
    "        i += 1\n",
    "    if max_element == sec_max_element:\n",
    "        return -1\n",
    "    else:\n",
    "        return sec_max_element\n",
    "\n",
    "inp = [12, 35, 1, 10, 34, 1]\n",
    "print(second_largest(inp))"
   ]
  },
  {
   "cell_type": "code",
   "execution_count": 10,
   "id": "01489dbb",
   "metadata": {},
   "outputs": [
    {
     "name": "stdout",
     "output_type": "stream",
     "text": [
      "14\n",
      "16\n"
     ]
    }
   ],
   "source": [
    "def thirdLargest(arr):\n",
    "    first, second, third = -1, -1, -1\n",
    "    \n",
    "    for i in range(len(arr)):\n",
    "        if arr[i] > first:\n",
    "            first = arr[i]\n",
    "            \n",
    "    for i in range(len(arr)):\n",
    "        if second < arr[i] < first:\n",
    "            second = arr[i]\n",
    "            \n",
    "    for i in range(len(arr)):\n",
    "        if third < arr[i] < second:\n",
    "            third = arr[i]\n",
    "            \n",
    "    return third\n",
    "\n",
    "inp = [1, 14, 2, 16, 10, 20]\n",
    "print(thirdLargest(inp))\n",
    "inp1 = [19, -10, 20, 14, 2, 16, 10]\n",
    "print(thirdLargest(inp1))\n",
    "    "
   ]
  },
  {
   "cell_type": "markdown",
   "id": "fc79e95d",
   "metadata": {},
   "source": [
    "# Day 3"
   ]
  },
  {
   "cell_type": "code",
   "execution_count": 10,
   "id": "a0c06519",
   "metadata": {},
   "outputs": [
    {
     "name": "stdout",
     "output_type": "stream",
     "text": [
      "[3, 2, 1, 6, 5, 4, 8, 7]\n",
      "[3, 2, 1, 5, 4]\n",
      "[3, 2, 1, 6, 5, 4, 9, 8, 7]\n",
      "[9, 8, 6, 5]\n"
     ]
    }
   ],
   "source": [
    "# Reverse in Groups\n",
    "\n",
    "def reverse_in_group(arr,k):\n",
    "    n = len(arr) # length of array\n",
    "    \n",
    "    # case - 1 length of array < key\n",
    "    if n < k:\n",
    "        l = 0\n",
    "        r = n - 1\n",
    "        while l < r :\n",
    "            arr[l], arr[r] = arr[r], arr[l]\n",
    "            l += 1\n",
    "            r -= 1\n",
    "    # case - 2 length of array > key    \n",
    "    else:\n",
    "        i = n // k + 1 # iteration = i\n",
    "        c = 0\n",
    "        while c < i :\n",
    "            l = c * k\n",
    "            r = l + k - 1\n",
    "            \n",
    "            # handling cases when n // k != 0\n",
    "            if r > (n - 1) :\n",
    "                r = n - 1\n",
    "            \n",
    "            while l < r :\n",
    "                arr[l], arr[r] = arr[r], arr[l]\n",
    "                l += 1\n",
    "                r -= 1\n",
    "            c += 1\n",
    "                \n",
    "    return arr\n",
    "            \n",
    "\n",
    "inp1 = [1, 2, 3, 4, 5, 6, 7, 8]\n",
    "k1 = 3\n",
    "print(reverse_in_group(inp1,k1))\n",
    "\n",
    "inp2 = [1, 2, 3, 4, 5]\n",
    "k2 = 3\n",
    "print(reverse_in_group(inp2,k2))\n",
    "\n",
    "inp3 = [1, 2, 3, 4, 5, 6, 7, 8,9]\n",
    "k3 = 3\n",
    "print(reverse_in_group(inp3,k3))\n",
    "\n",
    "inp4 = [5, 6, 8, 9]\n",
    "k4 = 5\n",
    "print(reverse_in_group(inp4,k4))"
   ]
  },
  {
   "cell_type": "code",
   "execution_count": 11,
   "id": "2c346243",
   "metadata": {},
   "outputs": [],
   "source": [
    "# More Optimized code of above problem"
   ]
  },
  {
   "cell_type": "code",
   "execution_count": 12,
   "id": "df33e7e1",
   "metadata": {},
   "outputs": [
    {
     "name": "stdout",
     "output_type": "stream",
     "text": [
      "[3, 2, 1, 6, 5, 4, 8, 7]\n",
      "[3, 2, 1, 5, 4]\n",
      "[3, 2, 1, 6, 5, 4, 9, 8, 7]\n",
      "[9, 8, 6, 5]\n"
     ]
    }
   ],
   "source": [
    "def reverseInGroups(arr,k):\n",
    "    i = 0\n",
    "    n = len(arr) # length of array\n",
    "    \n",
    "    while i < n:\n",
    "        left = i\n",
    "        # to handle multiple cases where k is not multiple of n\n",
    "        right = min(i+k-1,n-1)\n",
    "        \n",
    "        while left < right :\n",
    "            arr[left], arr[right] = arr[right], arr[left]\n",
    "            left += 1\n",
    "            right -= 1\n",
    "        i += k\n",
    "        \n",
    "    return arr\n",
    "\n",
    "inp1 = [1, 2, 3, 4, 5, 6, 7, 8]\n",
    "k1 = 3\n",
    "print(reverseInGroups(inp1,k1))\n",
    "\n",
    "inp2 = [1, 2, 3, 4, 5]\n",
    "k2 = 3\n",
    "print(reverseInGroups(inp2,k2))\n",
    "\n",
    "inp3 = [1, 2, 3, 4, 5, 6, 7, 8,9]\n",
    "k3 = 3\n",
    "print(reverseInGroups(inp3,k3))\n",
    "\n",
    "inp4 = [5, 6, 8, 9]\n",
    "k4 = 5\n",
    "print(reverseInGroups(inp4,k4))"
   ]
  },
  {
   "cell_type": "code",
   "execution_count": 13,
   "id": "7865b084",
   "metadata": {},
   "outputs": [],
   "source": [
    "# Rotate an array by d --> Counterclockwise or left\n",
    "inp1 = [1, 2, 3, 4, 5, 6]\n",
    "d1 = 2\n",
    "inp2 = [1, 2, 3]\n",
    "d2 = 4"
   ]
  },
  {
   "cell_type": "code",
   "execution_count": 14,
   "id": "78857abc",
   "metadata": {},
   "outputs": [],
   "source": [
    "def rotateArr_NaiveApproach(arr,d):\n",
    "    n = len(arr)\n",
    "    for i in range(d):\n",
    "        first = arr[0]\n",
    "        for j in range(n-1):\n",
    "            arr[j] = arr[j+1]\n",
    "            \n",
    "        arr[n-1] = first\n",
    "        \n",
    "    return arr\n",
    "    "
   ]
  },
  {
   "cell_type": "code",
   "execution_count": 15,
   "id": "a9a28f06",
   "metadata": {},
   "outputs": [
    {
     "name": "stdout",
     "output_type": "stream",
     "text": [
      "[3, 4, 5, 6, 1, 2]\n",
      "[2, 3, 1]\n"
     ]
    }
   ],
   "source": [
    "print(rotateArr_NaiveApproach(inp1,d1))\n",
    "print(rotateArr_NaiveApproach(inp2,d2))"
   ]
  },
  {
   "cell_type": "code",
   "execution_count": 22,
   "id": "8ac1cc55",
   "metadata": {},
   "outputs": [],
   "source": [
    "def rotateArr_BetterApproach(arr,d):\n",
    "    n = len(arr)\n",
    "    \n",
    "    # optimized value of d ie. handle cased when d > n\n",
    "    d %= n\n",
    "    \n",
    "    # create temp array\n",
    "    temp = [0] * n\n",
    "    \n",
    "    # copy last n-d elements to temp\n",
    "    for i in range(n-d):\n",
    "        temp[i] = arr[d + i]\n",
    "        \n",
    "    # copy first n-1 elements to temp\n",
    "    for i in range(d):\n",
    "        temp[n - d + i] = arr[i]\n",
    "        \n",
    "    # copy elements of temp to original arr\n",
    "    for i in range(n):\n",
    "        arr[i] = temp[i]\n",
    "        \n",
    "    return arr"
   ]
  },
  {
   "cell_type": "code",
   "execution_count": 28,
   "id": "ef66fb3e",
   "metadata": {},
   "outputs": [
    {
     "name": "stdout",
     "output_type": "stream",
     "text": [
      "[3, 4, 5, 6, 1, 2]\n",
      "[2, 3, 1]\n"
     ]
    }
   ],
   "source": [
    "print(rotateArr_BetterApproach(inp1,d1))\n",
    "print(rotateArr_BetterApproach(inp2,d2))"
   ]
  },
  {
   "cell_type": "code",
   "execution_count": 32,
   "id": "cc09782a",
   "metadata": {},
   "outputs": [],
   "source": [
    "def rotateArr_ReversalAlgo(arr,d):\n",
    "    n = len(arr)\n",
    "    \n",
    "    d %= n\n",
    "    \n",
    "    reverseArr(arr,0,d-1)\n",
    "    \n",
    "    reverseArr(arr,d,n-1)\n",
    "    \n",
    "    reverseArr(arr,0,n-1)\n",
    "    \n",
    "    return arr\n",
    "    \n",
    "def reverseArr(arr, start, end):\n",
    "    while start < end :\n",
    "        arr[start], arr[end] = arr[end], arr[start]\n",
    "        start += 1\n",
    "        end -= 1"
   ]
  },
  {
   "cell_type": "code",
   "execution_count": 33,
   "id": "5cf99b6c",
   "metadata": {},
   "outputs": [
    {
     "name": "stdout",
     "output_type": "stream",
     "text": [
      "[3, 4, 5, 6, 1, 2]\n",
      "[2, 3, 1]\n"
     ]
    }
   ],
   "source": [
    "inp3 = [1, 2, 3, 4, 5, 6]\n",
    "d3 = 2\n",
    "inp4 = [1, 2, 3]\n",
    "d4 = 4\n",
    "print(rotateArr_ReversalAlgo(inp3,d3))\n",
    "print(rotateArr_ReversalAlgo(inp4,d4))"
   ]
  },
  {
   "cell_type": "markdown",
   "id": "8f427ce6",
   "metadata": {},
   "source": [
    "# Day - 3"
   ]
  },
  {
   "cell_type": "markdown",
   "id": "016f7480",
   "metadata": {},
   "source": [
    "# 3 Great candidates problem\n",
    "return Max product of a triplet"
   ]
  },
  {
   "cell_type": "code",
   "execution_count": 14,
   "id": "c3730f28",
   "metadata": {},
   "outputs": [],
   "source": [
    "def maxProduct(arr):\n",
    "    \n",
    "    '''MaxProduct can be product of 3 positive max value or 2 negative value and 1 max positve value '''\n",
    "    \n",
    "    n = len(arr) # length of array\n",
    "    \n",
    "    # 3 variables to store positive max value maxA > maxB > maxC\n",
    "    maxA = float('-inf') # '-inf' = negative infinity \n",
    "    maxB = float('-inf')\n",
    "    maxC = float('-inf')\n",
    "    \n",
    "    # 2 variables to store negative value\n",
    "    minA = float('inf') # 'inf' = positive infinity\n",
    "    minB = float('inf')\n",
    "    \n",
    "    for i in range(n):\n",
    "        \n",
    "        if arr[i] > maxA :\n",
    "            maxC = maxB\n",
    "            maxB = maxA\n",
    "            maxA = arr[i]\n",
    "            \n",
    "        elif arr[i] > maxB :\n",
    "            maxC = maxB\n",
    "            maxB = arr[i]\n",
    "            \n",
    "        elif arr[i] > maxC :\n",
    "            maxC = arr[i]\n",
    "            \n",
    "        if arr[i] < minA :\n",
    "            minB = minA\n",
    "            minA = arr[i]\n",
    "            \n",
    "        elif arr[i] < minB :\n",
    "            minB = arr[i]\n",
    "                        \n",
    "    return max(maxA * maxB * maxC, minA * minB * maxA)\n",
    "\n"
   ]
  },
  {
   "cell_type": "code",
   "execution_count": 15,
   "id": "c7640a57",
   "metadata": {},
   "outputs": [
    {
     "name": "stdout",
     "output_type": "stream",
     "text": [
      "1200\n"
     ]
    }
   ],
   "source": [
    "arr1 = [10, 3, 5, 6, 20]\n",
    "\n",
    "print(maxProduct(arr1))"
   ]
  },
  {
   "cell_type": "code",
   "execution_count": 17,
   "id": "df29c371",
   "metadata": {},
   "outputs": [
    {
     "name": "stdout",
     "output_type": "stream",
     "text": [
      "-90\n"
     ]
    }
   ],
   "source": [
    "arr2 = [-10, -3, -5, -6, -20]\n",
    "print(maxProduct(arr2))"
   ]
  },
  {
   "cell_type": "code",
   "execution_count": 18,
   "id": "b956a191",
   "metadata": {},
   "outputs": [
    {
     "name": "stdout",
     "output_type": "stream",
     "text": [
      "168\n"
     ]
    }
   ],
   "source": [
    "arr3 = [1, -4, 3, -6, 7, 0]\n",
    "print(maxProduct(arr3))"
   ]
  },
  {
   "cell_type": "markdown",
   "id": "e9022efd",
   "metadata": {},
   "source": [
    "# Max consecutive one's (or zero's) in a binary array"
   ]
  },
  {
   "cell_type": "code",
   "execution_count": 41,
   "id": "4b2877c1",
   "metadata": {},
   "outputs": [
    {
     "name": "stdout",
     "output_type": "stream",
     "text": [
      "4\n",
      "2\n",
      "4\n"
     ]
    }
   ],
   "source": [
    "# Bit manipulation => XOR of two numbers is 0 if both are the same numbers\n",
    "\n",
    "def maxConsecBits(arr):\n",
    "    \n",
    "    maxCount, count, prev = 0, 0, -1\n",
    "    \n",
    "    for num in arr:\n",
    "        \n",
    "        # if prev_number and curr_number are same then increment count\n",
    "        if (prev ^ num) == 0:\n",
    "            count += 1\n",
    "            \n",
    "        else:\n",
    "            # update maxCount and reset count\n",
    "            maxCount = max(maxCount, count)\n",
    "            count = 1\n",
    "        # set prev to num\n",
    "        prev = num\n",
    "    return max(maxCount, count)\n",
    "\n",
    "arr1 = [0, 1, 0, 1, 1, 1, 1]\n",
    "arr2 = [0, 0, 1, 0, 1, 0]\n",
    "arr3 = [0, 0, 0, 0]\n",
    "print(maxConsecBits(arr1))\n",
    "print(maxConsecBits(arr2))\n",
    "print(maxConsecBits(arr3))"
   ]
  },
  {
   "cell_type": "code",
   "execution_count": 43,
   "id": "f7fb885c",
   "metadata": {},
   "outputs": [
    {
     "name": "stdout",
     "output_type": "stream",
     "text": [
      "4\n",
      "2\n",
      "4\n"
     ]
    }
   ],
   "source": [
    "# Simple traversal approach\n",
    "\n",
    "def maxiConsecBits(arr):\n",
    "    \n",
    "    maxCount , count = 0, 1\n",
    "    \n",
    "    for i in range(1,len(arr)):\n",
    "        \n",
    "        # checks previous number and current number are same or not\n",
    "        if arr[i] == arr[i-1]:\n",
    "            count += 1\n",
    "            \n",
    "        else:\n",
    "            # update maxCount and reset count\n",
    "            maxCount = max(maxCount, count)\n",
    "            count = 1\n",
    "    return max(maxCount, count)\n",
    "\n",
    "arr1 = [0, 1, 0, 1, 1, 1, 1]\n",
    "arr2 = [0, 0, 1, 0, 1, 0]\n",
    "arr3 = [0, 0, 0, 0]\n",
    "print(maxiConsecBits(arr1))\n",
    "print(maxiConsecBits(arr2))\n",
    "print(maxiConsecBits(arr3))"
   ]
  },
  {
   "cell_type": "code",
   "execution_count": 32,
   "id": "407a8b4e",
   "metadata": {},
   "outputs": [],
   "source": [
    "def maxConsecutive1s(arr):\n",
    "    \n",
    "    n = len(arr)\n",
    "    \n",
    "    i, consec_1s_counter, max_consec = 0,0,0\n",
    "    \n",
    "    while i < n:\n",
    "        \n",
    "        if arr[i] == 1 :\n",
    "            consec_1s_counter += 1\n",
    "            max_consec = consec_1s_counter\n",
    "            i += 1\n",
    "            continue\n",
    "        else:\n",
    "            consec_1s_counter = 0\n",
    "            \n",
    "        i += 1\n",
    "            \n",
    "    return max_consec "
   ]
  },
  {
   "cell_type": "code",
   "execution_count": 37,
   "id": "c6d649f8",
   "metadata": {},
   "outputs": [
    {
     "name": "stdout",
     "output_type": "stream",
     "text": [
      "4\n",
      "1\n",
      "0\n"
     ]
    }
   ],
   "source": [
    "def max_consecutive_1s (arr):\n",
    "    \n",
    "    n = len(arr)\n",
    "    consec_1s_counter , max_consec = 0, 0\n",
    "    \n",
    "    for i in range(n):\n",
    "        \n",
    "        if arr[i] == 1:\n",
    "            consec_1s_counter += 1\n",
    "            max_consec = consec_1s_counter\n",
    "            continue\n",
    "        else :\n",
    "            consec_1s_counter = 0\n",
    "            \n",
    "    return max_consec\n",
    "\n",
    "arr1 = [0, 1, 0, 1, 1, 1, 1]\n",
    "arr2 = [0, 0, 1, 0, 1, 0]\n",
    "arr3 = [0, 0, 0, 0]\n",
    "print(max_consecutive_1s(arr1))\n",
    "print(max_consecutive_1s(arr2))\n",
    "print(max_consecutive_1s(arr3))"
   ]
  },
  {
   "cell_type": "code",
   "execution_count": 33,
   "id": "ac24d2a7",
   "metadata": {},
   "outputs": [
    {
     "name": "stdout",
     "output_type": "stream",
     "text": [
      "4\n"
     ]
    }
   ],
   "source": [
    "arr1 = [0, 1, 0, 1, 1, 1, 1]\n",
    "\n",
    "print(maxConsecutive1s(arr1))"
   ]
  },
  {
   "cell_type": "code",
   "execution_count": 34,
   "id": "4999602f",
   "metadata": {},
   "outputs": [
    {
     "name": "stdout",
     "output_type": "stream",
     "text": [
      "1\n"
     ]
    }
   ],
   "source": [
    "arr2 = [0, 0, 1, 0, 1, 0]\n",
    "\n",
    "print(maxConsecutive1s(arr2))"
   ]
  },
  {
   "cell_type": "code",
   "execution_count": 35,
   "id": "f482a5d1",
   "metadata": {},
   "outputs": [
    {
     "name": "stdout",
     "output_type": "stream",
     "text": [
      "0\n"
     ]
    }
   ],
   "source": [
    "arr3 = [0, 0, 0, 0]\n",
    "\n",
    "print(maxConsecutive1s(arr3))"
   ]
  },
  {
   "cell_type": "markdown",
   "id": "931467b3",
   "metadata": {},
   "source": [
    "# Move all zeros to end\n"
   ]
  },
  {
   "cell_type": "code",
   "execution_count": 45,
   "id": "2eefe515",
   "metadata": {},
   "outputs": [
    {
     "name": "stdout",
     "output_type": "stream",
     "text": [
      "[1, 2, 4, 3, 5, 0, 0, 0]\n",
      "[10, 20, 30]\n",
      "[0, 0]\n"
     ]
    }
   ],
   "source": [
    "def moveAllZeros2end(arr): # time complexity => O(n) & space complexity => O(1)\n",
    "    \n",
    "    for i in range(len(arr)):\n",
    "        if arr[i] == 0:\n",
    "            zero = arr.pop(i)\n",
    "            arr.append(zero)\n",
    "    return arr\n",
    "\n",
    "arr1 = [1, 2, 0, 4, 3, 0, 5, 0]\n",
    "arr2 = [10, 20, 30]\n",
    "arr3 = [0, 0]\n",
    "print(moveAllZeros2end(arr1))\n",
    "print(moveAllZeros2end(arr2))\n",
    "print(moveAllZeros2end(arr3))"
   ]
  },
  {
   "cell_type": "code",
   "execution_count": 50,
   "id": "e18a7fa4",
   "metadata": {},
   "outputs": [
    {
     "name": "stdout",
     "output_type": "stream",
     "text": [
      "[1, 2, 4, 3, 5, 0, 0, 0]\n",
      "[10, 20, 30]\n",
      "[0, 0]\n"
     ]
    }
   ],
   "source": [
    "# Naive approach\n",
    "# using temp array\n",
    "\n",
    "def moveZerosToEnd(arr): # time complexity => O(n) space complexity = O(n) \n",
    "    \n",
    "    n = len(arr)\n",
    "    temp = [0] * n\n",
    "    j = 0\n",
    "    \n",
    "    for i in range(n):\n",
    "        if arr[i] != 0:\n",
    "            temp[j] = arr[i]\n",
    "            j += 1\n",
    "            \n",
    "    while j < n:\n",
    "        temp[j] = 0\n",
    "        j += 1\n",
    "        \n",
    "    for i in range(n):\n",
    "        arr[i] = temp[i]\n",
    "        \n",
    "    return arr\n",
    "\n",
    "arr1 = [1, 2, 0, 4, 3, 0, 5, 0]\n",
    "arr2 = [10, 20, 30]\n",
    "arr3 = [0, 0]\n",
    "print(moveZerosToEnd(arr1))\n",
    "print(moveZerosToEnd(arr2))\n",
    "print(moveZerosToEnd(arr3))"
   ]
  },
  {
   "cell_type": "code",
   "execution_count": 52,
   "id": "9fd1a48b",
   "metadata": {},
   "outputs": [
    {
     "name": "stdout",
     "output_type": "stream",
     "text": [
      "[1, 2, 4, 3, 5, 0, 0, 0]\n",
      "[10, 20, 30]\n",
      "[0, 0]\n"
     ]
    }
   ],
   "source": [
    "def move02end(arr): # time complexity => O(n) space complexity => (1)\n",
    "\n",
    "    n = len(arr)\n",
    "    index = 0\n",
    "    \n",
    "    for i in range(n):\n",
    "        if arr[i] != 0:\n",
    "            arr[index] = arr[i]\n",
    "            index += 1\n",
    "             \n",
    "    while index < n:\n",
    "        arr[index] = 0\n",
    "        index += 1\n",
    "    \n",
    "    return arr\n",
    "\n",
    "arr1 = [1, 2, 0, 4, 3, 0, 5, 0]\n",
    "arr2 = [10, 20, 30]\n",
    "arr3 = [0, 0]\n",
    "\n",
    "print(move02end(arr1))\n",
    "print(move02end(arr2))\n",
    "print(move02end(arr3))"
   ]
  },
  {
   "cell_type": "code",
   "execution_count": 53,
   "id": "0eb7b63e",
   "metadata": {},
   "outputs": [
    {
     "name": "stdout",
     "output_type": "stream",
     "text": [
      "[1, 2, 4, 3, 5, 0, 0, 0]\n",
      "[10, 20, 30]\n",
      "[0, 0]\n"
     ]
    }
   ],
   "source": [
    "def pushZeroToEnd(arr):\n",
    "    \n",
    "    # pointer to track next non zero element\n",
    "    count = 0\n",
    "    \n",
    "    for i in range(len(arr)):\n",
    "        \n",
    "        if arr[i] != 0:\n",
    "            \n",
    "            # swap curr element with 0 at index count\n",
    "            arr[i], arr[count] = arr[count], arr[i]\n",
    "            # increment count\n",
    "            count += 1\n",
    "    return arr\n",
    "\n",
    "arr1 = [1, 2, 0, 4, 3, 0, 5, 0]\n",
    "arr2 = [10, 20, 30]\n",
    "arr3 = [0, 0]\n",
    "print(pushZeroToEnd(arr1))\n",
    "print(pushZeroToEnd(arr2))\n",
    "print(pushZeroToEnd(arr3))"
   ]
  },
  {
   "cell_type": "code",
   "execution_count": 63,
   "id": "56cc3e59",
   "metadata": {},
   "outputs": [
    {
     "name": "stdout",
     "output_type": "stream",
     "text": [
      "[2, 1, 4, 3, 5]\n",
      "[4, 2, 8, 7, 10, 9]\n"
     ]
    }
   ],
   "source": [
    "def sortInWave(arr):\n",
    "    count = len(arr) // 2\n",
    "    l,r = 0,1\n",
    "    i = 0\n",
    "    \n",
    "    while i < count:\n",
    "        \n",
    "        arr[l],arr[r] = arr[r], arr[l]\n",
    "        l = r + 1 \n",
    "        r = l + 1\n",
    "        i += 1\n",
    "        \n",
    "    return arr\n",
    "\n",
    "arr1= [1, 2, 3, 4, 5]\n",
    "arr2 = [2, 4, 7, 8, 9, 10]\n",
    "print(sortInWave(arr1))\n",
    "print(sortInWave(arr2))"
   ]
  },
  {
   "cell_type": "code",
   "execution_count": 65,
   "id": "4cab35da",
   "metadata": {},
   "outputs": [
    {
     "name": "stdout",
     "output_type": "stream",
     "text": [
      "[2, 1, 4, 3, 5]\n",
      "[4, 2, 8, 7, 10, 9]\n"
     ]
    }
   ],
   "source": [
    "def sort_In_Wave(arr):\n",
    "    \n",
    "    n = len(arr)\n",
    "    \n",
    "    #swap adjacent pairs\n",
    "    \n",
    "    for i in range(0,n-1,2):\n",
    "        arr[i], arr[i+1] = arr[i+1],arr[i]\n",
    "    return arr\n",
    "\n",
    "arr1= [1, 2, 3, 4, 5]\n",
    "arr2 = [2, 4, 7, 8, 9, 10]\n",
    "print(sort_In_Wave(arr1))\n",
    "print(sort_In_Wave(arr2))"
   ]
  },
  {
   "cell_type": "code",
   "execution_count": 69,
   "id": "bea10757",
   "metadata": {},
   "outputs": [
    {
     "name": "stdout",
     "output_type": "stream",
     "text": [
      "125\n",
      "1000\n"
     ]
    }
   ],
   "source": [
    "def addOne(arr):\n",
    "    res = ''\n",
    "    for i in arr:\n",
    "        res += str(i)\n",
    "     \n",
    "    return int(res) + 1\n",
    "    \n",
    "arr1 = [1, 2, 4]\n",
    "print(addOne(arr1))\n",
    "arr2 = [9, 9, 9]\n",
    "print(addOne(arr2))"
   ]
  },
  {
   "cell_type": "code",
   "execution_count": 71,
   "id": "690a77fe",
   "metadata": {},
   "outputs": [
    {
     "name": "stdout",
     "output_type": "stream",
     "text": [
      "[1, 2, 5]\n",
      "[1, 0, 0, 0]\n"
     ]
    }
   ],
   "source": [
    "def addOne_using_carry(arr):\n",
    "    \n",
    "    carry = 1\n",
    "    \n",
    "    for i in range(len(arr)-1,-1,-1):\n",
    "        \n",
    "        sum = arr[i] + carry\n",
    "        arr[i] = sum % 10\n",
    "        carry = sum // 10\n",
    "    \n",
    "    if carry:\n",
    "        arr.insert(0,carry)\n",
    "        \n",
    "    return arr\n",
    "\n",
    "arr1 = [1, 2, 4]\n",
    "arr2 = [9, 9, 9]\n",
    "print(addOne_using_carry(arr1))\n",
    "print(addOne_using_carry(arr2))"
   ]
  },
  {
   "cell_type": "markdown",
   "id": "d3c9abca",
   "metadata": {},
   "source": [
    "# Day - 4"
   ]
  },
  {
   "cell_type": "markdown",
   "id": "df2fdf33",
   "metadata": {},
   "source": [
    "# Stock Buy and Sell - Max 1 transaction allowed\n"
   ]
  },
  {
   "cell_type": "code",
   "execution_count": 2,
   "id": "9a54917e",
   "metadata": {},
   "outputs": [
    {
     "name": "stdout",
     "output_type": "stream",
     "text": [
      "8\n",
      "0\n",
      "10\n"
     ]
    }
   ],
   "source": [
    "def max_profit(prices):\n",
    "    minsofar = prices[0]\n",
    "    profit = 0\n",
    "    \n",
    "    for i in range(1,len(prices)):\n",
    "        \n",
    "        minsofar = min(minsofar,prices[i])\n",
    "        \n",
    "        profit = max(profit,(prices[i] - minsofar))\n",
    "        \n",
    "    return profit\n",
    "\n",
    "prices1 = [7, 10, 1, 3, 6, 9, 2]\n",
    "prices2 = [7, 6, 4, 3, 1]\n",
    "prices3 = [1, 3, 6, 9, 11]\n",
    "\n",
    "print(max_profit(prices1))\n",
    "print(max_profit(prices2))\n",
    "print(max_profit(prices3))\n"
   ]
  },
  {
   "cell_type": "markdown",
   "id": "e28e21ba",
   "metadata": {},
   "source": [
    "# Multiple Transactions are allowed"
   ]
  },
  {
   "cell_type": "code",
   "execution_count": 9,
   "id": "9c973255",
   "metadata": {},
   "outputs": [
    {
     "name": "stdout",
     "output_type": "stream",
     "text": [
      "865\n",
      "0\n"
     ]
    }
   ],
   "source": [
    " def MaxProfit(prices):\n",
    "        \n",
    "        profit = 0\n",
    "        \n",
    "        for i in range(1,len(prices)):\n",
    "            \n",
    "            if prices[i] > prices[i-1]:\n",
    "                profit = profit + ( prices[i] - prices[i-1])\n",
    "                \n",
    "        return profit\n",
    "    \n",
    "prices1 = [100, 180, 260, 310, 40, 535, 695]\n",
    "prices2 = [4, 2]\n",
    "print(MaxProfit(prices1))\n",
    "print(MaxProfit(prices2))\n"
   ]
  },
  {
   "cell_type": "markdown",
   "id": "56c0d252",
   "metadata": {},
   "source": [
    "# Remove duplicates from Sorted Array"
   ]
  },
  {
   "cell_type": "code",
   "execution_count": 10,
   "id": "ce59a514",
   "metadata": {},
   "outputs": [
    {
     "name": "stdout",
     "output_type": "stream",
     "text": [
      "1 2 3 4 5 "
     ]
    }
   ],
   "source": [
    "def removeDuplicates(arr): # time complexity => O(n) & space complexity => O(n)\n",
    "    temp = []\n",
    "    \n",
    "    idx = 0\n",
    "    \n",
    "    for i in range(len(arr)):\n",
    "        \n",
    "        if arr[i] not in temp:\n",
    "            temp.append(arr[i])\n",
    "            arr[idx] = arr[i]\n",
    "            idx += 1\n",
    "            \n",
    "    return idx\n",
    "\n",
    "arr1 = [1, 2, 2, 3, 4, 4, 4, 5, 5]\n",
    "newSize = removeDuplicates(arr1)\n",
    "for i in range(newSize):\n",
    "    print(arr1[i],end=' ')"
   ]
  },
  {
   "cell_type": "code",
   "execution_count": 17,
   "id": "e844766c",
   "metadata": {},
   "outputs": [
    {
     "name": "stdout",
     "output_type": "stream",
     "text": [
      "1 2 3 "
     ]
    }
   ],
   "source": [
    "def remove_duplicates(arr): # time complexity => O(n) & space complexity => O(1)\n",
    "    \n",
    "    if len(arr) <= 1:\n",
    "        return len(arr)\n",
    "    \n",
    "    idx = 1\n",
    "    for i in range(1,len(arr)):\n",
    "        \n",
    "        if arr[i] != arr[i-1]:\n",
    "            arr[idx] = arr[i]\n",
    "            idx += 1\n",
    "            \n",
    "    return idx\n",
    "\n",
    "# arr1 = [1, 2, 2, 3, 4, 4, 4, 5, 5]\n",
    "# arr1 = [2, 2, 2, 2, 2] \n",
    "arr1 = [1, 2, 3]\n",
    "newSize = remove_duplicates(arr1)\n",
    "for i in range(newSize):\n",
    "    print(arr1[i],end=' ')"
   ]
  },
  {
   "cell_type": "code",
   "execution_count": 20,
   "id": "46cf38d6",
   "metadata": {},
   "outputs": [
    {
     "name": "stdout",
     "output_type": "stream",
     "text": [
      "[1, -4, 2, -1, 3, 4]\n",
      "[5, -5, 2, -2, 4, -8, 7, 1, 8, 0]\n"
     ]
    }
   ],
   "source": [
    "def rearrange(arr):\n",
    "    n = len(arr)\n",
    "    \n",
    "    pos = []\n",
    "    neg = []\n",
    "    \n",
    "    for num in arr:\n",
    "        if num >= 0 :\n",
    "            pos.append(num)\n",
    "        else:\n",
    "            neg.append(num)\n",
    "            \n",
    "    posIdx, negIdx, i = 0, 0, 0\n",
    "    \n",
    "    while posIdx < len(pos) and negIdx < len(neg):\n",
    "        \n",
    "        if (i % 2 == 0):\n",
    "            arr[i] = pos[posIdx]\n",
    "            posIdx += 1\n",
    "            \n",
    "        else :\n",
    "            arr[i] = neg[negIdx]\n",
    "            negIdx += 1\n",
    "            \n",
    "        i += 1\n",
    "        \n",
    "    while posIdx < len(pos):\n",
    "        arr[i] = pos[posIdx]\n",
    "        posIdx += 1\n",
    "        i += 1\n",
    "    \n",
    "    while negIdx < len(neg):\n",
    "        arr[i] = neg[negIdx]\n",
    "        negIdx += 1\n",
    "        i += 1\n",
    "        \n",
    "    return arr\n",
    "     \n",
    "    \n",
    "\n",
    "arr1 = [1, 2, 3, -4, -1, 4]\n",
    "arr2 = [-5, -2, 5, 2, 4, 7, 1, 8, 0, -8]\n",
    "print(rearrange(arr1))\n",
    "print(rearrange(arr2))\n"
   ]
  },
  {
   "cell_type": "markdown",
   "id": "89490f26",
   "metadata": {},
   "source": [
    "# Leaders in an array\n",
    "-> An element is a leader if it is greater than or equal to all the elements to its right side."
   ]
  },
  {
   "cell_type": "code",
   "execution_count": 23,
   "id": "ce91a27c",
   "metadata": {},
   "outputs": [
    {
     "name": "stdout",
     "output_type": "stream",
     "text": [
      "[17, 5, 2]\n",
      "[5, 2]\n"
     ]
    }
   ],
   "source": [
    "def leaders(arr):\n",
    "    \n",
    "    leaders = []\n",
    "    \n",
    "    max_element = arr[-1]\n",
    "    \n",
    "    leaders.append(max_element)\n",
    "    \n",
    "    n = len(arr)\n",
    "    \n",
    "    for i in range(n - 2, -1, -1):\n",
    "        \n",
    "        if arr[i] >= max_element :\n",
    "            max_element = arr[i]\n",
    "            leaders.append(max_element)\n",
    "    \n",
    "    leaders.reverse()\n",
    "    return leaders\n",
    "\n",
    "arr1 = [16, 17, 4, 3, 5, 2]\n",
    "arr2 = [1, 2, 3, 4, 5, 2]\n",
    "print(leaders(arr1))\n",
    "print(leaders(arr2))"
   ]
  },
  {
   "cell_type": "markdown",
   "id": "a1dc1434",
   "metadata": {},
   "source": [
    "# Day - 5"
   ]
  },
  {
   "cell_type": "markdown",
   "id": "8e50b8a5",
   "metadata": {},
   "source": [
    "# Missing and Repeating in an Array"
   ]
  },
  {
   "cell_type": "code",
   "execution_count": 1,
   "id": "21c60612",
   "metadata": {},
   "outputs": [
    {
     "name": "stdout",
     "output_type": "stream",
     "text": [
      "[3, 2]\n",
      "[1, 5]\n"
     ]
    }
   ],
   "source": [
    "def findRepeatingMissing(arr):\n",
    "    \n",
    "    n = len(arr)\n",
    "    repeating = -1\n",
    "    \n",
    "    # mark the visited indices by negating the value at that index\n",
    "    for i in range(n):\n",
    "        val = abs(arr[i])\n",
    "        \n",
    "        # if value at index (val-1) is already negative then val is repeating\n",
    "        if arr[val-1] > 0 :\n",
    "            arr[val-1] = -arr[val-1]\n",
    "        else:\n",
    "            # repeating element -> val\n",
    "            repeating = val\n",
    "    \n",
    "    missing = -1\n",
    "    \n",
    "    # index with positive value corresponds to the missing number\n",
    "    \n",
    "    for i in range(n):\n",
    "        if arr[i] > 0:\n",
    "            missing = i + 1\n",
    "            break\n",
    "    \n",
    "    return [repeating, missing]\n",
    "\n",
    "arr1 = [3, 1, 3]\n",
    "arr2 = [4, 3, 6, 2, 1, 1]\n",
    "print(findRepeatingMissing(arr1))\n",
    "print(findRepeatingMissing(arr2))\n"
   ]
  },
  {
   "cell_type": "code",
   "execution_count": 2,
   "id": "01fe709e",
   "metadata": {},
   "outputs": [
    {
     "name": "stdout",
     "output_type": "stream",
     "text": [
      "[3, 2]\n",
      "[1, 5]\n"
     ]
    }
   ],
   "source": [
    "def repeatingAndmissing(arr):\n",
    "    \n",
    "    n = len(arr)\n",
    "    \n",
    "    freq = [0] * (n+1)\n",
    "    \n",
    "    repeating = -1\n",
    "    missing = -1\n",
    "    \n",
    "    for num in arr:\n",
    "        freq[num] += 1\n",
    "        \n",
    "    for i in range(1,n+1):\n",
    "        if freq[i] == 0:\n",
    "            missing = i\n",
    "        elif freq[i] == 2:\n",
    "            repeating = i\n",
    "    return [repeating, missing]\n",
    "\n",
    "arr1 = [3, 1, 3]\n",
    "arr2 = [4, 3, 6, 2, 1, 1]\n",
    "print(repeatingAndmissing(arr1))\n",
    "print(repeatingAndmissing(arr2))"
   ]
  },
  {
   "cell_type": "markdown",
   "id": "426c3737",
   "metadata": {},
   "source": [
    "# Missing ranges of numbers"
   ]
  },
  {
   "cell_type": "code",
   "execution_count": 5,
   "id": "7722e4f4",
   "metadata": {},
   "outputs": [
    {
     "name": "stdout",
     "output_type": "stream",
     "text": [
      "[[10, 13], [16, 19], [21, 29], [32, 44], [46, 50]]\n",
      "\n",
      "[[-54, -49], [-47, -11], [-9, -7], [-5, -5], [-3, -1], [1, 3], [5, 16]]\n"
     ]
    }
   ],
   "source": [
    "def missingRanges(arr,lower,upper):\n",
    "    \n",
    "    n = len(arr)\n",
    "    res = []\n",
    "    \n",
    "    # case -1 : lower < arr[0] ie. missing range before first element\n",
    "    if lower < arr[0] :\n",
    "        res.append([lower, arr[0] - 1])\n",
    "    \n",
    "    # case - 2 : missing range between values in array\n",
    "    for i in range(n-1):\n",
    "        \n",
    "        if (arr[i+1] - arr[i]) > 1 :\n",
    "            res.append([arr[i] + 1, arr[i+1] - 1])\n",
    "    \n",
    "    # case - 3 : upper > last element ie. missing range after last element\n",
    "    if upper > arr[-1] :\n",
    "        res.append([arr[-1] + 1, upper])\n",
    "        \n",
    "    return res\n",
    "\n",
    "arr1 = [14, 15, 20, 30, 31, 45]\n",
    "lower1 = 10\n",
    "upper1 = 50\n",
    "arr2 = [-48, -10, -6, -4, 0, 4, 17]\n",
    "lower2 = -54\n",
    "upper2 = 17\n",
    "print(missingRanges(arr1,lower1,upper1))\n",
    "print()\n",
    "print(missingRanges(arr2,lower2,upper2))"
   ]
  },
  {
   "cell_type": "markdown",
   "id": "8e220df3",
   "metadata": {},
   "source": [
    "# Sum of all subarrays\n",
    "--> formula : Sum of all subarrays = arr[i] * (i + 1) * (n - i) ; for any element arr[i] in an array of size n"
   ]
  },
  {
   "cell_type": "code",
   "execution_count": 11,
   "id": "28d2ebfd",
   "metadata": {},
   "outputs": [
    {
     "name": "stdout",
     "output_type": "stream",
     "text": [
      "116\n",
      "50\n"
     ]
    }
   ],
   "source": [
    "def sumOfAllSubarrays(arr):\n",
    "    \n",
    "    n = len(arr)\n",
    "    total = 0\n",
    "    \n",
    "    for i in range(n):\n",
    "        total += arr[i] * (i + 1) * (n - i)\n",
    "\n",
    "    return total\n",
    "\n",
    "arr1 = [1, 4, 5, 3, 2]\n",
    "arr2 = [1, 2, 3, 4]\n",
    "print(sumOfAllSubarrays(arr1))\n",
    "print(sumOfAllSubarrays(arr2))"
   ]
  },
  {
   "cell_type": "markdown",
   "id": "3779f740",
   "metadata": {},
   "source": [
    "# Day - 6\n"
   ]
  },
  {
   "cell_type": "markdown",
   "id": "7e47f93f",
   "metadata": {},
   "source": [
    "# Stack Problems"
   ]
  },
  {
   "cell_type": "markdown",
   "id": "50275b91",
   "metadata": {},
   "source": [
    "# Celebrity Problem"
   ]
  },
  {
   "cell_type": "code",
   "execution_count": 3,
   "id": "610235ee",
   "metadata": {},
   "outputs": [
    {
     "name": "stdout",
     "output_type": "stream",
     "text": [
      "1\n",
      "-1\n",
      "0\n"
     ]
    }
   ],
   "source": [
    "def find_celeb(mat): # two pointer approach ==> time complexity O(n) & space complexity O(1)\n",
    "    \n",
    "    n = len(mat)\n",
    "    \n",
    "    i = 0\n",
    "    j = n - 1\n",
    "    \n",
    "    while i < j:\n",
    "        \n",
    "        # j knows i => j is not celebrity\n",
    "        if mat[j][i] == 1 :\n",
    "            j -= 1\n",
    "        else:\n",
    "            i += 1\n",
    "            \n",
    "    celeb = i\n",
    "    \n",
    "    # check if celeb is actually a celebrity or not\n",
    "    for i in range(n):\n",
    "        \n",
    "        if i == celeb :\n",
    "            continue\n",
    "        \n",
    "        if mat[celeb][i] or not mat[i][celeb] :\n",
    "            return -1\n",
    "    return celeb\n",
    "\n",
    "mat1 = [[1, 1, 0], \n",
    "        [0, 1, 0], \n",
    "        [0, 1, 1]]\n",
    "mat2 = [[1, 1], \n",
    "        [1, 1]]\n",
    "mat3 = [[1]]\n",
    "\n",
    "print(find_celeb(mat1))\n",
    "print(find_celeb(mat2))\n",
    "print(find_celeb(mat3))"
   ]
  },
  {
   "cell_type": "code",
   "execution_count": 6,
   "id": "fd9b57bc",
   "metadata": {},
   "outputs": [
    {
     "name": "stdout",
     "output_type": "stream",
     "text": [
      "1\n",
      "-1\n",
      "0\n"
     ]
    }
   ],
   "source": [
    "def celebrity(mat): # stack approach ==> time complexity O(n) & space complexity O(n)\n",
    "    \n",
    "    n = len(mat)\n",
    "    \n",
    "    stack = []\n",
    "    \n",
    "    for i in range(n):\n",
    "        stack.append(i)\n",
    "    \n",
    "    while len(stack) > 1 :\n",
    "        \n",
    "        i = stack.pop()\n",
    "        j = stack.pop()\n",
    "        \n",
    "        # if i knows j => j is celebrity\n",
    "        if mat[i][j] == 1 :\n",
    "            stack.append(j) \n",
    "        else: # i is celebrity\n",
    "            stack.append(i)\n",
    "            \n",
    "    celeb = stack.pop()\n",
    "    \n",
    "    # check is celeb is actually a celebrity or not\n",
    "    for i in range(n):\n",
    "        if i == celeb:\n",
    "            continue\n",
    "            \n",
    "        if mat[celeb][i] or not mat[i][celeb]:\n",
    "            return -1\n",
    "    \n",
    "    return celeb\n",
    "\n",
    "mat1 = [[1, 1, 0], \n",
    "        [0, 1, 0], \n",
    "        [0, 1, 1]]\n",
    "mat2 = [[1, 1], \n",
    "        [1, 1]]\n",
    "mat3 = [[1]]\n",
    "\n",
    "print(celebrity(mat1))\n",
    "print(celebrity(mat2))\n",
    "print(celebrity(mat3))"
   ]
  },
  {
   "cell_type": "markdown",
   "id": "6dda6430",
   "metadata": {},
   "source": [
    "# Valid Parentheses in an Expression"
   ]
  },
  {
   "cell_type": "code",
   "execution_count": 12,
   "id": "69c55dad",
   "metadata": {},
   "outputs": [
    {
     "name": "stdout",
     "output_type": "stream",
     "text": [
      "True\n",
      "False\n"
     ]
    }
   ],
   "source": [
    "def isValid(s):\n",
    "    \n",
    "    matching_dict = {')':'(',']':'[','}':'{'}\n",
    "    \n",
    "    stack = []\n",
    "    \n",
    "    for bracket in s :\n",
    "        if bracket not in matching_dict :\n",
    "            stack.append(bracket)\n",
    "        else:\n",
    "            if stack :\n",
    "                popped_bracket = stack.pop()\n",
    "\n",
    "                if matching_dict[bracket] != popped_bracket :\n",
    "                    return False\n",
    "            else:\n",
    "                return False\n",
    "    return True if len(stack) == 0 else False\n",
    "\n",
    "s1 = \"[{()}]\"\n",
    "s2 = \"([{]})\"\n",
    "print(isValid(s1))\n",
    "print(isValid(s2))"
   ]
  },
  {
   "cell_type": "markdown",
   "id": "c6db11af",
   "metadata": {},
   "source": [
    "# Day - 7 "
   ]
  },
  {
   "cell_type": "markdown",
   "id": "7ad6d785",
   "metadata": {},
   "source": [
    "# Queue implementation using 1 Stack and Recursion"
   ]
  },
  {
   "cell_type": "code",
   "execution_count": 1,
   "id": "9aa5ea27",
   "metadata": {},
   "outputs": [],
   "source": [
    "class myQueue:\n",
    "    \n",
    "    def __init__(self):\n",
    "        self.s = []\n",
    "        \n",
    "    def enqueue(self, value):\n",
    "        self.s.append(value)\n",
    "        \n",
    "    def dequeue(self):\n",
    "        if not self.s :\n",
    "            print('Queue Underflow')\n",
    "            return \n",
    "        \n",
    "        value = self.s.pop()\n",
    "        \n",
    "        if not self.s :\n",
    "            return \n",
    "        \n",
    "        # recursive call\n",
    "        self.dequeue()\n",
    "        \n",
    "        # Push current element back\n",
    "        self.s.append(value)\n",
    "        return\n",
    "    \n",
    "    # return the first element without removing it\n",
    "    def front(self):\n",
    "        if not self.s:\n",
    "            print('Queue is empty')\n",
    "            return -1\n",
    "        \n",
    "        value = self.s.pop()\n",
    "        \n",
    "        if not self.s:\n",
    "            self.s.append(value)\n",
    "            return value\n",
    "        \n",
    "        # recursive call\n",
    "        item = self.front()\n",
    "        self.s.append(value)\n",
    "        return item\n",
    "    \n",
    "    # return the current size of the queue\n",
    "    \n",
    "    def size(self):\n",
    "        return len(self.s)"
   ]
  },
  {
   "cell_type": "code",
   "execution_count": 2,
   "id": "aec93a8b",
   "metadata": {},
   "outputs": [],
   "source": [
    "q = myQueue()"
   ]
  },
  {
   "cell_type": "code",
   "execution_count": 3,
   "id": "aa554e42",
   "metadata": {},
   "outputs": [],
   "source": [
    "q.enqueue(1)\n",
    "q.enqueue(2)\n",
    "q.enqueue(3)"
   ]
  },
  {
   "cell_type": "code",
   "execution_count": 4,
   "id": "646d299a",
   "metadata": {},
   "outputs": [
    {
     "data": {
      "text/plain": [
       "1"
      ]
     },
     "execution_count": 4,
     "metadata": {},
     "output_type": "execute_result"
    }
   ],
   "source": [
    "q.front()"
   ]
  },
  {
   "cell_type": "code",
   "execution_count": 5,
   "id": "be66933d",
   "metadata": {},
   "outputs": [
    {
     "data": {
      "text/plain": [
       "3"
      ]
     },
     "execution_count": 5,
     "metadata": {},
     "output_type": "execute_result"
    }
   ],
   "source": [
    "q.size()"
   ]
  },
  {
   "cell_type": "code",
   "execution_count": 6,
   "id": "b5df6b1a",
   "metadata": {},
   "outputs": [],
   "source": [
    "q.dequeue()"
   ]
  },
  {
   "cell_type": "code",
   "execution_count": 7,
   "id": "ed473596",
   "metadata": {},
   "outputs": [
    {
     "data": {
      "text/plain": [
       "2"
      ]
     },
     "execution_count": 7,
     "metadata": {},
     "output_type": "execute_result"
    }
   ],
   "source": [
    "q.front()"
   ]
  },
  {
   "cell_type": "code",
   "execution_count": 8,
   "id": "1a0da23c",
   "metadata": {},
   "outputs": [
    {
     "data": {
      "text/plain": [
       "2"
      ]
     },
     "execution_count": 8,
     "metadata": {},
     "output_type": "execute_result"
    }
   ],
   "source": [
    "q.size()"
   ]
  },
  {
   "cell_type": "markdown",
   "id": "85bdcc58",
   "metadata": {},
   "source": [
    "# Day - 8"
   ]
  },
  {
   "cell_type": "markdown",
   "id": "a974a68e",
   "metadata": {},
   "source": [
    "# Implement two Stacks in an Array"
   ]
  },
  {
   "cell_type": "code",
   "execution_count": 8,
   "id": "ee8d3f89",
   "metadata": {},
   "outputs": [],
   "source": [
    "class TwoStacks :\n",
    "    \n",
    "    def __init__(self,n):\n",
    "        self.size = n\n",
    "        self.arr = [0] * n\n",
    "        self.top1 = -1\n",
    "        self.top2 = n\n",
    "    \n",
    "    # pushing the elements of 1st stack at left corner\n",
    "    def push1(self,value1):\n",
    "        \n",
    "        if self.top1 < self.top2 - 1:\n",
    "            self.top1 += 1\n",
    "            self.arr[self.top1] = value1\n",
    "     \n",
    "    # pushing the elements of 2nd stack at right corner\n",
    "    def push2(self, value2):\n",
    "        if self.top1 < self.top2 - 1:\n",
    "            self.top2 -= 1\n",
    "            self.arr[self.top2] = value2\n",
    "            \n",
    "    def pop1(self):\n",
    "        if self.top1 >= 0:\n",
    "            value1 = self.arr[self.top1]\n",
    "            self.top1 -= 1\n",
    "            return value1\n",
    "        return -1\n",
    "    \n",
    "    def pop2(self):\n",
    "        if self.top2 < self.size:\n",
    "            value2 = self.arr[self.top2]\n",
    "            self.top2 += 1\n",
    "            return value2\n",
    "        return -1\n",
    "    "
   ]
  },
  {
   "cell_type": "code",
   "execution_count": 9,
   "id": "f1231915",
   "metadata": {},
   "outputs": [],
   "source": [
    "ts = TwoStacks(5)"
   ]
  },
  {
   "cell_type": "code",
   "execution_count": 10,
   "id": "b5545ae3",
   "metadata": {},
   "outputs": [],
   "source": [
    "ts.push1(2)\n",
    "ts.push1(3)\n",
    "ts.push2(4)"
   ]
  },
  {
   "cell_type": "code",
   "execution_count": 11,
   "id": "69f52fa2",
   "metadata": {},
   "outputs": [
    {
     "name": "stdout",
     "output_type": "stream",
     "text": [
      "3\n",
      "4\n",
      "-1\n"
     ]
    }
   ],
   "source": [
    "print(ts.pop1())\n",
    "print(ts.pop2())\n",
    "print(ts.pop2())"
   ]
  },
  {
   "cell_type": "markdown",
   "id": "5e7f3ce7",
   "metadata": {},
   "source": [
    "# Prefix to Infix Conversion\n",
    "prefix => *+AB-CD\n",
    "\n",
    "infix => (A+B) * (C-D)\n",
    "\n"
   ]
  },
  {
   "cell_type": "code",
   "execution_count": 11,
   "id": "a53bdb8c",
   "metadata": {},
   "outputs": [],
   "source": [
    "def prefixToInfix(prefix):\n",
    "    stack = []\n",
    "    \n",
    "    # read prefix in reverse order\n",
    "    i = len(prefix) - 1\n",
    "    while i >= 0:\n",
    "        if not isOperator(prefix[i]):\n",
    "           \n",
    "            # symbol is operand\n",
    "            stack.append(prefix[i])\n",
    "            i -= 1\n",
    "        else:\n",
    "            \n",
    "            # symbol is operator\n",
    "            strng = \"(\" + stack.pop() + prefix[i] + stack.pop()+\")\"\n",
    "            stack.append(strng)\n",
    "            i -= 1\n",
    "    return stack.pop()\n",
    "\n",
    "def isOperator(c):\n",
    "    if c == '*' or c == '/' or c == '+' or c == '-' or c == '^' or c == '(' or c == ')' :\n",
    "        return True\n",
    "    else:\n",
    "        return False\n",
    "    "
   ]
  },
  {
   "cell_type": "code",
   "execution_count": 12,
   "id": "c9e8f113",
   "metadata": {},
   "outputs": [
    {
     "name": "stdout",
     "output_type": "stream",
     "text": [
      "((A-(B/C))*((A/K)-L))\n"
     ]
    }
   ],
   "source": [
    "s = '*-A/BC-/AKL'\n",
    "print(prefixToInfix(s))"
   ]
  },
  {
   "cell_type": "markdown",
   "id": "60f6aa51",
   "metadata": {},
   "source": [
    "# Infix to Postfix\n",
    "infix => a*(b+c)/d\n",
    "\n",
    "prefix => abc+*d/"
   ]
  },
  {
   "cell_type": "code",
   "execution_count": 7,
   "id": "86c68add",
   "metadata": {},
   "outputs": [
    {
     "name": "stdout",
     "output_type": "stream",
     "text": [
      "abc+*d/\n"
     ]
    }
   ],
   "source": [
    "def prec(c):\n",
    "    if c == '^' :\n",
    "        return 3\n",
    "    elif c == '/' or c == \"*\" :\n",
    "        return 2\n",
    "    elif c == '+' or c == '-' :\n",
    "        return 1\n",
    "    else :\n",
    "        return -1\n",
    "    \n",
    "def isRightAssociative(c):\n",
    "    return c == '^'\n",
    "\n",
    "def infixToPostfix(s):\n",
    "    stck = []\n",
    "    result = []\n",
    "    \n",
    "    for c in s:\n",
    "        \n",
    "        # if c is operand => append c to result\n",
    "        if ('a' <= c <= 'z') or ('A' <= c <= 'Z') or ('0' <= c <= 9):\n",
    "            result.append(c)\n",
    "            \n",
    "        # if c is '(' => push to stack\n",
    "        elif c == '(':\n",
    "            stck.append('(')\n",
    "        \n",
    "        # if c is ')' => pop until '('\n",
    "        elif c == ')':\n",
    "            while stck and stck[-1] != '(':\n",
    "                result.append(stck.pop())\n",
    "            stck.pop()\n",
    "        \n",
    "        else:\n",
    "            while stck and stck[-1] != '(' and (prec(stck[-1]) > prec(c) or (prec(stck[-1]) == prec(c) and not isRightAssociative(c))):\n",
    "                result.append(stck.pop())\n",
    "            stck.append(c)\n",
    "            \n",
    "        # pop remaining elements and append to result\n",
    "    while stck:\n",
    "        result.append(stck.pop())\n",
    "        \n",
    "    return ''.join(result)\n",
    "    \n",
    "e = \"a*(b+c)/d\"\n",
    "print(infixToPostfix(e))\n",
    "        "
   ]
  },
  {
   "cell_type": "markdown",
   "id": "eaa4daae",
   "metadata": {},
   "source": [
    "# Infix to Prefix\n",
    "\n",
    "infix => \"a*(b+c)/d\"\n",
    "\n",
    "postfix => /*a+bcd"
   ]
  },
  {
   "cell_type": "code",
   "execution_count": 7,
   "id": "665594f4",
   "metadata": {},
   "outputs": [
    {
     "name": "stdout",
     "output_type": "stream",
     "text": [
      "Infix Expression : a*(b+c)/d\n",
      "Prefix Expression : /*a+bcd\n"
     ]
    }
   ],
   "source": [
    "def prec(c):\n",
    "    '''Function that will return the precedence of the character c in expression'''\n",
    "    if c == '^':\n",
    "        return 3\n",
    "    elif c in ('*','/'):\n",
    "        return 2\n",
    "    elif c in ('+','-'):\n",
    "        return 1\n",
    "    else :\n",
    "        return -1\n",
    "    \n",
    "def isRightAssociative(c):\n",
    "    '''Function that will return whether the operator is right-associative or not'''\n",
    "    return c == '^'\n",
    "\n",
    "def isOperator(c):\n",
    "    return c in '+-*/^'\n",
    "\n",
    "def infixToPrefix(s):\n",
    "    stack = []\n",
    "    result = []\n",
    "    \n",
    "    # scanning from right to left\n",
    "    for c in reversed(s):\n",
    "        if c.isalnum():\n",
    "            result.append(c)\n",
    "            \n",
    "        elif c == ')' :\n",
    "            stack.append(c)\n",
    "            \n",
    "        elif c == '(' :\n",
    "            while stack and stack[-1] != ')' :\n",
    "                result.append(stack.pop())\n",
    "            if stack:\n",
    "                stack.pop()\n",
    "            \n",
    "        elif isOperator(c):\n",
    "            while (stack and isOperator(stack[-1]) and (prec(stack[-1]) > prec(c) or (prec(stack[-1]) == prec(c) and isRightAssociative(c)))):\n",
    "                result.append(stack.pop())\n",
    "            stack.append(c)\n",
    "        \n",
    "    # pop remaining elements\n",
    "    while stack:\n",
    "        result.append(stack.pop())\n",
    "        \n",
    "    return ''.join(reversed(result))\n",
    "\n",
    "e = 'a*(b+c)/d'\n",
    "print(f'Infix Expression : {e}')\n",
    "print(f'Prefix Expression : {infixToPrefix(e)}')"
   ]
  },
  {
   "cell_type": "markdown",
   "id": "a1320168",
   "metadata": {},
   "source": [
    "# Day - 9"
   ]
  },
  {
   "cell_type": "markdown",
   "id": "a2b0a53e",
   "metadata": {},
   "source": [
    "# Postfix to Infix\n",
    "postfix => abc++\n",
    "\n",
    "infix => (a+(b+c))"
   ]
  },
  {
   "cell_type": "code",
   "execution_count": 2,
   "id": "2662a86e",
   "metadata": {},
   "outputs": [
    {
     "name": "stdout",
     "output_type": "stream",
     "text": [
      "(a+(b+c))\n",
      "((a*b)+c)\n",
      "((a*(b+c))/d)\n"
     ]
    }
   ],
   "source": [
    "def isOperand(c):\n",
    "    \n",
    "    return ((c >= 'a' and c <= 'z') or (c >= 'A' and c <= 'Z'))\n",
    "\n",
    "def postfixToInfix(exp):\n",
    "    \n",
    "    stack = []\n",
    "    \n",
    "    for i in exp :\n",
    "        \n",
    "        if (isOperand(i)):\n",
    "            stack.insert(0,i)\n",
    "            \n",
    "        else:\n",
    "            op1 = stack[0]\n",
    "            stack.pop(0)\n",
    "            op2 = stack[0]\n",
    "            stack.pop(0)\n",
    "            intermediate_exp = '(' + op2 + i + op1 + ')'\n",
    "            stack.insert(0,intermediate_exp)\n",
    "            \n",
    "    return stack[0]\n",
    "\n",
    "\n",
    "exp1 = 'abc++'\n",
    "exp2 = 'ab*c+'\n",
    "exp3 = 'abc+*d/'\n",
    "print(postfixToInfix(exp1))\n",
    "print(postfixToInfix(exp2))\n",
    "print(postfixToInfix(exp3))"
   ]
  },
  {
   "cell_type": "markdown",
   "id": "95a0ede8",
   "metadata": {},
   "source": [
    "# Day - 10"
   ]
  },
  {
   "cell_type": "markdown",
   "id": "3ae44d02",
   "metadata": {},
   "source": [
    "# Prefix to Postfix\n",
    "prefix => *+AB-CD\n",
    "\n",
    "postfix => AB+CD-*"
   ]
  },
  {
   "cell_type": "code",
   "execution_count": 5,
   "id": "f2fa03d7",
   "metadata": {},
   "outputs": [
    {
     "name": "stdout",
     "output_type": "stream",
     "text": [
      "ABC/-AK/L-*\n"
     ]
    }
   ],
   "source": [
    "def prefixToPostfix(exp):\n",
    "    stack = []\n",
    "    \n",
    "    operators = set(['+','-','*','/','^'])\n",
    "    \n",
    "    exp = exp[::-1] # reverse the order\n",
    "    \n",
    "    for i in exp:\n",
    "        \n",
    "        if i in operators:\n",
    "            a = stack.pop()\n",
    "            b = stack.pop()\n",
    "            \n",
    "            temp = a+b+i\n",
    "            stack.append(temp)\n",
    "            \n",
    "        else:\n",
    "            stack.append(i)\n",
    "            \n",
    "    return stack\n",
    "\n",
    "s = \"*-A/BC-/AKL\"\n",
    "print(*prefixToPostfix(s)) # here '*' is the starred operation used to unpack the iterable\n",
    "    "
   ]
  },
  {
   "cell_type": "markdown",
   "id": "84fefc8c",
   "metadata": {},
   "source": [
    "# Day - 11"
   ]
  },
  {
   "cell_type": "markdown",
   "id": "44826f1e",
   "metadata": {},
   "source": [
    "# Postfix to Prefix \n",
    "Postfix => AB+CD-*\n",
    "\n",
    "Prefix => *+AB-CD"
   ]
  },
  {
   "cell_type": "code",
   "execution_count": 12,
   "id": "f8a07aac",
   "metadata": {},
   "outputs": [
    {
     "name": "stdout",
     "output_type": "stream",
     "text": [
      "*+AB-CD\n",
      "*-A/BC-/AKL\n"
     ]
    }
   ],
   "source": [
    "def isOperator(x):\n",
    "    \n",
    "    if x == \"+\" or x == \"-\" or x == \"*\" or x == \"/\" :\n",
    "        return True\n",
    "    else:\n",
    "        return False\n",
    "    \n",
    "def postToPrefix(post_exp):\n",
    "    stack = []\n",
    "        \n",
    "    for i in range(len(post_exp)):\n",
    "            \n",
    "        if (isOperator(post_exp[i])):\n",
    "            \n",
    "            op1 = stack.pop()\n",
    "            op2 = stack.pop()\n",
    "                \n",
    "            temp = post_exp[i] + op2 + op1\n",
    "                \n",
    "            stack.append(temp)\n",
    "                \n",
    "        else:\n",
    "                \n",
    "            stack.append(post_exp[i])\n",
    "                \n",
    "    return stack\n",
    "\n",
    "post_exp1 = \"AB+CD-*\"\n",
    "post_exp2 = \"ABC/-AK/L-*\"\n",
    "print(*postToPrefix(post_exp1))\n",
    "print(*postToPrefix(post_exp2))\n",
    "\n",
    "    "
   ]
  },
  {
   "cell_type": "markdown",
   "id": "69bfe3d5",
   "metadata": {},
   "source": [
    "# Day - 12\n"
   ]
  },
  {
   "cell_type": "markdown",
   "id": "f5fde112",
   "metadata": {},
   "source": [
    "# Evaluation of Postfix Expression"
   ]
  },
  {
   "cell_type": "code",
   "execution_count": 6,
   "id": "b80a4d08",
   "metadata": {},
   "outputs": [
    {
     "name": "stdout",
     "output_type": "stream",
     "text": [
      "-1\n"
     ]
    }
   ],
   "source": [
    "def evalPostfix(arr):\n",
    "    \n",
    "    stack = []\n",
    "    \n",
    "    for i in arr:\n",
    "        \n",
    "        if i[0].isdigit() or (len(i) > 1 and token[0] == '-'):\n",
    "            stack.append(int(i))\n",
    "            \n",
    "        else:\n",
    "            op1 = stack.pop()\n",
    "            op2 = stack.pop()\n",
    "            \n",
    "            if i == '+':\n",
    "                stack.append(op2 + op1)\n",
    "            elif i == '-':\n",
    "                stack.append(op2 - op1)\n",
    "            elif i == '*':\n",
    "                stack.append(op2 * op1)\n",
    "            elif i == '/':\n",
    "                stack.append(op2 // op1)\n",
    "            elif i == '^':\n",
    "                stack.append(op2 ** op1)\n",
    "    return stack.pop()\n",
    "\n",
    "arr1 = [\"2\", \"3\", \"1\", \"*\", \"^\", \"9\", \"-\"]\n",
    "print(evalPostfix(arr1))\n",
    "            "
   ]
  },
  {
   "cell_type": "markdown",
   "id": "eb31e49b",
   "metadata": {},
   "source": [
    "# Day - 13"
   ]
  },
  {
   "cell_type": "markdown",
   "id": "74a5255d",
   "metadata": {},
   "source": [
    "# Below question was asked in Amazon interview"
   ]
  },
  {
   "cell_type": "markdown",
   "id": "906f9805",
   "metadata": {},
   "source": [
    "# Create a customized data structured which evaluates function in O(1)\n",
    "--> GetLastElement()\n",
    "\n",
    "--> RemoveLastElement()\n",
    "\n",
    "--> AddElement()\n",
    "\n",
    "--> GetMin()\n",
    "\n",
    "All these functions should be of O(1)"
   ]
  },
  {
   "cell_type": "code",
   "execution_count": 4,
   "id": "9db3c27c",
   "metadata": {},
   "outputs": [
    {
     "name": "stdout",
     "output_type": "stream",
     "text": [
      "5 inserted successfully\n",
      "3 inserted successfully\n",
      "Min element :  3\n",
      "removed successfully\n",
      "2 inserted successfully\n",
      "last element :  2\n",
      "0 inserted successfully\n",
      "min element :  0\n",
      "removed successfully\n",
      "min element :  2\n"
     ]
    }
   ],
   "source": [
    "import sys\n",
    "\n",
    "stack = []\n",
    "\n",
    "Min = sys.maxsize\n",
    "\n",
    "# Utility function for adding a new element\n",
    "def addElement(x):\n",
    "    \n",
    "    global Min, stack\n",
    "    if (len(stack) == 0 or x < Min):\n",
    "        Min = x\n",
    "        pair = [x, Min]\n",
    "        stack.append(pair)\n",
    "        print(x,\"inserted successfully\")\n",
    "        \n",
    "# Utility function for returning last element of stack\n",
    "def getLastElement():\n",
    "    \n",
    "    global Min, stack\n",
    "    if (len(stack) == 0):\n",
    "        print(\"UnderFlow Error\")\n",
    "        return -1\n",
    "    else:\n",
    "        return stack[-1][0]\n",
    "    \n",
    "# Utility function for removing the last element \n",
    "def removeLastElement():\n",
    "    \n",
    "    global Min, stack\n",
    "    if (len(stack) == 0):\n",
    "        print(\"UnderFlow Error\")\n",
    "    elif (len(stack) > 1):\n",
    "        Min = stack[-2][1]\n",
    "    else:\n",
    "        Min = sys.maxsize\n",
    "    stack.pop()\n",
    "    \n",
    "    print(\"removed successfully\")\n",
    "    \n",
    "# Utility function for returning min element till now\n",
    "def getMin():\n",
    "    global Min, stack\n",
    "    if (len(stack) == 0):\n",
    "        print(\"UnderFlow Error\")\n",
    "        return -1\n",
    "    return stack[-1][1]\n",
    "\n",
    "addElement(5)\n",
    "addElement(7)\n",
    "addElement(3)\n",
    "print(\"Min element : \", getMin())\n",
    "removeLastElement()\n",
    "addElement(2)\n",
    "addElement(9)\n",
    "print(\"last element : \", getLastElement())\n",
    "addElement(0)\n",
    "print(\"min element : \", getMin())\n",
    "removeLastElement()\n",
    "addElement(11)\n",
    "print(\"min element : \", getMin())\n"
   ]
  },
  {
   "cell_type": "markdown",
   "id": "c5304aad",
   "metadata": {},
   "source": [
    "# Day - 14"
   ]
  },
  {
   "cell_type": "markdown",
   "id": "f7297159",
   "metadata": {},
   "source": [
    "# Reverse the Stack"
   ]
  },
  {
   "cell_type": "code",
   "execution_count": 9,
   "id": "eb7c35ba",
   "metadata": {},
   "outputs": [
    {
     "name": "stdout",
     "output_type": "stream",
     "text": [
      "Original Stack :  [1, 2, 3, 4]\n",
      "Reversed Stack :  [4, 3, 2, 1]\n"
     ]
    }
   ],
   "source": [
    "def reverseStack(st): # Time complexity --> O(n) & Space complexity --> O(n)\n",
    "    temp_stack = []\n",
    "    \n",
    "    while st :\n",
    "        temp_stack.append(st.pop())\n",
    "        \n",
    "    st[:] = temp_stack\n",
    "    return st\n",
    "\n",
    "st = []\n",
    "st.append(1)\n",
    "st.append(2)\n",
    "st.append(3)\n",
    "st.append(4)\n",
    "\n",
    "print(\"Original Stack : \",st)\n",
    "print(\"Reversed Stack : \",reverseStack(st))"
   ]
  },
  {
   "cell_type": "markdown",
   "id": "da593ce4",
   "metadata": {},
   "source": [
    "# Day - 15"
   ]
  },
  {
   "cell_type": "markdown",
   "id": "f1edf29c",
   "metadata": {},
   "source": [
    "# Reversing the first K elements of a Queue"
   ]
  },
  {
   "cell_type": "code",
   "execution_count": 3,
   "id": "4508bce9",
   "metadata": {},
   "outputs": [
    {
     "name": "stdout",
     "output_type": "stream",
     "text": [
      "1 2 3 4 "
     ]
    }
   ],
   "source": [
    "from collections import deque\n",
    "\n",
    "def reverseFirstK(q,k):\n",
    "    moveKToEnd(q,k)\n",
    "    s = len(q) - k\n",
    "    \n",
    "    for i in range(s):\n",
    "        x = q.popleft()\n",
    "        q.append(x)\n",
    "    return q\n",
    "def moveKToEnd(q,k):\n",
    "    if k == 0:\n",
    "        return \n",
    "    e = q.popleft()\n",
    "    moveKToEnd(q, k - 1)\n",
    "    q.append(e)\n",
    "    \n",
    "\n",
    "    \n",
    "# q = deque([1,2,3,4,5])\n",
    "# k = 3\n",
    "q = deque([4,3,2,1])\n",
    "k = 4\n",
    "queue = reverseFirstK(q, k)\n",
    "\n",
    "while queue :\n",
    "    print(queue.popleft(), end=' ')"
   ]
  },
  {
   "cell_type": "markdown",
   "id": "875a15f0",
   "metadata": {},
   "source": [
    "# Day - 16"
   ]
  },
  {
   "cell_type": "markdown",
   "id": "24cd683e",
   "metadata": {},
   "source": [
    "# Linked List Data Structure"
   ]
  },
  {
   "cell_type": "markdown",
   "id": "bec039a7",
   "metadata": {},
   "source": [
    "# Remove every K-th node"
   ]
  },
  {
   "cell_type": "code",
   "execution_count": 3,
   "id": "5d7b27e0",
   "metadata": {},
   "outputs": [
    {
     "name": "stdout",
     "output_type": "stream",
     "text": [
      "1->3->5->\n"
     ]
    }
   ],
   "source": [
    "class Node:\n",
    "    def __init__(self, value):\n",
    "        self.data = value\n",
    "        self.next = None\n",
    "        \n",
    "# Utility function to remove every Kth node in the Linked list\n",
    "def delete_every_kth(head, k): # Time complexity -> O(n) & space complexity -> O(1)\n",
    "    \n",
    "    # empty check and K <= 0\n",
    "    if head == None or k <= 0 :\n",
    "        return head\n",
    "    \n",
    "    curr = head\n",
    "    prev = None\n",
    "    \n",
    "    count = 0\n",
    "    \n",
    "    while curr is not None:\n",
    "        count += 1\n",
    "        \n",
    "        if count % k == 0: # if count is multiple of k then remove current node\n",
    "            \n",
    "            if prev is not None:\n",
    "                prev.next = curr.next\n",
    "                \n",
    "            else: # curr is at head so removing the head\n",
    "                head = curr.next\n",
    "                \n",
    "        else:\n",
    "            prev = curr\n",
    "        \n",
    "        curr = curr.next\n",
    "    \n",
    "    return head\n",
    "\n",
    "def print_LL(head):\n",
    "    curr = head\n",
    "    while curr is not None:\n",
    "        print(curr.data, end=\"->\")\n",
    "        curr = curr.next\n",
    "    print()\n",
    "    \n",
    "    \n",
    "head = Node(1)\n",
    "head.next = Node(2)\n",
    "head.next.next = Node(3)\n",
    "head.next.next.next = Node(4)\n",
    "head.next.next.next.next = Node(5)\n",
    "head.next.next.next.next.next = Node(6)\n",
    "\n",
    "k = 2\n",
    "\n",
    "head = delete_every_kth(head, k)\n",
    "print_LL(head)\n",
    "\n",
    "\n",
    "\n",
    "\n",
    "\n",
    "\n",
    "            "
   ]
  },
  {
   "cell_type": "markdown",
   "id": "6dde22dd",
   "metadata": {},
   "source": [
    "# Day - 17"
   ]
  },
  {
   "cell_type": "markdown",
   "id": "4b1cd74c",
   "metadata": {},
   "source": [
    "# Middle node in a Linked list"
   ]
  },
  {
   "cell_type": "code",
   "execution_count": 8,
   "id": "d1822cb8",
   "metadata": {},
   "outputs": [],
   "source": [
    "class Node:\n",
    "    \n",
    "    def __init__(self,value):\n",
    "        self.data = value\n",
    "        self.next = None"
   ]
  },
  {
   "cell_type": "code",
   "execution_count": 9,
   "id": "15e8e9d0",
   "metadata": {},
   "outputs": [],
   "source": [
    "# Using tortoise and Hare algorithm\n",
    "\n",
    "def getMiddle(head):\n",
    "    \n",
    "    # slow pointer and fast pointer\n",
    "    slowptr, fastptr = head, head\n",
    "    \n",
    "    while fastptr is not None and fastptr.next is not None:\n",
    "        \n",
    "        # increment fast pointer by two nodes\n",
    "        fastptr = fastptr.next.next\n",
    "        \n",
    "        # increment slow pointer by one node\n",
    "        slowptr = slowptr.next\n",
    "        \n",
    "    return slowptr.data\n",
    "    \n",
    "    "
   ]
  },
  {
   "cell_type": "code",
   "execution_count": 12,
   "id": "2fb054da",
   "metadata": {},
   "outputs": [
    {
     "name": "stdout",
     "output_type": "stream",
     "text": [
      "40\n"
     ]
    }
   ],
   "source": [
    "head = Node(10)\n",
    "head.next = Node(20)\n",
    "head.next.next = Node(30)\n",
    "head.next.next.next = Node(40)\n",
    "head.next.next.next.next = Node(50)\n",
    "head.next.next.next.next.next = Node(60)\n",
    "\n",
    "print(getMiddle(head))"
   ]
  },
  {
   "cell_type": "markdown",
   "id": "6e6d15b7",
   "metadata": {},
   "source": [
    "# Day - 18"
   ]
  },
  {
   "cell_type": "markdown",
   "id": "09115e46",
   "metadata": {},
   "source": [
    "# Check if a linked list is Circular Linked list "
   ]
  },
  {
   "cell_type": "code",
   "execution_count": 1,
   "id": "706007ad",
   "metadata": {},
   "outputs": [],
   "source": [
    "# Using Hare and rabbit algorithm"
   ]
  },
  {
   "cell_type": "code",
   "execution_count": 2,
   "id": "197412fe",
   "metadata": {},
   "outputs": [],
   "source": [
    "class Node:\n",
    "    \n",
    "    def __init__(self,value):\n",
    "        self.data = value\n",
    "        self.next = None"
   ]
  },
  {
   "cell_type": "code",
   "execution_count": 3,
   "id": "3b2190af",
   "metadata": {},
   "outputs": [],
   "source": [
    "def check_Circular(head):\n",
    "    \n",
    "    if not head:\n",
    "        return True\n",
    "    \n",
    "    slowptr = head\n",
    "    fastptr = head.next\n",
    "    \n",
    "    while fastptr and fastptr.next:\n",
    "        if slowptr == fastptr:\n",
    "            return True\n",
    "        \n",
    "        slowptr = slowptr.next\n",
    "        fastptr = fastptr.next.next\n",
    "    \n",
    "    return False\n",
    "\n"
   ]
  },
  {
   "cell_type": "code",
   "execution_count": 4,
   "id": "8cc31a2d",
   "metadata": {},
   "outputs": [
    {
     "name": "stdout",
     "output_type": "stream",
     "text": [
      "No\n",
      "Yes\n"
     ]
    }
   ],
   "source": [
    "head = Node(10)\n",
    "head.next = Node(20)\n",
    "head.next.next = Node(30)\n",
    "head.next.next.next = Node(40)\n",
    "head.next.next.next.next = Node(50)\n",
    "\n",
    "print(\"Yes\" if check_Circular(head) else \"No\")\n",
    "\n",
    "head.next.next.next.next.next = head\n",
    "\n",
    "print(\"Yes\" if check_Circular(head) else \"No\")"
   ]
  },
  {
   "cell_type": "markdown",
   "id": "31320d05",
   "metadata": {},
   "source": [
    "# Day - 19"
   ]
  },
  {
   "cell_type": "markdown",
   "id": "7ed064b9",
   "metadata": {},
   "source": [
    "# Count Nodes in Circular Linked List"
   ]
  },
  {
   "cell_type": "code",
   "execution_count": 1,
   "id": "dea6b561",
   "metadata": {},
   "outputs": [],
   "source": [
    "class Node:\n",
    "    \n",
    "    def __init__(self, value):\n",
    "        self.data = value\n",
    "        self.next = None"
   ]
  },
  {
   "cell_type": "code",
   "execution_count": 3,
   "id": "9a2dbb16",
   "metadata": {},
   "outputs": [],
   "source": [
    "def NumberOfNodes(head):\n",
    "    \n",
    "    curr = head\n",
    "    count = 0\n",
    "    \n",
    "    while True:\n",
    "        curr = curr.next\n",
    "        count = count + 1\n",
    "        if (curr == head):\n",
    "            break\n",
    "        \n",
    "    return count"
   ]
  },
  {
   "cell_type": "code",
   "execution_count": 4,
   "id": "0a94c3e4",
   "metadata": {},
   "outputs": [
    {
     "name": "stdout",
     "output_type": "stream",
     "text": [
      "5\n"
     ]
    }
   ],
   "source": [
    "head = Node(1)\n",
    "head.next = Node(2)\n",
    "head.next.next = Node(3)\n",
    "head.next.next.next = Node(4)\n",
    "head.next.next.next.next = Node(5)\n",
    "head.next.next.next.next.next = head\n",
    "\n",
    "print(NumberOfNodes(head))"
   ]
  },
  {
   "cell_type": "markdown",
   "id": "e4934800",
   "metadata": {},
   "source": [
    "# Day - 20"
   ]
  },
  {
   "cell_type": "markdown",
   "id": "a394b0ac",
   "metadata": {},
   "source": [
    "# Count Occurences in a Linked List"
   ]
  },
  {
   "cell_type": "code",
   "execution_count": 1,
   "id": "cee5d881",
   "metadata": {},
   "outputs": [],
   "source": [
    "class Node:\n",
    "    \n",
    "    def __init__(self,data):\n",
    "        self.data = data \n",
    "        self.next = None\n",
    "        "
   ]
  },
  {
   "cell_type": "code",
   "execution_count": 2,
   "id": "fbb4fc12",
   "metadata": {},
   "outputs": [],
   "source": [
    "def count(head, key):\n",
    "    \n",
    "    curr = head\n",
    "    count = 0\n",
    "    \n",
    "    while curr is not None:\n",
    "        \n",
    "        if curr.data == key:\n",
    "            count += 1\n",
    "        curr = curr.next\n",
    "    \n",
    "    return count"
   ]
  },
  {
   "cell_type": "code",
   "execution_count": 3,
   "id": "e63d544c",
   "metadata": {},
   "outputs": [
    {
     "name": "stdout",
     "output_type": "stream",
     "text": [
      "3\n"
     ]
    }
   ],
   "source": [
    "head = Node(1)\n",
    "head.next = Node(2)\n",
    "head.next.next = Node(1)\n",
    "head.next.next.next = Node(2)\n",
    "head.next.next.next.next = Node(1)\n",
    "\n",
    "key = 1\n",
    "\n",
    "print(count(head, key))"
   ]
  },
  {
   "cell_type": "markdown",
   "id": "825be865",
   "metadata": {},
   "source": [
    "# Day - 21"
   ]
  },
  {
   "cell_type": "markdown",
   "id": "930c8576",
   "metadata": {},
   "source": [
    "# Circular Linked list Traversal"
   ]
  },
  {
   "cell_type": "code",
   "execution_count": 1,
   "id": "7fb4d651",
   "metadata": {},
   "outputs": [],
   "source": [
    "class Node:\n",
    "    \n",
    "    def __init__(self,data):\n",
    "        self.data = data \n",
    "        self.next = None"
   ]
  },
  {
   "cell_type": "code",
   "execution_count": 2,
   "id": "6d4b6e5b",
   "metadata": {},
   "outputs": [],
   "source": [
    "def print_CircularList(curr, head):\n",
    "    \n",
    "    # empty check\n",
    "    if head is None:\n",
    "        return \n",
    "    \n",
    "    print(curr.data, end= \" \")\n",
    "    \n",
    "    if curr.next == head :\n",
    "        return \n",
    "    \n",
    "    print_CircularList(curr.next, head)"
   ]
  },
  {
   "cell_type": "code",
   "execution_count": 3,
   "id": "db798a5e",
   "metadata": {},
   "outputs": [
    {
     "name": "stdout",
     "output_type": "stream",
     "text": [
      "1 2 3 24 "
     ]
    }
   ],
   "source": [
    "head = Node(1)\n",
    "head.next = Node(2)\n",
    "head.next.next = Node(3)\n",
    "head.next.next.next = Node(24)\n",
    "head.next.next.next.next = head\n",
    "\n",
    "print_CircularList(head, head)"
   ]
  },
  {
   "cell_type": "markdown",
   "id": "231fd4b2",
   "metadata": {},
   "source": [
    "# Day - 22"
   ]
  },
  {
   "cell_type": "markdown",
   "id": "eb63f48a",
   "metadata": {},
   "source": [
    "# Convert singly linked list into Circular Linked list"
   ]
  },
  {
   "cell_type": "code",
   "execution_count": 1,
   "id": "7eb5acd0",
   "metadata": {},
   "outputs": [],
   "source": [
    "class Node:\n",
    "        \n",
    "    def __init__(self, data):\n",
    "        self.data = data \n",
    "        self.next = None"
   ]
  },
  {
   "cell_type": "code",
   "execution_count": 4,
   "id": "c31a9574",
   "metadata": {},
   "outputs": [],
   "source": [
    "def singlyToCircularLL(curr, head):\n",
    "    #if current node is the last node then connect it with the head node\n",
    "    if curr.next == None:\n",
    "        curr.next = head\n",
    "        return\n",
    "    \n",
    "    singlyToCircularLL(curr.next, head)\n",
    "    \n",
    "def print_LL(head):\n",
    "    \n",
    "    curr = head\n",
    "    \n",
    "    while True:\n",
    "        print(curr.data, end=\" \")\n",
    "        curr = curr.next\n",
    "        if curr == head:\n",
    "            break\n",
    "    print()\n",
    "    "
   ]
  },
  {
   "cell_type": "code",
   "execution_count": 5,
   "id": "1b1b28af",
   "metadata": {},
   "outputs": [
    {
     "name": "stdout",
     "output_type": "stream",
     "text": [
      "10 11 12 13 14 \n"
     ]
    }
   ],
   "source": [
    "head = Node(10)\n",
    "head.next = Node(11)\n",
    "head.next.next = Node(12)\n",
    "head.next.next.next = Node(13)\n",
    "head.next.next.next.next = Node(14)\n",
    "\n",
    "singlyToCircularLL(head, head)\n",
    "\n",
    "print_LL(head)"
   ]
  },
  {
   "cell_type": "markdown",
   "id": "c438c5e3",
   "metadata": {},
   "source": [
    "# Day -23"
   ]
  },
  {
   "cell_type": "markdown",
   "id": "29617c1e",
   "metadata": {},
   "source": [
    "# Deletion from a Circular Linked List"
   ]
  },
  {
   "cell_type": "markdown",
   "id": "1cd2047e",
   "metadata": {},
   "source": [
    "# --> Deletion at the beginning"
   ]
  },
  {
   "cell_type": "code",
   "execution_count": 1,
   "id": "2f11d0f4",
   "metadata": {},
   "outputs": [],
   "source": [
    "class Node:\n",
    "    \n",
    "    def __init__(self, data):\n",
    "        self.data = data\n",
    "        self.next = None"
   ]
  },
  {
   "cell_type": "code",
   "execution_count": 2,
   "id": "6d374927",
   "metadata": {},
   "outputs": [],
   "source": [
    "def deleteFirstNode(last):\n",
    "    \n",
    "    if last is None:\n",
    "        print(\"Circular Linked List is empty\")\n",
    "        return None\n",
    "    \n",
    "    head = last.next\n",
    "    \n",
    "    if head == last:\n",
    "        # if there is only one node in the list\n",
    "        last = None\n",
    "    else:\n",
    "        last.next = head.next\n",
    "        \n",
    "    return last\n",
    "\n",
    "def printList(last):\n",
    "    \n",
    "    if last is None:\n",
    "        return \n",
    "    \n",
    "    head = last.next\n",
    "    \n",
    "    while True:\n",
    "        print(head.data, end=\"\")\n",
    "        head = head.next\n",
    "        if head == last.next:\n",
    "            break\n",
    "        print(\" <-> \", end=\"\")\n",
    "    print()"
   ]
  },
  {
   "cell_type": "code",
   "execution_count": 5,
   "id": "391211f1",
   "metadata": {},
   "outputs": [
    {
     "name": "stdout",
     "output_type": "stream",
     "text": [
      "1 <-> 2 <-> 3 <-> 4\n",
      "After deleting the node at the beginning.\n",
      "2 <-> 3 <-> 4\n"
     ]
    }
   ],
   "source": [
    "first = Node(1)\n",
    "first.next = Node(2)\n",
    "first.next.next = Node(3)\n",
    "first.next.next.next = Node(4)\n",
    "last = first.next.next.next\n",
    "last.next = first\n",
    "\n",
    "printList(last)\n",
    "\n",
    "print(\"After deleting the node at the beginning.\")\n",
    "\n",
    "last = deleteFirstNode(last)\n",
    "\n",
    "printList(last)"
   ]
  },
  {
   "cell_type": "markdown",
   "id": "ad8c89f2",
   "metadata": {},
   "source": [
    "# --> Deletion at specific location"
   ]
  },
  {
   "cell_type": "code",
   "execution_count": 6,
   "id": "24ffd2f8",
   "metadata": {},
   "outputs": [],
   "source": [
    "class Node:\n",
    "    \n",
    "    def __init__(self,data):\n",
    "        self.data = data\n",
    "        self.next = None"
   ]
  },
  {
   "cell_type": "code",
   "execution_count": 9,
   "id": "7cabdf3c",
   "metadata": {},
   "outputs": [],
   "source": [
    "def deleteSpecificNode(last,key):\n",
    "    \n",
    "    if last is None:\n",
    "        print(\"Circular Linked List is empty\")\n",
    "        return None\n",
    "    \n",
    "    curr = last.next\n",
    "    prev = last\n",
    "    \n",
    "    if curr == last and curr.data == key:\n",
    "        last = None\n",
    "        return last\n",
    "    \n",
    "    if curr.data == key:\n",
    "        last.next = curr.next\n",
    "        return last\n",
    "    \n",
    "    while curr != last and curr.data != key:\n",
    "        prev = curr\n",
    "        curr = curr.next\n",
    "        \n",
    "        if curr.data == key:\n",
    "            prev.next = curr.next\n",
    "            if curr == last:\n",
    "                last = prev\n",
    "                \n",
    "    return last\n",
    "\n",
    "def printList(last):\n",
    "    \n",
    "    if last is None:\n",
    "        return \n",
    "    \n",
    "    head = last.next\n",
    "    \n",
    "    while True:\n",
    "        print(head.data, end=\"\")\n",
    "        head = head.next\n",
    "        if head == last.next:\n",
    "            break\n",
    "        print(\" <-> \", end=\"\")\n",
    "    print()"
   ]
  },
  {
   "cell_type": "code",
   "execution_count": 10,
   "id": "4e24468e",
   "metadata": {},
   "outputs": [
    {
     "name": "stdout",
     "output_type": "stream",
     "text": [
      "3 <-> 4 <-> 7 <-> 9\n",
      "4 <-> 7 <-> 9\n"
     ]
    }
   ],
   "source": [
    "first = Node(3)\n",
    "first.next = Node(4)\n",
    "first.next.next = Node(7)\n",
    "first.next.next.next = Node(9)\n",
    "\n",
    "last = first.next.next.next\n",
    "last.next = first\n",
    "\n",
    "printList(last)\n",
    "\n",
    "key = 3\n",
    "\n",
    "last = deleteSpecificNode(last,key)\n",
    "\n",
    "printList(last)"
   ]
  },
  {
   "cell_type": "markdown",
   "id": "6865f161",
   "metadata": {},
   "source": [
    "# --> Deletion at the end"
   ]
  },
  {
   "cell_type": "code",
   "execution_count": 11,
   "id": "cfa4f5f8",
   "metadata": {},
   "outputs": [],
   "source": [
    "class Node:\n",
    "    \n",
    "    def __init__(self, data):\n",
    "        self.data = data\n",
    "        self.next = None"
   ]
  },
  {
   "cell_type": "code",
   "execution_count": 15,
   "id": "db245211",
   "metadata": {},
   "outputs": [],
   "source": [
    "def deleteLastNode(last):\n",
    "    \n",
    "    if last is None:\n",
    "        return None\n",
    "    \n",
    "    head = last.next\n",
    "    \n",
    "    if head == last:\n",
    "        last = None\n",
    "        return last\n",
    "    \n",
    "    curr = head\n",
    "    while curr.next != last:\n",
    "        curr = curr.next\n",
    "    \n",
    "    curr.next = head\n",
    "    last = curr\n",
    "    \n",
    "    return last\n"
   ]
  },
  {
   "cell_type": "code",
   "execution_count": 16,
   "id": "ae9f7720",
   "metadata": {},
   "outputs": [],
   "source": [
    "def printList(last):\n",
    "    \n",
    "    if last is None:\n",
    "        return \"Empty list\"\n",
    "    \n",
    "    head = last.next\n",
    "    while True:\n",
    "        print(head.data, end=\"\")\n",
    "        head = head.next\n",
    "        if head == last.next:\n",
    "            break\n",
    "        print(\" <-> \", end=\"\")\n",
    "    print()"
   ]
  },
  {
   "cell_type": "code",
   "execution_count": 17,
   "id": "9eaef924",
   "metadata": {},
   "outputs": [
    {
     "name": "stdout",
     "output_type": "stream",
     "text": [
      "2 <-> 3 <-> 4 <-> 8\n",
      "2 <-> 3 <-> 4\n"
     ]
    }
   ],
   "source": [
    "first = Node(2)\n",
    "first.next = Node(3)\n",
    "first.next.next = Node(4)\n",
    "first.next.next.next = Node(8)\n",
    "\n",
    "last = first.next.next.next\n",
    "last.next = first\n",
    "\n",
    "printList(last)\n",
    "\n",
    "last = deleteLastNode(last)\n",
    "\n",
    "printList(last)"
   ]
  },
  {
   "cell_type": "markdown",
   "id": "d8b24b38",
   "metadata": {},
   "source": [
    "# Day - 24"
   ]
  },
  {
   "cell_type": "markdown",
   "id": "bac7f21f",
   "metadata": {},
   "source": [
    "# Exchange first and last node in Circular linked list\n"
   ]
  },
  {
   "cell_type": "code",
   "execution_count": 1,
   "id": "e02a5ca0",
   "metadata": {},
   "outputs": [],
   "source": [
    "class Node:\n",
    "    \n",
    "    def __init__(self,data):\n",
    "        self.data = data\n",
    "        self.next = None\n",
    "        "
   ]
  },
  {
   "cell_type": "code",
   "execution_count": 2,
   "id": "536ba981",
   "metadata": {},
   "outputs": [],
   "source": [
    "def exchangeFirstNLast(head):\n",
    "    \n",
    "    # if list's length is less than 2\n",
    "    if (head == None or head.next == None):\n",
    "        return head\n",
    "    \n",
    "    curr = head\n",
    "    \n",
    "    while curr.next != head:\n",
    "        curr = curr.next\n",
    "    \n",
    "    # now current pointer is at tail\n",
    "    head.data, curr.data = curr.data, head.data # swapping the values of first and last nodes\n",
    "    \n",
    "    return head"
   ]
  },
  {
   "cell_type": "code",
   "execution_count": 3,
   "id": "eab1507f",
   "metadata": {},
   "outputs": [],
   "source": [
    "def printList(last):\n",
    "    \n",
    "    if last is None:\n",
    "        return \"Empty list\"\n",
    "    \n",
    "    head = last.next\n",
    "    \n",
    "    while True:\n",
    "        print(head.data, end=\"\")\n",
    "        head = head.next\n",
    "        if head == last.next:\n",
    "            break\n",
    "        print(\" -> \", end=\"\")\n",
    "    print()"
   ]
  },
  {
   "cell_type": "code",
   "execution_count": 7,
   "id": "7d1be8df",
   "metadata": {},
   "outputs": [
    {
     "name": "stdout",
     "output_type": "stream",
     "text": [
      "Original Circular Linked List: \n",
      "4 -> 2 -> 3 -> 1\n",
      "After exchanging first and last node: \n",
      "1 -> 2 -> 3 -> 4\n"
     ]
    }
   ],
   "source": [
    "head = Node(4)\n",
    "head.next = Node(2)\n",
    "head.next.next = Node(3)\n",
    "head.next.next.next = Node(1)\n",
    "\n",
    "last = head.next.next.next\n",
    "last.next = head\n",
    "\n",
    "print(\"Original Circular Linked List: \")\n",
    "printList(last)\n",
    "\n",
    "print(\"After exchanging first and last node: \")\n",
    "exchangeFirstNLast(head)\n",
    "printList(last)\n"
   ]
  },
  {
   "cell_type": "markdown",
   "id": "47dd5fe2",
   "metadata": {},
   "source": [
    "# Day - 25"
   ]
  },
  {
   "cell_type": "markdown",
   "id": "e8ed5966",
   "metadata": {},
   "source": [
    "# Reverse a Singly Linked list"
   ]
  },
  {
   "cell_type": "code",
   "execution_count": 1,
   "id": "b0545a4b",
   "metadata": {},
   "outputs": [],
   "source": [
    "class Node:\n",
    "    \n",
    "    def __init__(self, data):\n",
    "        self.data = data \n",
    "        self.next = None"
   ]
  },
  {
   "cell_type": "code",
   "execution_count": 82,
   "id": "99df820f",
   "metadata": {},
   "outputs": [],
   "source": [
    "class LinkedList:\n",
    "    \n",
    "    def __init__(self):\n",
    "        self.head = None\n",
    "        self.n = 0\n",
    "    \n",
    "    def __len__(self):\n",
    "        return self.n\n",
    "        \n",
    "    def addNode(self,data):\n",
    "        new_node = Node(data)\n",
    "        \n",
    "        if self.head is None:\n",
    "            self.head = new_node\n",
    "            self.n = 1\n",
    "            return \n",
    "        \n",
    "        temp = self.head\n",
    "        \n",
    "        while temp.next is not None:\n",
    "            temp = temp.next\n",
    "        \n",
    "        temp.next = new_node\n",
    "        self.n += 1\n",
    "        \n",
    "    def printList(self):\n",
    "        \n",
    "        # empty check\n",
    "        if self.head is None:\n",
    "            return \"Empty list\"\n",
    "        \n",
    "        curr = self.head\n",
    "        \n",
    "        while curr is not None:\n",
    "            print(f\"{curr.data}\",end=\"\")\n",
    "            if curr.next is not None:\n",
    "                print(' -> ',end=\"\")\n",
    "            curr = curr.next\n",
    "        print()"
   ]
  },
  {
   "cell_type": "code",
   "execution_count": 83,
   "id": "f1fefad1",
   "metadata": {},
   "outputs": [],
   "source": [
    "def reverseSinglyLL(LL):\n",
    "    curr = LL.head\n",
    "    prev = None\n",
    "    \n",
    "    while curr is not None:\n",
    "        \n",
    "        nextNode = curr.next\n",
    "        \n",
    "        curr.next = prev\n",
    "        \n",
    "        prev = curr\n",
    "        \n",
    "        curr = nextNode\n",
    "    LL.head = prev\n",
    "    \n",
    "    "
   ]
  },
  {
   "cell_type": "code",
   "execution_count": 84,
   "id": "beaf53a2",
   "metadata": {},
   "outputs": [],
   "source": [
    "LL = LinkedList()"
   ]
  },
  {
   "cell_type": "code",
   "execution_count": 85,
   "id": "31b2f949",
   "metadata": {},
   "outputs": [],
   "source": [
    "LL.addNode(2)"
   ]
  },
  {
   "cell_type": "code",
   "execution_count": 86,
   "id": "beda29a5",
   "metadata": {},
   "outputs": [],
   "source": [
    "LL.addNode(5)"
   ]
  },
  {
   "cell_type": "code",
   "execution_count": 87,
   "id": "05ca51be",
   "metadata": {},
   "outputs": [],
   "source": [
    "LL.addNode(7)"
   ]
  },
  {
   "cell_type": "code",
   "execution_count": 88,
   "id": "016516e6",
   "metadata": {},
   "outputs": [],
   "source": [
    "LL.addNode(8)"
   ]
  },
  {
   "cell_type": "code",
   "execution_count": 89,
   "id": "07f5aca3",
   "metadata": {},
   "outputs": [],
   "source": [
    "LL.addNode(93)"
   ]
  },
  {
   "cell_type": "code",
   "execution_count": 90,
   "id": "5505136c",
   "metadata": {},
   "outputs": [
    {
     "name": "stdout",
     "output_type": "stream",
     "text": [
      "2 -> 5 -> 7 -> 8 -> 93\n"
     ]
    }
   ],
   "source": [
    "LL.printList()"
   ]
  },
  {
   "cell_type": "code",
   "execution_count": 91,
   "id": "77a7f242",
   "metadata": {},
   "outputs": [
    {
     "name": "stdout",
     "output_type": "stream",
     "text": [
      "5\n"
     ]
    }
   ],
   "source": [
    "print(len(LL))"
   ]
  },
  {
   "cell_type": "code",
   "execution_count": 92,
   "id": "c59d6ac9",
   "metadata": {},
   "outputs": [],
   "source": [
    "reverseSinglyLL(LL)"
   ]
  },
  {
   "cell_type": "code",
   "execution_count": 93,
   "id": "7bd725e9",
   "metadata": {},
   "outputs": [
    {
     "name": "stdout",
     "output_type": "stream",
     "text": [
      "93 -> 8 -> 7 -> 5 -> 2\n"
     ]
    }
   ],
   "source": [
    "LL.printList()"
   ]
  },
  {
   "cell_type": "code",
   "execution_count": null,
   "id": "d3cda64f",
   "metadata": {},
   "outputs": [],
   "source": []
  }
 ],
 "metadata": {
  "kernelspec": {
   "display_name": "Python 3 (ipykernel)",
   "language": "python",
   "name": "python3"
  },
  "language_info": {
   "codemirror_mode": {
    "name": "ipython",
    "version": 3
   },
   "file_extension": ".py",
   "mimetype": "text/x-python",
   "name": "python",
   "nbconvert_exporter": "python",
   "pygments_lexer": "ipython3",
   "version": "3.12.3"
  }
 },
 "nbformat": 4,
 "nbformat_minor": 5
}
