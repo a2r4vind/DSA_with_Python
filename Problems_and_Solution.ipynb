{
 "cells": [
  {
   "cell_type": "markdown",
   "id": "121e7933",
   "metadata": {},
   "source": [
    "# DAY 1"
   ]
  },
  {
   "cell_type": "code",
   "execution_count": 2,
   "id": "a1004b0a",
   "metadata": {},
   "outputs": [
    {
     "name": "stdout",
     "output_type": "stream",
     "text": [
      "1 3 \n"
     ]
    }
   ],
   "source": [
    "# Print alternates in list\n",
    "def print_alt(s):\n",
    "    i = 0\n",
    "    while i < len(s):\n",
    "        print(s[i],end=' ')\n",
    "        i += 2\n",
    "    return ''\n",
    "\n",
    "inp = [1,2,3,4]\n",
    "print(print_alt(inp))"
   ]
  },
  {
   "cell_type": "code",
   "execution_count": 3,
   "id": "e8dfb1de",
   "metadata": {},
   "outputs": [
    {
     "name": "stdout",
     "output_type": "stream",
     "text": [
      "1 3 \n"
     ]
    }
   ],
   "source": [
    "def print_alternates(s):\n",
    "    for i in range(0,len(s),2):\n",
    "        print(s[i],end=' ')\n",
    "    return ''\n",
    "\n",
    "inp = [1,2,3,4]\n",
    "print(print_alternates(inp))"
   ]
  },
  {
   "cell_type": "code",
   "execution_count": 7,
   "id": "91a9eda9",
   "metadata": {},
   "outputs": [
    {
     "name": "stdout",
     "output_type": "stream",
     "text": [
      "2\n"
     ]
    }
   ],
   "source": [
    "def search_element(l,k):\n",
    "    i = 0\n",
    "    while i < len(l):\n",
    "        if l[i] == k:\n",
    "            return i\n",
    "        i += 1\n",
    "        \n",
    "    return 'Not found!'\n",
    "\n",
    "inp = [1,2,3,4]\n",
    "x = 3\n",
    "print(search_element(inp,x))"
   ]
  },
  {
   "cell_type": "code",
   "execution_count": 8,
   "id": "394be718",
   "metadata": {},
   "outputs": [
    {
     "name": "stdout",
     "output_type": "stream",
     "text": [
      "90\n"
     ]
    }
   ],
   "source": [
    "def largest_element(l):\n",
    "    i = 0\n",
    "    max = l[i]\n",
    "    \n",
    "    while i < len(l):\n",
    "        if l[i] > max:\n",
    "            max = l[i]\n",
    "        i += 1\n",
    "    return max\n",
    "\n",
    "inp = [1, 8, 7, 56, 90]\n",
    "print(largest_element(inp))"
   ]
  },
  {
   "cell_type": "code",
   "execution_count": 11,
   "id": "6d13ed43",
   "metadata": {},
   "outputs": [
    {
     "name": "stdout",
     "output_type": "stream",
     "text": [
      "[7, 5, 6, 2, 3, 4, 1]\n"
     ]
    }
   ],
   "source": [
    "def reverse_list(l):\n",
    "    s = 0\n",
    "    e = len(l) - 1\n",
    "    for i in range(len(l)//2):\n",
    "        l[s], l[e] = l[e], l[s]\n",
    "        s += 1\n",
    "        e -= 1\n",
    "    return l\n",
    "\n",
    "inp = [1, 4, 3, 2, 6, 5, 7]\n",
    "print(reverse_list(inp))\n",
    "        "
   ]
  },
  {
   "cell_type": "code",
   "execution_count": 14,
   "id": "8aae0a4c",
   "metadata": {},
   "outputs": [
    {
     "name": "stdout",
     "output_type": "stream",
     "text": [
      "False\n",
      "True\n"
     ]
    }
   ],
   "source": [
    "def is_sorted(l):\n",
    "    for i in range(1,len(l)):\n",
    "        if l[i] < l[i-1]:\n",
    "            return False\n",
    "    return True\n",
    "\n",
    "\n",
    "inp1 = [90, 80, 100, 70, 40, 30]\n",
    "print(is_sorted(inp1))\n",
    "inp2 = [10, 20, 30, 40, 50]\n",
    "print(is_sorted(inp2))"
   ]
  },
  {
   "cell_type": "markdown",
   "id": "f165ab3a",
   "metadata": {},
   "source": [
    "# Day 2"
   ]
  },
  {
   "cell_type": "code",
   "execution_count": 7,
   "id": "f83ee9be",
   "metadata": {},
   "outputs": [
    {
     "name": "stdout",
     "output_type": "stream",
     "text": [
      "34\n"
     ]
    }
   ],
   "source": [
    "# Second Largest Element in array:\n",
    "def second_largest(arr):\n",
    "    '''Return the 2nd largest element in array.'''\n",
    "    i = 2\n",
    "    max_element = arr[0]\n",
    "    sec_max_element = arr[1]\n",
    "    if max_element < sec_max_element:\n",
    "        max_element, sec_max_element = sec_max_element, max_element\n",
    "    while i < len(arr):\n",
    "        if arr[i] > max_element:\n",
    "            sec_max_element = max_element\n",
    "            max_element  = arr[i]\n",
    "        elif sec_max_element < arr[i] < max_element:\n",
    "            sec_max_element = arr[i] \n",
    "        i += 1\n",
    "    if max_element == sec_max_element:\n",
    "        return -1\n",
    "    else:\n",
    "        return sec_max_element\n",
    "\n",
    "inp = [12, 35, 1, 10, 34, 1]\n",
    "print(second_largest(inp))"
   ]
  },
  {
   "cell_type": "code",
   "execution_count": 10,
   "id": "01489dbb",
   "metadata": {},
   "outputs": [
    {
     "name": "stdout",
     "output_type": "stream",
     "text": [
      "14\n",
      "16\n"
     ]
    }
   ],
   "source": [
    "def thirdLargest(arr):\n",
    "    first, second, third = -1, -1, -1\n",
    "    \n",
    "    for i in range(len(arr)):\n",
    "        if arr[i] > first:\n",
    "            first = arr[i]\n",
    "            \n",
    "    for i in range(len(arr)):\n",
    "        if second < arr[i] < first:\n",
    "            second = arr[i]\n",
    "            \n",
    "    for i in range(len(arr)):\n",
    "        if third < arr[i] < second:\n",
    "            third = arr[i]\n",
    "            \n",
    "    return third\n",
    "\n",
    "inp = [1, 14, 2, 16, 10, 20]\n",
    "print(thirdLargest(inp))\n",
    "inp1 = [19, -10, 20, 14, 2, 16, 10]\n",
    "print(thirdLargest(inp1))\n",
    "    "
   ]
  },
  {
   "cell_type": "markdown",
   "id": "fc79e95d",
   "metadata": {},
   "source": [
    "# Day 3"
   ]
  },
  {
   "cell_type": "code",
   "execution_count": 10,
   "id": "a0c06519",
   "metadata": {},
   "outputs": [
    {
     "name": "stdout",
     "output_type": "stream",
     "text": [
      "[3, 2, 1, 6, 5, 4, 8, 7]\n",
      "[3, 2, 1, 5, 4]\n",
      "[3, 2, 1, 6, 5, 4, 9, 8, 7]\n",
      "[9, 8, 6, 5]\n"
     ]
    }
   ],
   "source": [
    "# Reverse in Groups\n",
    "\n",
    "def reverse_in_group(arr,k):\n",
    "    n = len(arr) # length of array\n",
    "    \n",
    "    # case - 1 length of array < key\n",
    "    if n < k:\n",
    "        l = 0\n",
    "        r = n - 1\n",
    "        while l < r :\n",
    "            arr[l], arr[r] = arr[r], arr[l]\n",
    "            l += 1\n",
    "            r -= 1\n",
    "    # case - 2 length of array > key    \n",
    "    else:\n",
    "        i = n // k + 1 # iteration = i\n",
    "        c = 0\n",
    "        while c < i :\n",
    "            l = c * k\n",
    "            r = l + k - 1\n",
    "            \n",
    "            # handling cases when n // k != 0\n",
    "            if r > (n - 1) :\n",
    "                r = n - 1\n",
    "            \n",
    "            while l < r :\n",
    "                arr[l], arr[r] = arr[r], arr[l]\n",
    "                l += 1\n",
    "                r -= 1\n",
    "            c += 1\n",
    "                \n",
    "    return arr\n",
    "            \n",
    "\n",
    "inp1 = [1, 2, 3, 4, 5, 6, 7, 8]\n",
    "k1 = 3\n",
    "print(reverse_in_group(inp1,k1))\n",
    "\n",
    "inp2 = [1, 2, 3, 4, 5]\n",
    "k2 = 3\n",
    "print(reverse_in_group(inp2,k2))\n",
    "\n",
    "inp3 = [1, 2, 3, 4, 5, 6, 7, 8,9]\n",
    "k3 = 3\n",
    "print(reverse_in_group(inp3,k3))\n",
    "\n",
    "inp4 = [5, 6, 8, 9]\n",
    "k4 = 5\n",
    "print(reverse_in_group(inp4,k4))"
   ]
  },
  {
   "cell_type": "code",
   "execution_count": 11,
   "id": "2c346243",
   "metadata": {},
   "outputs": [],
   "source": [
    "# More Optimized code of above problem"
   ]
  },
  {
   "cell_type": "code",
   "execution_count": 12,
   "id": "df33e7e1",
   "metadata": {},
   "outputs": [
    {
     "name": "stdout",
     "output_type": "stream",
     "text": [
      "[3, 2, 1, 6, 5, 4, 8, 7]\n",
      "[3, 2, 1, 5, 4]\n",
      "[3, 2, 1, 6, 5, 4, 9, 8, 7]\n",
      "[9, 8, 6, 5]\n"
     ]
    }
   ],
   "source": [
    "def reverseInGroups(arr,k):\n",
    "    i = 0\n",
    "    n = len(arr) # length of array\n",
    "    \n",
    "    while i < n:\n",
    "        left = i\n",
    "        # to handle multiple cases where k is not multiple of n\n",
    "        right = min(i+k-1,n-1)\n",
    "        \n",
    "        while left < right :\n",
    "            arr[left], arr[right] = arr[right], arr[left]\n",
    "            left += 1\n",
    "            right -= 1\n",
    "        i += k\n",
    "        \n",
    "    return arr\n",
    "\n",
    "inp1 = [1, 2, 3, 4, 5, 6, 7, 8]\n",
    "k1 = 3\n",
    "print(reverseInGroups(inp1,k1))\n",
    "\n",
    "inp2 = [1, 2, 3, 4, 5]\n",
    "k2 = 3\n",
    "print(reverseInGroups(inp2,k2))\n",
    "\n",
    "inp3 = [1, 2, 3, 4, 5, 6, 7, 8,9]\n",
    "k3 = 3\n",
    "print(reverseInGroups(inp3,k3))\n",
    "\n",
    "inp4 = [5, 6, 8, 9]\n",
    "k4 = 5\n",
    "print(reverseInGroups(inp4,k4))"
   ]
  },
  {
   "cell_type": "code",
   "execution_count": 13,
   "id": "7865b084",
   "metadata": {},
   "outputs": [],
   "source": [
    "# Rotate an array by d --> Counterclockwise or left\n",
    "inp1 = [1, 2, 3, 4, 5, 6]\n",
    "d1 = 2\n",
    "inp2 = [1, 2, 3]\n",
    "d2 = 4"
   ]
  },
  {
   "cell_type": "code",
   "execution_count": 14,
   "id": "78857abc",
   "metadata": {},
   "outputs": [],
   "source": [
    "def rotateArr_NaiveApproach(arr,d):\n",
    "    n = len(arr)\n",
    "    for i in range(d):\n",
    "        first = arr[0]\n",
    "        for j in range(n-1):\n",
    "            arr[j] = arr[j+1]\n",
    "            \n",
    "        arr[n-1] = first\n",
    "        \n",
    "    return arr\n",
    "    "
   ]
  },
  {
   "cell_type": "code",
   "execution_count": 15,
   "id": "a9a28f06",
   "metadata": {},
   "outputs": [
    {
     "name": "stdout",
     "output_type": "stream",
     "text": [
      "[3, 4, 5, 6, 1, 2]\n",
      "[2, 3, 1]\n"
     ]
    }
   ],
   "source": [
    "print(rotateArr_NaiveApproach(inp1,d1))\n",
    "print(rotateArr_NaiveApproach(inp2,d2))"
   ]
  },
  {
   "cell_type": "code",
   "execution_count": 22,
   "id": "8ac1cc55",
   "metadata": {},
   "outputs": [],
   "source": [
    "def rotateArr_BetterApproach(arr,d):\n",
    "    n = len(arr)\n",
    "    \n",
    "    # optimized value of d ie. handle cased when d > n\n",
    "    d %= n\n",
    "    \n",
    "    # create temp array\n",
    "    temp = [0] * n\n",
    "    \n",
    "    # copy last n-d elements to temp\n",
    "    for i in range(n-d):\n",
    "        temp[i] = arr[d + i]\n",
    "        \n",
    "    # copy first n-1 elements to temp\n",
    "    for i in range(d):\n",
    "        temp[n - d + i] = arr[i]\n",
    "        \n",
    "    # copy elements of temp to original arr\n",
    "    for i in range(n):\n",
    "        arr[i] = temp[i]\n",
    "        \n",
    "    return arr"
   ]
  },
  {
   "cell_type": "code",
   "execution_count": 28,
   "id": "ef66fb3e",
   "metadata": {},
   "outputs": [
    {
     "name": "stdout",
     "output_type": "stream",
     "text": [
      "[3, 4, 5, 6, 1, 2]\n",
      "[2, 3, 1]\n"
     ]
    }
   ],
   "source": [
    "print(rotateArr_BetterApproach(inp1,d1))\n",
    "print(rotateArr_BetterApproach(inp2,d2))"
   ]
  },
  {
   "cell_type": "code",
   "execution_count": 32,
   "id": "cc09782a",
   "metadata": {},
   "outputs": [],
   "source": [
    "def rotateArr_ReversalAlgo(arr,d):\n",
    "    n = len(arr)\n",
    "    \n",
    "    d %= n\n",
    "    \n",
    "    reverseArr(arr,0,d-1)\n",
    "    \n",
    "    reverseArr(arr,d,n-1)\n",
    "    \n",
    "    reverseArr(arr,0,n-1)\n",
    "    \n",
    "    return arr\n",
    "    \n",
    "def reverseArr(arr, start, end):\n",
    "    while start < end :\n",
    "        arr[start], arr[end] = arr[end], arr[start]\n",
    "        start += 1\n",
    "        end -= 1"
   ]
  },
  {
   "cell_type": "code",
   "execution_count": 33,
   "id": "5cf99b6c",
   "metadata": {},
   "outputs": [
    {
     "name": "stdout",
     "output_type": "stream",
     "text": [
      "[3, 4, 5, 6, 1, 2]\n",
      "[2, 3, 1]\n"
     ]
    }
   ],
   "source": [
    "inp3 = [1, 2, 3, 4, 5, 6]\n",
    "d3 = 2\n",
    "inp4 = [1, 2, 3]\n",
    "d4 = 4\n",
    "print(rotateArr_ReversalAlgo(inp3,d3))\n",
    "print(rotateArr_ReversalAlgo(inp4,d4))"
   ]
  },
  {
   "cell_type": "code",
   "execution_count": null,
   "id": "6e8ee4e1",
   "metadata": {},
   "outputs": [],
   "source": []
  }
 ],
 "metadata": {
  "kernelspec": {
   "display_name": "Python 3 (ipykernel)",
   "language": "python",
   "name": "python3"
  },
  "language_info": {
   "codemirror_mode": {
    "name": "ipython",
    "version": 3
   },
   "file_extension": ".py",
   "mimetype": "text/x-python",
   "name": "python",
   "nbconvert_exporter": "python",
   "pygments_lexer": "ipython3",
   "version": "3.12.3"
  }
 },
 "nbformat": 4,
 "nbformat_minor": 5
}
