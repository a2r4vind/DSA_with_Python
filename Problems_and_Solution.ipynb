{
 "cells": [
  {
   "cell_type": "markdown",
   "id": "121e7933",
   "metadata": {},
   "source": [
    "# DAY 1"
   ]
  },
  {
   "cell_type": "code",
   "execution_count": 2,
   "id": "a1004b0a",
   "metadata": {},
   "outputs": [
    {
     "name": "stdout",
     "output_type": "stream",
     "text": [
      "1 3 \n"
     ]
    }
   ],
   "source": [
    "# Print alternates in list\n",
    "def print_alt(s):\n",
    "    i = 0\n",
    "    while i < len(s):\n",
    "        print(s[i],end=' ')\n",
    "        i += 2\n",
    "    return ''\n",
    "\n",
    "inp = [1,2,3,4]\n",
    "print(print_alt(inp))"
   ]
  },
  {
   "cell_type": "code",
   "execution_count": 3,
   "id": "e8dfb1de",
   "metadata": {},
   "outputs": [
    {
     "name": "stdout",
     "output_type": "stream",
     "text": [
      "1 3 \n"
     ]
    }
   ],
   "source": [
    "def print_alternates(s):\n",
    "    for i in range(0,len(s),2):\n",
    "        print(s[i],end=' ')\n",
    "    return ''\n",
    "\n",
    "inp = [1,2,3,4]\n",
    "print(print_alternates(inp))"
   ]
  },
  {
   "cell_type": "code",
   "execution_count": 7,
   "id": "91a9eda9",
   "metadata": {},
   "outputs": [
    {
     "name": "stdout",
     "output_type": "stream",
     "text": [
      "2\n"
     ]
    }
   ],
   "source": [
    "def search_element(l,k):\n",
    "    i = 0\n",
    "    while i < len(l):\n",
    "        if l[i] == k:\n",
    "            return i\n",
    "        i += 1\n",
    "        \n",
    "    return 'Not found!'\n",
    "\n",
    "inp = [1,2,3,4]\n",
    "x = 3\n",
    "print(search_element(inp,x))"
   ]
  },
  {
   "cell_type": "code",
   "execution_count": 8,
   "id": "394be718",
   "metadata": {},
   "outputs": [
    {
     "name": "stdout",
     "output_type": "stream",
     "text": [
      "90\n"
     ]
    }
   ],
   "source": [
    "def largest_element(l):\n",
    "    i = 0\n",
    "    max = l[i]\n",
    "    \n",
    "    while i < len(l):\n",
    "        if l[i] > max:\n",
    "            max = l[i]\n",
    "        i += 1\n",
    "    return max\n",
    "\n",
    "inp = [1, 8, 7, 56, 90]\n",
    "print(largest_element(inp))"
   ]
  },
  {
   "cell_type": "code",
   "execution_count": 11,
   "id": "6d13ed43",
   "metadata": {},
   "outputs": [
    {
     "name": "stdout",
     "output_type": "stream",
     "text": [
      "[7, 5, 6, 2, 3, 4, 1]\n"
     ]
    }
   ],
   "source": [
    "def reverse_list(l):\n",
    "    s = 0\n",
    "    e = len(l) - 1\n",
    "    for i in range(len(l)//2):\n",
    "        l[s], l[e] = l[e], l[s]\n",
    "        s += 1\n",
    "        e -= 1\n",
    "    return l\n",
    "\n",
    "inp = [1, 4, 3, 2, 6, 5, 7]\n",
    "print(reverse_list(inp))\n",
    "        "
   ]
  },
  {
   "cell_type": "code",
   "execution_count": 14,
   "id": "8aae0a4c",
   "metadata": {},
   "outputs": [
    {
     "name": "stdout",
     "output_type": "stream",
     "text": [
      "False\n",
      "True\n"
     ]
    }
   ],
   "source": [
    "def is_sorted(l):\n",
    "    for i in range(1,len(l)):\n",
    "        if l[i] < l[i-1]:\n",
    "            return False\n",
    "    return True\n",
    "\n",
    "\n",
    "inp1 = [90, 80, 100, 70, 40, 30]\n",
    "print(is_sorted(inp1))\n",
    "inp2 = [10, 20, 30, 40, 50]\n",
    "print(is_sorted(inp2))"
   ]
  },
  {
   "cell_type": "markdown",
   "id": "f165ab3a",
   "metadata": {},
   "source": [
    "# Day 2"
   ]
  },
  {
   "cell_type": "code",
   "execution_count": 7,
   "id": "f83ee9be",
   "metadata": {},
   "outputs": [
    {
     "name": "stdout",
     "output_type": "stream",
     "text": [
      "34\n"
     ]
    }
   ],
   "source": [
    "# Second Largest Element in array:\n",
    "def second_largest(arr):\n",
    "    '''Return the 2nd largest element in array.'''\n",
    "    i = 2\n",
    "    max_element = arr[0]\n",
    "    sec_max_element = arr[1]\n",
    "    if max_element < sec_max_element:\n",
    "        max_element, sec_max_element = sec_max_element, max_element\n",
    "    while i < len(arr):\n",
    "        if arr[i] > max_element:\n",
    "            sec_max_element = max_element\n",
    "            max_element  = arr[i]\n",
    "        elif sec_max_element < arr[i] < max_element:\n",
    "            sec_max_element = arr[i] \n",
    "        i += 1\n",
    "    if max_element == sec_max_element:\n",
    "        return -1\n",
    "    else:\n",
    "        return sec_max_element\n",
    "\n",
    "inp = [12, 35, 1, 10, 34, 1]\n",
    "print(second_largest(inp))"
   ]
  },
  {
   "cell_type": "code",
   "execution_count": 10,
   "id": "01489dbb",
   "metadata": {},
   "outputs": [
    {
     "name": "stdout",
     "output_type": "stream",
     "text": [
      "14\n",
      "16\n"
     ]
    }
   ],
   "source": [
    "def thirdLargest(arr):\n",
    "    first, second, third = -1, -1, -1\n",
    "    \n",
    "    for i in range(len(arr)):\n",
    "        if arr[i] > first:\n",
    "            first = arr[i]\n",
    "            \n",
    "    for i in range(len(arr)):\n",
    "        if second < arr[i] < first:\n",
    "            second = arr[i]\n",
    "            \n",
    "    for i in range(len(arr)):\n",
    "        if third < arr[i] < second:\n",
    "            third = arr[i]\n",
    "            \n",
    "    return third\n",
    "\n",
    "inp = [1, 14, 2, 16, 10, 20]\n",
    "print(thirdLargest(inp))\n",
    "inp1 = [19, -10, 20, 14, 2, 16, 10]\n",
    "print(thirdLargest(inp1))\n",
    "    "
   ]
  },
  {
   "cell_type": "code",
   "execution_count": 8,
   "id": "f51c12c4",
   "metadata": {},
   "outputs": [
    {
     "name": "stdout",
     "output_type": "stream",
     "text": [
      "-1\n",
      "-1\n",
      "-1\n"
     ]
    }
   ],
   "source": []
  },
  {
   "cell_type": "code",
   "execution_count": null,
   "id": "a0c06519",
   "metadata": {},
   "outputs": [],
   "source": []
  }
 ],
 "metadata": {
  "kernelspec": {
   "display_name": "Python 3 (ipykernel)",
   "language": "python",
   "name": "python3"
  },
  "language_info": {
   "codemirror_mode": {
    "name": "ipython",
    "version": 3
   },
   "file_extension": ".py",
   "mimetype": "text/x-python",
   "name": "python",
   "nbconvert_exporter": "python",
   "pygments_lexer": "ipython3",
   "version": "3.12.3"
  }
 },
 "nbformat": 4,
 "nbformat_minor": 5
}
