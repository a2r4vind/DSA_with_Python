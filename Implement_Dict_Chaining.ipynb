{
 "cells": [
  {
   "cell_type": "markdown",
   "id": "212e3367",
   "metadata": {},
   "source": [
    "# Implementing Dictionary using Chaining concept of hashing to tackle collisions"
   ]
  },
  {
   "cell_type": "code",
   "execution_count": 3,
   "id": "7f1199c8",
   "metadata": {},
   "outputs": [],
   "source": [
    "class Node:\n",
    "    \n",
    "    def __init__(self,key,value):\n",
    "        self.key = key\n",
    "        self.value = value\n",
    "        self.next = None\n",
    "        "
   ]
  },
  {
   "cell_type": "code",
   "execution_count": 61,
   "id": "6fbe6dfc",
   "metadata": {},
   "outputs": [],
   "source": [
    "class LinkedList:\n",
    "    \n",
    "    def __init__(self):\n",
    "        # empty linked list => condition : Head = None\n",
    "        self.head = None\n",
    "        self.n = 0 # count of nodes in Linked List\n",
    "        \n",
    "    # length of Linked list = Number of nodes in Linked list\n",
    "    def __len__(self):\n",
    "        return self.n\n",
    "    \n",
    "    \n",
    "        \n",
    "    # Linked list Traversal \n",
    "    def traverse(self):\n",
    "        \n",
    "        # temp node\n",
    "        temp = self.head\n",
    "        \n",
    "        # to stop to the end of linked list (ie. tail)\n",
    "        while temp != None:\n",
    "            print(temp.key,'-->',temp.value,' ',end=' ')\n",
    "            temp = temp.next\n",
    "            \n",
    "    # Linked List size method\n",
    "    def size(self):\n",
    "        \n",
    "        # temp node\n",
    "        temp = self.head\n",
    "        counter = 0\n",
    "        \n",
    "        # to stop to the end of linked list (ie. tail)\n",
    "        while temp != None:\n",
    "            counter += 1\n",
    "            temp = temp.next\n",
    "        return counter\n",
    "    \n",
    "    # insert at Tail\n",
    "    def append(self,key,value):\n",
    "        # create new_node\n",
    "        new_node = Node(key,value)\n",
    "        \n",
    "        # if Linked List is empty \n",
    "        if self.head == None:\n",
    "            self.head = new_node\n",
    "            self.n = self.n + 1\n",
    "            return\n",
    "        \n",
    "        # if Linked List is not empty\n",
    "        temp = self.head\n",
    "        \n",
    "        while temp.next != None:\n",
    "            temp = temp.next\n",
    "            \n",
    "        # now temp is at last node\n",
    "        temp.next = new_node\n",
    "        self.n = self.n + 1\n",
    "        \n",
    "    # delete from head(self):\n",
    "    def delete_head(self):\n",
    "        if self.head == None:\n",
    "            return 'Empty Linked List'\n",
    "        \n",
    "        self.head = self.head.next\n",
    "        self.n = self.n - 1\n",
    "        \n",
    "    # remove by key\n",
    "    def remove(self,key):\n",
    "        if self.head == None:\n",
    "            return 'Empty Linked List'\n",
    "        \n",
    "        if self.head.key == key:\n",
    "            self.n = self.n - 1\n",
    "            self.delete_head()\n",
    "            return\n",
    "        \n",
    "        temp = self.head\n",
    "        \n",
    "        while temp.next != None:\n",
    "            if temp.next.key == key:\n",
    "                break\n",
    "            temp = temp.next\n",
    "        \n",
    "        # if item not found\n",
    "        if temp.next == None:\n",
    "            return 'Item not found.'\n",
    "        else: # item found\n",
    "            temp.next = temp.next.next\n",
    "            self.n = self.n - 1\n",
    "    \n",
    "    #Search item\n",
    "    def search(self,key):\n",
    "        temp = self.head\n",
    "        pos = 0\n",
    "        \n",
    "        while temp != None:\n",
    "            if temp.key == key:\n",
    "                return pos\n",
    "            temp = temp.next\n",
    "            pos += 1\n",
    "        return -1\n",
    "    \n",
    "    def get_node_at_index(self,index):\n",
    "        \n",
    "        temp = self.head\n",
    "        counter = 0\n",
    "        \n",
    "        while temp != None:\n",
    "            \n",
    "            if counter == index:\n",
    "                return temp\n",
    "            temp = temp.next\n",
    "            counter += 1\n",
    "            "
   ]
  },
  {
   "cell_type": "code",
   "execution_count": 84,
   "id": "18365da1",
   "metadata": {},
   "outputs": [],
   "source": [
    "class Dictionary:\n",
    "    \n",
    "    def __init__(self,capacity):\n",
    "        \n",
    "        self.capacity = capacity\n",
    "        self.size = 0\n",
    "        # create array of LinkedList\n",
    "        self.buckets = self.make_array(self.capacity)\n",
    "        \n",
    "    def make_array(self, capacity):\n",
    "        \n",
    "        L = []\n",
    "        \n",
    "        for i in range(capacity):\n",
    "            L.append(LinkedList())\n",
    "            \n",
    "        return L\n",
    "    \n",
    "    # Below magic method allows the square bracket notation for insertion\n",
    "    def __setitem__(self,key,value):\n",
    "        self.put(key,value)\n",
    "    \n",
    "    def put(self,key,value):\n",
    "        \n",
    "        bucket_index = self.hash_function(key)\n",
    "        \n",
    "        node_index = self.get_node_index(bucket_index, key)\n",
    "        \n",
    "        #Insert case\n",
    "        if node_index == -1:\n",
    "            \n",
    "            self.buckets[bucket_index].append(key,value)\n",
    "            self.size += 1\n",
    "            \n",
    "            load_factor = self.size/self.capacity\n",
    "            print('load_factor => ',load_factor)\n",
    "            \n",
    "            if load_factor >= 2 :\n",
    "                self.rehash()\n",
    "            \n",
    "        else: # Update case\n",
    "            node = self.buckets[bucket_index].get_node_at_index(node_index)\n",
    "            node.value = value\n",
    "        \n",
    "    def get_node_index(self,bucket_index,key):\n",
    "        node_index = self.buckets[bucket_index].search(key)\n",
    "        return node_index\n",
    "    \n",
    "    def rehash(self,):\n",
    "        self.capacity = self.capacity * 2\n",
    "        old_buckets = self.buckets\n",
    "        self.size = 0\n",
    "        self.buckets = self.make_array(self.capacity)\n",
    "        \n",
    "        for i in old_buckets:\n",
    "            for j in range(i.size()):\n",
    "                node = i.get_node_at_index(j)\n",
    "                key_item = node.key\n",
    "                value_item = node.value\n",
    "                self.put(key_item, value_item)\n",
    "            \n",
    "        \n",
    "    \n",
    "    def hash_function(self,key):\n",
    "        return abs(hash(key)) % self.capacity\n",
    "    \n",
    "    # below magic method is for getting an item using square bracket notation\n",
    "    def __getitem__(self, key):\n",
    "        return self.get(key)\n",
    "    \n",
    "    # method to get an item\n",
    "    def get(self,key):\n",
    "        \n",
    "        bucket_index = self.hash_function(key)\n",
    "        \n",
    "        response = self.buckets[bucket_index].search(key)\n",
    "        if response == -1:\n",
    "            return 'Not Present'\n",
    "        else:\n",
    "            node = self.buckets[bucket_index].get_node_at_index(response)\n",
    "            return node.value\n",
    "     \n",
    "    # magic method to delete an item\n",
    "    def __delitem__(self,key):\n",
    "        \n",
    "        bucket_index = self.hash_function(key)\n",
    "        self.buckets[bucket_index].remove(key)\n",
    "        \n",
    "    # magic method to print the dictionary\n",
    "    def __str__(self):\n",
    "        \n",
    "        for i in self.buckets:\n",
    "            i.traverse()\n",
    "            \n",
    "        return ''\n",
    "    \n",
    "    # magic method to get length of dictionary\n",
    "    def __len__(self):\n",
    "        return self.size"
   ]
  },
  {
   "cell_type": "code",
   "execution_count": 12,
   "id": "94ea2fa6",
   "metadata": {},
   "outputs": [],
   "source": [
    "d1 = Dictionary(4)"
   ]
  },
  {
   "cell_type": "code",
   "execution_count": 13,
   "id": "026e68a3",
   "metadata": {},
   "outputs": [],
   "source": [
    "d1.put('python',45)"
   ]
  },
  {
   "cell_type": "code",
   "execution_count": 15,
   "id": "b7fcf899",
   "metadata": {},
   "outputs": [
    {
     "name": "stdout",
     "output_type": "stream",
     "text": [
      "python --> 45   "
     ]
    }
   ],
   "source": [
    "d1.buckets[1].traverse()"
   ]
  },
  {
   "cell_type": "code",
   "execution_count": 16,
   "id": "8014d6c8",
   "metadata": {},
   "outputs": [],
   "source": [
    "d1.put('Java',56)"
   ]
  },
  {
   "cell_type": "code",
   "execution_count": 20,
   "id": "597204b0",
   "metadata": {},
   "outputs": [
    {
     "name": "stdout",
     "output_type": "stream",
     "text": [
      "Java --> 56   "
     ]
    }
   ],
   "source": [
    "d1.buckets[3].traverse()"
   ]
  },
  {
   "cell_type": "code",
   "execution_count": 21,
   "id": "ee29dfc2",
   "metadata": {},
   "outputs": [],
   "source": [
    "d1.put('python',1000)"
   ]
  },
  {
   "cell_type": "code",
   "execution_count": 22,
   "id": "b7a2b4bb",
   "metadata": {},
   "outputs": [
    {
     "name": "stdout",
     "output_type": "stream",
     "text": [
      "python --> 1000   "
     ]
    }
   ],
   "source": [
    "d1.buckets[1].traverse()"
   ]
  },
  {
   "cell_type": "code",
   "execution_count": 23,
   "id": "f3d40590",
   "metadata": {},
   "outputs": [],
   "source": [
    "d1.put('C',100)\n",
    "d1.put('C++',2000)\n",
    "d1.put('PHP',500)"
   ]
  },
  {
   "cell_type": "code",
   "execution_count": 24,
   "id": "ae43f7af",
   "metadata": {},
   "outputs": [],
   "source": [
    "d1.put('Ruby',3000)"
   ]
  },
  {
   "cell_type": "code",
   "execution_count": 33,
   "id": "fcd44014",
   "metadata": {},
   "outputs": [
    {
     "name": "stdout",
     "output_type": "stream",
     "text": [
      "Ruby --> 3000   None\n",
      "python --> 1000   PHP --> 500   None\n",
      "C++ --> 2000   None\n",
      "Java --> 56   C --> 100   None\n"
     ]
    }
   ],
   "source": [
    "for i in range(d1.capacity):\n",
    "    print(d1.buckets[i].traverse())"
   ]
  },
  {
   "cell_type": "code",
   "execution_count": 75,
   "id": "a5602e54",
   "metadata": {},
   "outputs": [],
   "source": [
    "d2 = Dictionary(2)"
   ]
  },
  {
   "cell_type": "code",
   "execution_count": 76,
   "id": "5ab35947",
   "metadata": {},
   "outputs": [
    {
     "name": "stdout",
     "output_type": "stream",
     "text": [
      "load_factor =>  0.5\n"
     ]
    }
   ],
   "source": [
    "d2.put('car1',1000)"
   ]
  },
  {
   "cell_type": "code",
   "execution_count": 77,
   "id": "f4a6975d",
   "metadata": {},
   "outputs": [
    {
     "name": "stdout",
     "output_type": "stream",
     "text": [
      "load_factor =>  1.0\n"
     ]
    }
   ],
   "source": [
    "d2.put('car2',2000)"
   ]
  },
  {
   "cell_type": "code",
   "execution_count": 78,
   "id": "46f8a183",
   "metadata": {},
   "outputs": [
    {
     "name": "stdout",
     "output_type": "stream",
     "text": [
      "load_factor =>  1.5\n"
     ]
    }
   ],
   "source": [
    "d2.put('car3',3000)\n"
   ]
  },
  {
   "cell_type": "code",
   "execution_count": 79,
   "id": "ce0136f0",
   "metadata": {},
   "outputs": [
    {
     "name": "stdout",
     "output_type": "stream",
     "text": [
      "load_factor =>  2.0\n",
      "load_factor =>  0.25\n",
      "load_factor =>  0.5\n",
      "load_factor =>  0.75\n",
      "load_factor =>  1.0\n"
     ]
    }
   ],
   "source": [
    "d2.put('car4',4000)"
   ]
  },
  {
   "cell_type": "code",
   "execution_count": 80,
   "id": "f4328159",
   "metadata": {},
   "outputs": [
    {
     "name": "stdout",
     "output_type": "stream",
     "text": [
      "load_factor =>  1.25\n"
     ]
    }
   ],
   "source": [
    "d2['car5'] = 5000"
   ]
  },
  {
   "cell_type": "code",
   "execution_count": 81,
   "id": "ae7c18ba",
   "metadata": {},
   "outputs": [
    {
     "data": {
      "text/plain": [
       "3000"
      ]
     },
     "execution_count": 81,
     "metadata": {},
     "output_type": "execute_result"
    }
   ],
   "source": [
    "d2['car3']"
   ]
  },
  {
   "cell_type": "code",
   "execution_count": 82,
   "id": "2954d0e0",
   "metadata": {},
   "outputs": [
    {
     "data": {
      "text/plain": [
       "'Not Present'"
      ]
     },
     "execution_count": 82,
     "metadata": {},
     "output_type": "execute_result"
    }
   ],
   "source": [
    "d2['car8']"
   ]
  },
  {
   "cell_type": "code",
   "execution_count": 83,
   "id": "3b2e8402",
   "metadata": {},
   "outputs": [
    {
     "name": "stdout",
     "output_type": "stream",
     "text": [
      "car1 --> 1000   car2 --> 2000   car4 --> 4000   car5 --> 5000   car3 --> 3000   \n"
     ]
    }
   ],
   "source": [
    "print(d2)"
   ]
  },
  {
   "cell_type": "code",
   "execution_count": 72,
   "id": "295c4057",
   "metadata": {},
   "outputs": [],
   "source": [
    "del d2['car4']"
   ]
  },
  {
   "cell_type": "code",
   "execution_count": 73,
   "id": "411fe33f",
   "metadata": {},
   "outputs": [
    {
     "data": {
      "text/plain": [
       "'Not Present'"
      ]
     },
     "execution_count": 73,
     "metadata": {},
     "output_type": "execute_result"
    }
   ],
   "source": [
    "d2['car4']"
   ]
  },
  {
   "cell_type": "code",
   "execution_count": null,
   "id": "320b2855",
   "metadata": {},
   "outputs": [],
   "source": []
  }
 ],
 "metadata": {
  "kernelspec": {
   "display_name": "Python 3 (ipykernel)",
   "language": "python",
   "name": "python3"
  },
  "language_info": {
   "codemirror_mode": {
    "name": "ipython",
    "version": 3
   },
   "file_extension": ".py",
   "mimetype": "text/x-python",
   "name": "python",
   "nbconvert_exporter": "python",
   "pygments_lexer": "ipython3",
   "version": "3.12.3"
  }
 },
 "nbformat": 4,
 "nbformat_minor": 5
}
