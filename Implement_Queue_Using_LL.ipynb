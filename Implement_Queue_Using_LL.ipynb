{
 "cells": [
  {
   "cell_type": "markdown",
   "id": "c5879799",
   "metadata": {},
   "source": [
    "# Queue Implementation Using Linked List"
   ]
  },
  {
   "cell_type": "markdown",
   "id": "adefd786",
   "metadata": {},
   "source": [
    "--> follows First In First Out approach\n",
    "--> Head se Deletion ie. Dequeue\n",
    "--> Rear se insertion ie. Enqueue"
   ]
  },
  {
   "cell_type": "code",
   "execution_count": 1,
   "id": "4bc15bbf",
   "metadata": {},
   "outputs": [],
   "source": [
    "class Node:\n",
    "    \n",
    "    def __init__(self, value):\n",
    "        self.data = value\n",
    "        self.next = None\n",
    "    "
   ]
  },
  {
   "cell_type": "code",
   "execution_count": 30,
   "id": "4b5d8021",
   "metadata": {},
   "outputs": [],
   "source": [
    "class Queue:\n",
    "    \n",
    "    def __init__(self):\n",
    "        self.front = None\n",
    "        self.rear = None\n",
    "        \n",
    "    # method to check queue is empty\n",
    "    def isempty(self):\n",
    "        return self.front == None\n",
    "        \n",
    "    #insertion\n",
    "    def enqueue(self, value):\n",
    "        \n",
    "        # created new node with value\n",
    "        new_node = Node(value)\n",
    "        \n",
    "        if self.rear == None:\n",
    "            self.front = new_node\n",
    "            self.rear = self.front\n",
    "        else:\n",
    "            self.rear.next = new_node\n",
    "            self.rear = new_node\n",
    "            \n",
    "    # deletion\n",
    "    def dequeue(self):\n",
    "        if self.isempty():\n",
    "            return 'Queue Empty!'\n",
    "        else:\n",
    "            data = self.front.data\n",
    "            self.front = self.front.next\n",
    "            print(data)\n",
    "            \n",
    "    # traverse method\n",
    "    def traverse(self):\n",
    "        if self.isempty():\n",
    "            return 'Queue Empty'\n",
    "        else:\n",
    "            temp = self.front\n",
    "            while temp != None:\n",
    "                print(temp.data,end=' ')\n",
    "                temp = temp.next\n",
    "        \n",
    "    # method to get length of queue\n",
    "    def size(self):\n",
    "        counter = 0\n",
    "        temp = self.front\n",
    "        \n",
    "        while temp != None:\n",
    "            counter += 1\n",
    "            temp = temp.next\n",
    "        return counter\n",
    "    \n",
    "    # method to get front item\n",
    "    def front_item(self):\n",
    "        # empty check\n",
    "        if self.isempty():\n",
    "            return 'Queue Empty'\n",
    "        else:\n",
    "            return self.front.data\n",
    "    \n",
    "    # method to get rear item\n",
    "    def rear_item(self):\n",
    "        # empty check\n",
    "        if self.isempty():\n",
    "            return 'Queue Empty'\n",
    "        else:\n",
    "            return self.rear.data"
   ]
  },
  {
   "cell_type": "code",
   "execution_count": 31,
   "id": "5cdf25f7",
   "metadata": {},
   "outputs": [],
   "source": [
    "q = Queue()"
   ]
  },
  {
   "cell_type": "code",
   "execution_count": 32,
   "id": "adb3cb9e",
   "metadata": {},
   "outputs": [
    {
     "data": {
      "text/plain": [
       "'Queue Empty!'"
      ]
     },
     "execution_count": 32,
     "metadata": {},
     "output_type": "execute_result"
    }
   ],
   "source": [
    "q.dequeue()"
   ]
  },
  {
   "cell_type": "code",
   "execution_count": 33,
   "id": "672861cc",
   "metadata": {},
   "outputs": [],
   "source": [
    "q.enqueue(1)\n",
    "q.enqueue(2)\n",
    "q.enqueue(3)"
   ]
  },
  {
   "cell_type": "code",
   "execution_count": 34,
   "id": "0a555a57",
   "metadata": {},
   "outputs": [
    {
     "name": "stdout",
     "output_type": "stream",
     "text": [
      "1 2 3 "
     ]
    }
   ],
   "source": [
    "q.traverse()"
   ]
  },
  {
   "cell_type": "code",
   "execution_count": 35,
   "id": "ddfaa5cc",
   "metadata": {},
   "outputs": [
    {
     "name": "stdout",
     "output_type": "stream",
     "text": [
      "1\n"
     ]
    }
   ],
   "source": [
    "q.dequeue()"
   ]
  },
  {
   "cell_type": "code",
   "execution_count": 36,
   "id": "388b9f51",
   "metadata": {},
   "outputs": [
    {
     "data": {
      "text/plain": [
       "2"
      ]
     },
     "execution_count": 36,
     "metadata": {},
     "output_type": "execute_result"
    }
   ],
   "source": [
    "q.size()"
   ]
  },
  {
   "cell_type": "code",
   "execution_count": 37,
   "id": "58feeece",
   "metadata": {},
   "outputs": [
    {
     "name": "stdout",
     "output_type": "stream",
     "text": [
      "2 3 "
     ]
    }
   ],
   "source": [
    "q.traverse()"
   ]
  },
  {
   "cell_type": "code",
   "execution_count": 38,
   "id": "70889fb0",
   "metadata": {},
   "outputs": [
    {
     "data": {
      "text/plain": [
       "2"
      ]
     },
     "execution_count": 38,
     "metadata": {},
     "output_type": "execute_result"
    }
   ],
   "source": [
    "q.front_item()"
   ]
  },
  {
   "cell_type": "code",
   "execution_count": 39,
   "id": "5d7fc0c3",
   "metadata": {},
   "outputs": [
    {
     "data": {
      "text/plain": [
       "3"
      ]
     },
     "execution_count": 39,
     "metadata": {},
     "output_type": "execute_result"
    }
   ],
   "source": [
    "q.rear_item()"
   ]
  },
  {
   "cell_type": "code",
   "execution_count": null,
   "id": "615a359e",
   "metadata": {},
   "outputs": [],
   "source": []
  }
 ],
 "metadata": {
  "kernelspec": {
   "display_name": "Python 3 (ipykernel)",
   "language": "python",
   "name": "python3"
  },
  "language_info": {
   "codemirror_mode": {
    "name": "ipython",
    "version": 3
   },
   "file_extension": ".py",
   "mimetype": "text/x-python",
   "name": "python",
   "nbconvert_exporter": "python",
   "pygments_lexer": "ipython3",
   "version": "3.12.3"
  }
 },
 "nbformat": 4,
 "nbformat_minor": 5
}
