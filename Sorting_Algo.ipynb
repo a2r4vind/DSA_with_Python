{
 "cells": [
  {
   "cell_type": "code",
   "execution_count": 1,
   "id": "1493d483",
   "metadata": {},
   "outputs": [],
   "source": [
    "# WAP to detect whether a given array is sorted or not\n",
    "def is_sorted(arr):\n",
    "    sorted = True\n",
    "    for i in range(1,len(arr)):\n",
    "        if arr[i] < arr[i-1]:\n",
    "            sorted = False\n",
    "    return sorted"
   ]
  },
  {
   "cell_type": "code",
   "execution_count": 2,
   "id": "e63cfa02",
   "metadata": {},
   "outputs": [
    {
     "name": "stdout",
     "output_type": "stream",
     "text": [
      "True\n"
     ]
    }
   ],
   "source": [
    "l = [1,2,4,5,7]\n",
    "print(is_sorted(l))"
   ]
  },
  {
   "cell_type": "code",
   "execution_count": 3,
   "id": "5d17fd7a",
   "metadata": {},
   "outputs": [
    {
     "data": {
      "text/plain": [
       "False"
      ]
     },
     "execution_count": 3,
     "metadata": {},
     "output_type": "execute_result"
    }
   ],
   "source": [
    "l1 = [1,2,4,5,7,3]\n",
    "is_sorted(l1)"
   ]
  },
  {
   "cell_type": "markdown",
   "id": "f5fe3e91",
   "metadata": {},
   "source": [
    "# Monkey Sort"
   ]
  },
  {
   "cell_type": "markdown",
   "id": "d5815468",
   "metadata": {},
   "source": [
    "It's time complexity is infinite"
   ]
  },
  {
   "cell_type": "code",
   "execution_count": 6,
   "id": "a653f031",
   "metadata": {},
   "outputs": [],
   "source": [
    "import random\n",
    "def monkey_sort(arr):\n",
    "    \n",
    "    while not is_sorted(arr):\n",
    "        random.shuffle(arr)\n",
    "        print(arr)\n",
    "        \n",
    "    print(arr)"
   ]
  },
  {
   "cell_type": "code",
   "execution_count": 8,
   "id": "b915ff88",
   "metadata": {},
   "outputs": [
    {
     "name": "stdout",
     "output_type": "stream",
     "text": [
      "[23, 16, 2, 54]\n",
      "[16, 2, 23, 54]\n",
      "[54, 23, 2, 16]\n",
      "[23, 54, 16, 2]\n",
      "[2, 16, 54, 23]\n",
      "[16, 2, 54, 23]\n",
      "[16, 2, 23, 54]\n",
      "[2, 54, 23, 16]\n",
      "[2, 54, 23, 16]\n",
      "[54, 23, 16, 2]\n",
      "[54, 23, 2, 16]\n",
      "[2, 54, 23, 16]\n",
      "[54, 23, 2, 16]\n",
      "[16, 2, 54, 23]\n",
      "[16, 2, 54, 23]\n",
      "[23, 2, 16, 54]\n",
      "[23, 2, 16, 54]\n",
      "[54, 16, 23, 2]\n",
      "[2, 23, 16, 54]\n",
      "[2, 54, 16, 23]\n",
      "[2, 16, 23, 54]\n",
      "[2, 16, 23, 54]\n"
     ]
    }
   ],
   "source": [
    "monkey_sort([23,16,2,54])"
   ]
  },
  {
   "cell_type": "markdown",
   "id": "41dd813a",
   "metadata": {},
   "source": [
    "# Sleep Sort "
   ]
  },
  {
   "cell_type": "markdown",
   "id": "59d10d1e",
   "metadata": {},
   "source": [
    "In sleep sort the given number is printed by it's valued seconds like if a number's value is 5 then it will be printed after 5 seconds"
   ]
  },
  {
   "cell_type": "code",
   "execution_count": null,
   "id": "0880d95a",
   "metadata": {},
   "outputs": [],
   "source": []
  },
  {
   "cell_type": "markdown",
   "id": "5706ea1c",
   "metadata": {},
   "source": [
    "# Bubble Sort"
   ]
  },
  {
   "cell_type": "markdown",
   "id": "c6ed151c",
   "metadata": {},
   "source": [
    "Worst case time complexity is O(n^2)\n",
    "\n",
    "Space Complexity is O(1)\n",
    "\n",
    "A sorting algo falls into the Adaptive sort family if it takes advantage of existing order in its inputs.\n",
    "\n",
    "Hence Bubble sort is Non-Adaptive"
   ]
  },
  {
   "cell_type": "code",
   "execution_count": 9,
   "id": "fa27d89a",
   "metadata": {},
   "outputs": [],
   "source": [
    "def bubble_sort(arr):\n",
    "    \n",
    "    for i in range(len(arr) - 1):\n",
    "        for j in range(len(arr) - 1 - i):\n",
    "            if arr[j] > arr[j+1]:\n",
    "                arr[j],arr[j+1] = arr[j+1],arr[j]\n",
    "                \n",
    "    print(arr)"
   ]
  },
  {
   "cell_type": "code",
   "execution_count": 10,
   "id": "bc0527c0",
   "metadata": {},
   "outputs": [
    {
     "name": "stdout",
     "output_type": "stream",
     "text": [
      "[12, 23, 32, 44, 53]\n"
     ]
    }
   ],
   "source": [
    "arr = [23,53,12,32,44]\n",
    "bubble_sort(arr)"
   ]
  },
  {
   "cell_type": "markdown",
   "id": "5ec88bcb",
   "metadata": {},
   "source": [
    "After applying the logic and making the bubble sort adaptive now it's :-\n",
    "\n",
    "Worst case Time complexity = O(n^2)\n",
    "Best case Time complexity = O(n)"
   ]
  },
  {
   "cell_type": "code",
   "execution_count": 1,
   "id": "e7f86b88",
   "metadata": {},
   "outputs": [],
   "source": [
    "# Making Bubble sort adaptive using flag variable\n",
    "\n",
    "def bubble_sort_adaptive(arr):\n",
    "    \n",
    "    for i in range(len(arr)-1):\n",
    "        flag = 0\n",
    "        for j in range(len(arr)-1-i):\n",
    "            if arr[j] > arr[j+1]:\n",
    "                arr[j],arr[j+1] = arr[j+1], arr[j]\n",
    "                flag = 1\n",
    "                \n",
    "        if flag == 0:\n",
    "            break\n",
    "    print(arr)"
   ]
  },
  {
   "cell_type": "markdown",
   "id": "1ed853f6",
   "metadata": {},
   "source": [
    "A sorting algorithm is said to be **stable** if two objects with equal keys appear in the same order in the sorted output as they appear in the input array to be sorted.\n",
    "\n",
    "--> Insertion sort, Merge Sort, Bubble sort,etc are Stable\n",
    "\n",
    "--> Heap Sort, Quick Sort, Selection sort are **NOT STABLE**\n",
    "\n",
    "inp_arr = [3,1,6,2,**6**,5]\n",
    "\n",
    "out_arr1 = [1,2,3,5,6,**6**] => Stable (key order is maintained) \n",
    "\n",
    "out_arr2 = [1,2,3,5,**6**,6] => Non Stable (key order not maintained)"
   ]
  },
  {
   "cell_type": "markdown",
   "id": "95ac6cca",
   "metadata": {},
   "source": [
    "# Selection Sort"
   ]
  },
  {
   "cell_type": "markdown",
   "id": "3763c01c",
   "metadata": {},
   "source": [
    "For N number of items --> (N-1) passes required and 1+2+3+...+(N-1) comparisions are done.\n",
    "\n",
    "Therefore, Time Complexity (acc. to comparisions) => O(n^2)\n",
    "\n",
    "And since (N-1) passes there are (N-1) swaps => O(n)\n",
    "\n",
    "Space Complexity => O(1)\n",
    "\n",
    "Selection Sort is Faster than Bubble sort\n",
    "\n",
    "Selection sort is **not Adaptive**"
   ]
  },
  {
   "cell_type": "code",
   "execution_count": 2,
   "id": "a967e0d7",
   "metadata": {},
   "outputs": [],
   "source": [
    "def selection_sort(arr):\n",
    "    \n",
    "    for i in range(len(arr)-1):\n",
    "        \n",
    "        min  = i\n",
    "        \n",
    "        for j in range(i+1,len(arr)):\n",
    "            \n",
    "            if arr[j] < arr[min]:\n",
    "                min = j\n",
    "            \n",
    "        arr[i],arr[min] = arr[min], arr[i]\n",
    "        \n",
    "    print(arr)"
   ]
  },
  {
   "cell_type": "code",
   "execution_count": 3,
   "id": "3b662dcb",
   "metadata": {},
   "outputs": [
    {
     "name": "stdout",
     "output_type": "stream",
     "text": [
      "[12, 23, 32, 44, 53]\n"
     ]
    }
   ],
   "source": [
    "arr = [23,53,12,32,44]\n",
    "selection_sort(arr)"
   ]
  },
  {
   "cell_type": "markdown",
   "id": "96b7cb0f",
   "metadata": {},
   "source": [
    "# Merge Sort"
   ]
  },
  {
   "cell_type": "markdown",
   "id": "4224097d",
   "metadata": {},
   "source": [
    "Follows Divide & conquer approach\n",
    "\n",
    "Time complexity => O(nlog(n))\n",
    "\n",
    "Space complexity => O(n) --> recursion"
   ]
  },
  {
   "cell_type": "code",
   "execution_count": 34,
   "id": "9866dfae",
   "metadata": {},
   "outputs": [],
   "source": [
    "# Space Complexity => greater than O(n)\n",
    "\n",
    "def merge_sorted(arr1,arr2):\n",
    "    \n",
    "    i = j = 0\n",
    "    \n",
    "    merged = []\n",
    "    \n",
    "    while i < len(arr1) and j < len(arr2):\n",
    "        \n",
    "        if arr1[i] < arr2[j]:\n",
    "            merged.append(arr1[i])\n",
    "            i += 1\n",
    "        else:\n",
    "            merged.append(arr2[j])\n",
    "            j += 1\n",
    "            \n",
    "    while i < len(arr1):\n",
    "        merged.append(arr1[i])\n",
    "        i += 1\n",
    "        \n",
    "    while j < len(arr2):\n",
    "        merged.append(arr2[j])\n",
    "        j += 1\n",
    "        \n",
    "    return merged"
   ]
  },
  {
   "cell_type": "code",
   "execution_count": 37,
   "id": "f92131a5",
   "metadata": {},
   "outputs": [
    {
     "data": {
      "text/plain": [
       "[1, 2, 3, 4, 5, 6, 7, 8, 9]"
      ]
     },
     "execution_count": 37,
     "metadata": {},
     "output_type": "execute_result"
    }
   ],
   "source": [
    "a1 = [1,4,5,8,9]\n",
    "a2 = [2,3,6,7]\n",
    "merge_sorted(a1,a2)"
   ]
  },
  {
   "cell_type": "code",
   "execution_count": 42,
   "id": "ff09dfad",
   "metadata": {},
   "outputs": [],
   "source": [
    "def merge_sort(arr):\n",
    "    \n",
    "    if len(arr) == 1:\n",
    "        return arr\n",
    "    \n",
    "    mid = len(arr)//2\n",
    "    \n",
    "    left = arr[:mid]\n",
    "    right = arr[mid:]\n",
    "    \n",
    "    left = merge_sort(left)\n",
    "    right = merge_sort(right)\n",
    "    \n",
    "    return merge_sorted(left,right)"
   ]
  },
  {
   "cell_type": "code",
   "execution_count": 43,
   "id": "9eb97e4f",
   "metadata": {},
   "outputs": [
    {
     "data": {
      "text/plain": [
       "[1, 2, 4, 5, 6, 7, 8, 9]"
      ]
     },
     "execution_count": 43,
     "metadata": {},
     "output_type": "execute_result"
    }
   ],
   "source": [
    "arr = [2,1,5,8,9,6,7,4]\n",
    "merge_sort(arr)"
   ]
  },
  {
   "cell_type": "code",
   "execution_count": 62,
   "id": "e611c5b2",
   "metadata": {},
   "outputs": [],
   "source": [
    "# For Space complexity => exactly O(n) ie. we must do in-place sorting\n",
    "\n",
    "def merged_sort_inPlace(arr1,arr2,arr):\n",
    "    \n",
    "    i = j = k = 0\n",
    "    \n",
    "    while i < len(arr1) and j < len(arr2):\n",
    "        if arr1[i] < arr2[j]:\n",
    "            arr[k] = arr1[i]\n",
    "            i += 1\n",
    "            \n",
    "        else:\n",
    "            arr[k] = arr2[j]\n",
    "            j += 1\n",
    "            \n",
    "        k += 1\n",
    "        \n",
    "    while i < len(arr1):\n",
    "        arr[k] = arr1[i]\n",
    "        i += 1\n",
    "        k += 1\n",
    "        \n",
    "    while j < len(arr2):\n",
    "        arr[k] = arr2[j]\n",
    "        j += 1\n",
    "        k += 1\n",
    "        \n",
    "    return arr"
   ]
  },
  {
   "cell_type": "code",
   "execution_count": 63,
   "id": "122c2d2c",
   "metadata": {},
   "outputs": [],
   "source": [
    "def merge_sort_inPlace(arr):\n",
    "    \n",
    "    if len(arr) == 1:\n",
    "        return arr\n",
    "    \n",
    "    mid = len(arr)//2\n",
    "    \n",
    "    left = arr[:mid]\n",
    "    right = arr[mid:]\n",
    "    \n",
    "    merge_sort_inPlace(left)\n",
    "    merge_sort_inPlace(right)\n",
    "    \n",
    "    merged_sort_inPlace(left,right,arr)"
   ]
  },
  {
   "cell_type": "code",
   "execution_count": 66,
   "id": "41b8b5dc",
   "metadata": {},
   "outputs": [
    {
     "data": {
      "text/plain": [
       "[1, 2, 4, 5, 6, 7, 8, 9]"
      ]
     },
     "execution_count": 66,
     "metadata": {},
     "output_type": "execute_result"
    }
   ],
   "source": [
    "arr = [2,1,5,8,9,6,7,4]\n",
    "merge_sort_inPlace(arr)\n",
    "arr"
   ]
  },
  {
   "cell_type": "markdown",
   "id": "94cb57db",
   "metadata": {},
   "source": [
    "# Insertion Sort"
   ]
  },
  {
   "cell_type": "markdown",
   "id": "cb44a2e4",
   "metadata": {},
   "source": [
    "Time complexity => O(n^2)\n",
    "\n",
    "Space complexity => O(1)\n",
    "\n",
    "Stable => Yes which means elements with equal values maintain their relative order in the sorted ouput\n",
    "\n",
    "Suitable for small input sizes and online scenarios where data arrives squentially"
   ]
  },
  {
   "cell_type": "code",
   "execution_count": 15,
   "id": "22c07fe8",
   "metadata": {},
   "outputs": [],
   "source": [
    "# Naive Approach\n",
    "\n",
    "def insertion_sort_naive(arr):\n",
    "    \n",
    "    n = len(arr)\n",
    "    \n",
    "    for i in range(1,n):\n",
    "        \n",
    "        curr_value = arr.pop(i)\n",
    "        insert_index = i\n",
    "        for j in range(i-1,-1,-1):\n",
    "            \n",
    "            if curr_value < arr[j]:\n",
    "                insert_index = j\n",
    "            \n",
    "        arr.insert(insert_index,curr_value)\n",
    "        \n",
    "    return arr"
   ]
  },
  {
   "cell_type": "code",
   "execution_count": 16,
   "id": "72a8c3d9",
   "metadata": {},
   "outputs": [
    {
     "name": "stdout",
     "output_type": "stream",
     "text": [
      "[1, 2, 3, 4, 5, 6, 7]\n"
     ]
    }
   ],
   "source": [
    "arr = [5,2,4,1,6,7,3]\n",
    "print(insertion_sort_naive(arr))"
   ]
  },
  {
   "cell_type": "code",
   "execution_count": 21,
   "id": "46d5a00c",
   "metadata": {},
   "outputs": [],
   "source": [
    "# Expected approach\n",
    "\n",
    "def insertion_sort_improved(arr):\n",
    "    \n",
    "    n = len(arr)\n",
    "    \n",
    "    for i in range(1,n):\n",
    "        \n",
    "        insert_index = i\n",
    "        curr_value = arr[i]\n",
    "        \n",
    "        for j in range(i-1,-1,-1):\n",
    "            \n",
    "            if arr[j] > curr_value:\n",
    "                arr[j+1] = arr[j] # shifted forward\n",
    "                insert_index = j\n",
    "            else:\n",
    "                break\n",
    "        arr[insert_index] = curr_value\n",
    "        \n",
    "    return arr\n",
    "    "
   ]
  },
  {
   "cell_type": "code",
   "execution_count": 22,
   "id": "37097988",
   "metadata": {},
   "outputs": [
    {
     "name": "stdout",
     "output_type": "stream",
     "text": [
      "[1, 2, 3, 4, 5, 6, 7]\n"
     ]
    }
   ],
   "source": [
    "arr = [5,2,4,1,6,7,3]\n",
    "print(insertion_sort_improved(arr))"
   ]
  },
  {
   "cell_type": "code",
   "execution_count": 23,
   "id": "95fb7229",
   "metadata": {},
   "outputs": [],
   "source": [
    "# Modified according to me and used the concept of swapping , it's like bubble sort but in reverse order\n",
    "\n",
    "def My_sort(arr):\n",
    "    \n",
    "    n = len(arr)\n",
    "    \n",
    "    for i in range(1,n):\n",
    "        \n",
    "        for j in range(i-1,-1,-1):\n",
    "            \n",
    "            if arr[j] < arr[j+1]:\n",
    "                break\n",
    "            else:\n",
    "                arr[j+1],arr[j] = arr[j],arr[j+1]\n",
    "    return arr\n",
    "            \n",
    "        \n",
    "            "
   ]
  },
  {
   "cell_type": "code",
   "execution_count": 24,
   "id": "467cb0ed",
   "metadata": {},
   "outputs": [
    {
     "name": "stdout",
     "output_type": "stream",
     "text": [
      "[1, 2, 3, 4, 5, 6, 7]\n"
     ]
    }
   ],
   "source": [
    "arr = [5,2,4,1,6,7,3]\n",
    "print(My_sort(arr))"
   ]
  },
  {
   "cell_type": "markdown",
   "id": "309d4f32",
   "metadata": {},
   "source": [
    "# Quick Sort"
   ]
  },
  {
   "cell_type": "markdown",
   "id": "da03a9a2",
   "metadata": {},
   "source": [
    "Fastest sorting algorithm\n",
    "\n",
    "Time complexity => O(n^2)"
   ]
  },
  {
   "cell_type": "code",
   "execution_count": 28,
   "id": "374a9628",
   "metadata": {},
   "outputs": [],
   "source": [
    "def partition(arr,low,high):\n",
    "    \n",
    "    pivot = arr[high]\n",
    "    \n",
    "    i = low - 1\n",
    "    \n",
    "    for j in range(low,high):\n",
    "        \n",
    "        if arr[j] < pivot:\n",
    "            i += 1\n",
    "            # swap\n",
    "            arr[i],arr[j] = arr[j], arr[i]\n",
    "            \n",
    "    # swap arr[i+1] and pivot\n",
    "    arr[i+1], arr[high] = arr[high], arr[i+1]\n",
    "    \n",
    "    return i+1\n",
    "\n",
    "def quick_sort(arr,low,high):\n",
    "    \n",
    "    if low < high:\n",
    "        \n",
    "        partition_index = partition(arr, low, high)\n",
    "        \n",
    "        # left part \n",
    "        quick_sort(arr, low, partition_index-1)\n",
    "        # right part\n",
    "        quick_sort(arr, partition_index + 1, high)\n",
    "         "
   ]
  },
  {
   "cell_type": "code",
   "execution_count": 29,
   "id": "d1ce8be5",
   "metadata": {},
   "outputs": [
    {
     "data": {
      "text/plain": [
       "[1, 2, 3, 4, 5, 6, 7]"
      ]
     },
     "execution_count": 29,
     "metadata": {},
     "output_type": "execute_result"
    }
   ],
   "source": [
    "arr = [5,2,4,1,6,7,3]\n",
    "low = 0\n",
    "high = len(arr) - 1\n",
    "quick_sort(arr, low, high)\n",
    "arr"
   ]
  },
  {
   "cell_type": "markdown",
   "id": "7c0215a4",
   "metadata": {},
   "source": [
    "# Heap Sort"
   ]
  },
  {
   "cell_type": "markdown",
   "id": "33d94cb6",
   "metadata": {},
   "source": [
    "Time complexity => O(nlog(n))\n",
    "\n",
    "Space complexity => O(log(n))\n",
    "\n",
    "It is optimization over bubble sort\n",
    "\n",
    "Array converted to **max heap** using **heapify** following the property which is parent nodes are larger than their children nodes\n",
    "\n",
    "Once the max heap is formed swap the maximum element with last element and decrease the size of the heap by one."
   ]
  },
  {
   "cell_type": "code",
   "execution_count": 30,
   "id": "06856ec1",
   "metadata": {},
   "outputs": [],
   "source": [
    "def heapify(arr, n ,i):\n",
    "    \n",
    "    #largest root\n",
    "    largest = i\n",
    "    \n",
    "    #left index \n",
    "    l = 2 * i + 1\n",
    "    \n",
    "    #right index\n",
    "    r = 2 * i + 2\n",
    "    \n",
    "    # if left child larger than root\n",
    "    if l < n and arr[l] > arr[largest]:\n",
    "        largest = l\n",
    "        \n",
    "    # if right child larger than largest so far\n",
    "    if r < n and arr[r] > arr[largest]:\n",
    "        largest = r\n",
    "        \n",
    "    # if largest is not root\n",
    "    if largest != i:\n",
    "        arr[i],arr[largest] = arr[largest], arr[i]\n",
    "        \n",
    "        # Recursively heapify\n",
    "        heapify(arr, n, largest)"
   ]
  },
  {
   "cell_type": "code",
   "execution_count": 31,
   "id": "7a0e351e",
   "metadata": {},
   "outputs": [],
   "source": [
    "def heap_sort(arr):\n",
    "    \n",
    "    n = len(arr)\n",
    "    \n",
    "    # Build heap\n",
    "    for i in range(n//2 - 1, -1, -1):\n",
    "        heapify(arr, n, i)\n",
    "        \n",
    "    for i in range(n-1, 0, -1):\n",
    "        \n",
    "        # swap root to end\n",
    "        arr[0], arr[i] = arr[i], arr[0]\n",
    "        \n",
    "        heapify(arr, i, 0)"
   ]
  },
  {
   "cell_type": "code",
   "execution_count": 32,
   "id": "6363aa1f",
   "metadata": {},
   "outputs": [
    {
     "data": {
      "text/plain": [
       "[1, 2, 3, 4, 5, 6, 7]"
      ]
     },
     "execution_count": 32,
     "metadata": {},
     "output_type": "execute_result"
    }
   ],
   "source": [
    "arr = [5,2,4,1,6,7,3]\n",
    "heap_sort(arr)\n",
    "arr"
   ]
  },
  {
   "cell_type": "markdown",
   "id": "ed2e9d44",
   "metadata": {},
   "source": [
    "# Counting Sort"
   ]
  },
  {
   "cell_type": "markdown",
   "id": "b0890b2e",
   "metadata": {},
   "source": [
    "--> Non comparitive sorting algorithm\n",
    "\n",
    "--> Works only on non negative integers\n",
    "\n",
    "--> Time complexity => O(n+k) where n = number of values and k = range of possible values\n",
    "\n",
    "    when k is very big => O(n^2) "
   ]
  },
  {
   "cell_type": "code",
   "execution_count": 48,
   "id": "afb7ca79",
   "metadata": {},
   "outputs": [],
   "source": [
    "def counting_sort(arr):\n",
    "    \n",
    "    max_val = max(arr)\n",
    "    count = [0] * (max_val+1)\n",
    "    \n",
    "    while len(arr) > 0:\n",
    "        num = arr.pop(0)\n",
    "        count[num] += 1\n",
    "        \n",
    "    for i in range(len(count)):\n",
    "        while count[i] > 0:\n",
    "            arr.append(i)\n",
    "            count[i] -= 1\n",
    "            \n",
    "    return arr"
   ]
  },
  {
   "cell_type": "code",
   "execution_count": 49,
   "id": "7b3329c7",
   "metadata": {},
   "outputs": [
    {
     "name": "stdout",
     "output_type": "stream",
     "text": [
      "[0, 2, 2, 2, 3, 3]\n"
     ]
    }
   ],
   "source": [
    "arr = [ 2, 3, 0, 2, 3, 2]\n",
    "print(counting_sort(arr))"
   ]
  },
  {
   "cell_type": "markdown",
   "id": "b39f6c2c",
   "metadata": {},
   "source": [
    "# Radix Sort"
   ]
  },
  {
   "cell_type": "markdown",
   "id": "a7260a0e",
   "metadata": {},
   "source": [
    "Radix = base\n",
    "\n",
    "Time complexity :\n",
    "\n",
    "    Best case => O(n)\n",
    "    \n",
    "    Worst case => O(n^2)\n",
    "    \n",
    "    Average case => O(n.log(n))\n",
    "    \n",
    "Stable => Yes\n",
    "\n",
    "Only works with non negative integers\n",
    "\n",
    "Radix Sort uses radix so that decimal values are put into 10 different buckets corresponding to the digit that is in focus, then put back into the array before moving on to the next digit."
   ]
  },
  {
   "cell_type": "code",
   "execution_count": 46,
   "id": "44be6bb5",
   "metadata": {},
   "outputs": [],
   "source": [
    "def radix_sort(arr):\n",
    "    \n",
    "    radixArr = []\n",
    "    for i in range(10):\n",
    "        l = []\n",
    "        radixArr.append(l)\n",
    "        \n",
    "    max_val = max(arr)\n",
    "    exp = 1\n",
    "    \n",
    "    while max_val // exp > 0 :\n",
    "        \n",
    "        while len(arr) > 0:\n",
    "            val = arr.pop()\n",
    "            radix_index = (val // exp) % 10\n",
    "            radixArr[radix_index].append(val)\n",
    "            \n",
    "        for bucket in radixArr:\n",
    "            while len(bucket) > 0:\n",
    "                val = bucket.pop()\n",
    "                arr.append(val)\n",
    "                \n",
    "        exp *= 10\n",
    "    \n"
   ]
  },
  {
   "cell_type": "code",
   "execution_count": 47,
   "id": "894c29c8",
   "metadata": {},
   "outputs": [
    {
     "data": {
      "text/plain": [
       "[2, 24, 45, 66, 75, 90, 170, 802]"
      ]
     },
     "execution_count": 47,
     "metadata": {},
     "output_type": "execute_result"
    }
   ],
   "source": [
    "arr = [170, 45, 75, 90, 802, 24, 2, 66]\n",
    "radix_sort(arr)\n",
    "arr"
   ]
  },
  {
   "cell_type": "code",
   "execution_count": null,
   "id": "e5c7bdf0",
   "metadata": {},
   "outputs": [],
   "source": []
  }
 ],
 "metadata": {
  "kernelspec": {
   "display_name": "Python 3 (ipykernel)",
   "language": "python",
   "name": "python3"
  },
  "language_info": {
   "codemirror_mode": {
    "name": "ipython",
    "version": 3
   },
   "file_extension": ".py",
   "mimetype": "text/x-python",
   "name": "python",
   "nbconvert_exporter": "python",
   "pygments_lexer": "ipython3",
   "version": "3.12.3"
  }
 },
 "nbformat": 4,
 "nbformat_minor": 5
}
