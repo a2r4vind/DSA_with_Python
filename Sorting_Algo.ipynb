{
 "cells": [
  {
   "cell_type": "code",
   "execution_count": 1,
   "id": "1493d483",
   "metadata": {},
   "outputs": [],
   "source": [
    "# WAP to detect whether a given array is sorted or not\n",
    "def is_sorted(arr):\n",
    "    sorted = True\n",
    "    for i in range(1,len(arr)):\n",
    "        if arr[i] < arr[i-1]:\n",
    "            sorted = False\n",
    "    return sorted"
   ]
  },
  {
   "cell_type": "code",
   "execution_count": 2,
   "id": "e63cfa02",
   "metadata": {},
   "outputs": [
    {
     "name": "stdout",
     "output_type": "stream",
     "text": [
      "True\n"
     ]
    }
   ],
   "source": [
    "l = [1,2,4,5,7]\n",
    "print(is_sorted(l))"
   ]
  },
  {
   "cell_type": "code",
   "execution_count": 3,
   "id": "5d17fd7a",
   "metadata": {},
   "outputs": [
    {
     "data": {
      "text/plain": [
       "False"
      ]
     },
     "execution_count": 3,
     "metadata": {},
     "output_type": "execute_result"
    }
   ],
   "source": [
    "l1 = [1,2,4,5,7,3]\n",
    "is_sorted(l1)"
   ]
  },
  {
   "cell_type": "markdown",
   "id": "f5fe3e91",
   "metadata": {},
   "source": [
    "# Monkey Sort"
   ]
  },
  {
   "cell_type": "markdown",
   "id": "d5815468",
   "metadata": {},
   "source": [
    "It's time complexity is infinite"
   ]
  },
  {
   "cell_type": "code",
   "execution_count": 6,
   "id": "a653f031",
   "metadata": {},
   "outputs": [],
   "source": [
    "import random\n",
    "def monkey_sort(arr):\n",
    "    \n",
    "    while not is_sorted(arr):\n",
    "        random.shuffle(arr)\n",
    "        print(arr)\n",
    "        \n",
    "    print(arr)"
   ]
  },
  {
   "cell_type": "code",
   "execution_count": 8,
   "id": "b915ff88",
   "metadata": {},
   "outputs": [
    {
     "name": "stdout",
     "output_type": "stream",
     "text": [
      "[23, 16, 2, 54]\n",
      "[16, 2, 23, 54]\n",
      "[54, 23, 2, 16]\n",
      "[23, 54, 16, 2]\n",
      "[2, 16, 54, 23]\n",
      "[16, 2, 54, 23]\n",
      "[16, 2, 23, 54]\n",
      "[2, 54, 23, 16]\n",
      "[2, 54, 23, 16]\n",
      "[54, 23, 16, 2]\n",
      "[54, 23, 2, 16]\n",
      "[2, 54, 23, 16]\n",
      "[54, 23, 2, 16]\n",
      "[16, 2, 54, 23]\n",
      "[16, 2, 54, 23]\n",
      "[23, 2, 16, 54]\n",
      "[23, 2, 16, 54]\n",
      "[54, 16, 23, 2]\n",
      "[2, 23, 16, 54]\n",
      "[2, 54, 16, 23]\n",
      "[2, 16, 23, 54]\n",
      "[2, 16, 23, 54]\n"
     ]
    }
   ],
   "source": [
    "monkey_sort([23,16,2,54])"
   ]
  },
  {
   "cell_type": "markdown",
   "id": "41dd813a",
   "metadata": {},
   "source": [
    "# Sleep Sort "
   ]
  },
  {
   "cell_type": "markdown",
   "id": "59d10d1e",
   "metadata": {},
   "source": [
    "In sleep sort the given number is printed by it's valued seconds like if a number's value is 5 then it will be printed after 5 seconds"
   ]
  },
  {
   "cell_type": "code",
   "execution_count": null,
   "id": "0880d95a",
   "metadata": {},
   "outputs": [],
   "source": []
  },
  {
   "cell_type": "markdown",
   "id": "5706ea1c",
   "metadata": {},
   "source": [
    "# Bubble Sort"
   ]
  },
  {
   "cell_type": "markdown",
   "id": "c6ed151c",
   "metadata": {},
   "source": [
    "Worst case time complexity is O(n^2)\n",
    "\n",
    "Space Complexity is O(1)\n",
    "\n",
    "A sorting algo falls into the Adaptive sort family if it takes advantage of existing order in its inputs.\n",
    "\n",
    "Hence Bubble sort is Non-Adaptive"
   ]
  },
  {
   "cell_type": "code",
   "execution_count": 9,
   "id": "fa27d89a",
   "metadata": {},
   "outputs": [],
   "source": [
    "def bubble_sort(arr):\n",
    "    \n",
    "    for i in range(len(arr) - 1):\n",
    "        for j in range(len(arr) - 1 - i):\n",
    "            if arr[j] > arr[j+1]:\n",
    "                arr[j],arr[j+1] = arr[j+1],arr[j]\n",
    "                \n",
    "    print(arr)"
   ]
  },
  {
   "cell_type": "code",
   "execution_count": 10,
   "id": "bc0527c0",
   "metadata": {},
   "outputs": [
    {
     "name": "stdout",
     "output_type": "stream",
     "text": [
      "[12, 23, 32, 44, 53]\n"
     ]
    }
   ],
   "source": [
    "arr = [23,53,12,32,44]\n",
    "bubble_sort(arr)"
   ]
  },
  {
   "cell_type": "markdown",
   "id": "5ec88bcb",
   "metadata": {},
   "source": [
    "After applying the logic and making the bubble sort adaptive now it's :-\n",
    "\n",
    "Worst case Time complexity = O(n^2)\n",
    "Best case Time complexity = O(n)"
   ]
  },
  {
   "cell_type": "code",
   "execution_count": 1,
   "id": "e7f86b88",
   "metadata": {},
   "outputs": [],
   "source": [
    "# Making Bubble sort adaptive using flag variable\n",
    "\n",
    "def bubble_sort_adaptive(arr):\n",
    "    \n",
    "    for i in range(len(arr)-1):\n",
    "        flag = 0\n",
    "        for j in range(len(arr)-1-i):\n",
    "            if arr[j] > arr[j+1]:\n",
    "                arr[j],arr[j+1] = arr[j+1], arr[j]\n",
    "                flag = 1\n",
    "                \n",
    "        if flag == 0:\n",
    "            break\n",
    "    print(arr)"
   ]
  },
  {
   "cell_type": "markdown",
   "id": "1ed853f6",
   "metadata": {},
   "source": [
    "A sorting algorithm is said to be **stable** if two objects with equal keys appear in the same order in the sorted output as they appear in the input array to be sorted.\n",
    "\n",
    "--> Insertion sort, Merge Sort, Bubble sort,etc are Stable\n",
    "\n",
    "--> Heap Sort, Quick Sort are **NOT STABLE**\n",
    "\n",
    "inp_arr = [3,1,6,2,**6**,5]\n",
    "\n",
    "out_arr1 = [1,2,3,5,6,**6**] => Stable (key order is maintained) \n",
    "\n",
    "out_arr2 = [1,2,3,5,**6**,6] => Non Stable (key order not maintained)"
   ]
  },
  {
   "cell_type": "code",
   "execution_count": null,
   "id": "f85a7f9b",
   "metadata": {},
   "outputs": [],
   "source": []
  }
 ],
 "metadata": {
  "kernelspec": {
   "display_name": "Python 3 (ipykernel)",
   "language": "python",
   "name": "python3"
  },
  "language_info": {
   "codemirror_mode": {
    "name": "ipython",
    "version": 3
   },
   "file_extension": ".py",
   "mimetype": "text/x-python",
   "name": "python",
   "nbconvert_exporter": "python",
   "pygments_lexer": "ipython3",
   "version": "3.12.3"
  }
 },
 "nbformat": 4,
 "nbformat_minor": 5
}
